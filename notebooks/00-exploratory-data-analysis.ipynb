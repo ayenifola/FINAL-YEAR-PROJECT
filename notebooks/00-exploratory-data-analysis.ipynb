{
 "cells": [
  {
   "metadata": {},
   "cell_type": "markdown",
   "source": "# Exploratory Data Analysis",
   "id": "8c9b37eaba3f2037"
  },
  {
   "metadata": {},
   "cell_type": "markdown",
   "source": "## MQTTSET",
   "id": "841f670ac2af1477"
  },
  {
   "cell_type": "code",
   "id": "initial_id",
   "metadata": {
    "collapsed": true,
    "ExecuteTime": {
     "end_time": "2025-05-21T12:52:24.342429Z",
     "start_time": "2025-05-21T12:52:24.098381Z"
    }
   },
   "source": [
    "import kagglehub\n",
    "import polars as pl\n",
    "\n",
    "import seaborn as sns\n",
    "import matplotlib.pyplot as plt\n",
    "import numpy as np\n",
    "from pathlib import Path\n",
    "from sklearn.preprocessing import StandardScaler, LabelEncoder\n",
    "from sklearn.model_selection import train_test_split\n",
    "import matplotlib.pyplot as plt"
   ],
   "outputs": [],
   "execution_count": 1
  },
  {
   "metadata": {},
   "cell_type": "markdown",
   "source": "### Load Dataset",
   "id": "a8cff154107ac493"
  },
  {
   "metadata": {
    "ExecuteTime": {
     "end_time": "2025-05-21T12:52:26.255614Z",
     "start_time": "2025-05-21T12:52:24.528209Z"
    }
   },
   "cell_type": "code",
   "source": [
    "mqtt_path = kagglehub.dataset_download(\"cnrieiit/mqttset\")\n",
    "mqtt_df = pl.read_csv(f\"{mqtt_path}/Data/FINAL_CSV/train70.csv\", infer_schema_length=10_000)"
   ],
   "id": "fcb7bd3305b704d2",
   "outputs": [
    {
     "name": "stdout",
     "output_type": "stream",
     "text": [
      "Warning: Looks like you're using an outdated `kagglehub` version (installed: 0.3.8), please consider upgrading to the latest version (0.3.12).\n"
     ]
    }
   ],
   "execution_count": 2
  },
  {
   "metadata": {
    "ExecuteTime": {
     "end_time": "2025-05-21T12:52:26.280436Z",
     "start_time": "2025-05-21T12:52:26.271606Z"
    }
   },
   "cell_type": "code",
   "source": "mqtt_df.head()",
   "id": "59fe43fb52a2a846",
   "outputs": [
    {
     "data": {
      "text/plain": [
       "shape: (5, 34)\n",
       "┌────────────┬────────────────┬─────────┬───────────────────┬───┬──────────────────┬────────────────┬────────────────────┬────────────┐\n",
       "│ tcp.flags  ┆ tcp.time_delta ┆ tcp.len ┆ mqtt.conack.flags ┆ … ┆ mqtt.willmsg_len ┆ mqtt.willtopic ┆ mqtt.willtopic_len ┆ target     │\n",
       "│ ---        ┆ ---            ┆ ---     ┆ ---               ┆   ┆ ---              ┆ ---            ┆ ---                ┆ ---        │\n",
       "│ str        ┆ f64            ┆ i64     ┆ str               ┆   ┆ f64              ┆ f64            ┆ f64                ┆ str        │\n",
       "╞════════════╪════════════════╪═════════╪═══════════════════╪═══╪══════════════════╪════════════════╪════════════════════╪════════════╡\n",
       "│ 0x00000018 ┆ 0.000141       ┆ 13      ┆ 0                 ┆ … ┆ 0.0              ┆ 0.0            ┆ 0.0                ┆ legitimate │\n",
       "│ 0x00000018 ┆ 0.998962       ┆ 13      ┆ 0                 ┆ … ┆ 0.0              ┆ 0.0            ┆ 0.0                ┆ legitimate │\n",
       "│ 0x00000010 ┆ 0.000007       ┆ 0       ┆ 0                 ┆ … ┆ 0.0              ┆ 0.0            ┆ 0.0                ┆ legitimate │\n",
       "│ 0x00000018 ┆ 0.000141       ┆ 13      ┆ 0                 ┆ … ┆ 0.0              ┆ 0.0            ┆ 0.0                ┆ legitimate │\n",
       "│ 0x00000010 ┆ 0.000009       ┆ 0       ┆ 0                 ┆ … ┆ 0.0              ┆ 0.0            ┆ 0.0                ┆ legitimate │\n",
       "└────────────┴────────────────┴─────────┴───────────────────┴───┴──────────────────┴────────────────┴────────────────────┴────────────┘"
      ],
      "text/html": [
       "<div><style>\n",
       ".dataframe > thead > tr,\n",
       ".dataframe > tbody > tr {\n",
       "  text-align: right;\n",
       "  white-space: pre-wrap;\n",
       "}\n",
       "</style>\n",
       "<small>shape: (5, 34)</small><table border=\"1\" class=\"dataframe\"><thead><tr><th>tcp.flags</th><th>tcp.time_delta</th><th>tcp.len</th><th>mqtt.conack.flags</th><th>mqtt.conack.flags.reserved</th><th>mqtt.conack.flags.sp</th><th>mqtt.conack.val</th><th>mqtt.conflag.cleansess</th><th>mqtt.conflag.passwd</th><th>mqtt.conflag.qos</th><th>mqtt.conflag.reserved</th><th>mqtt.conflag.retain</th><th>mqtt.conflag.uname</th><th>mqtt.conflag.willflag</th><th>mqtt.conflags</th><th>mqtt.dupflag</th><th>mqtt.hdrflags</th><th>mqtt.kalive</th><th>mqtt.len</th><th>mqtt.msg</th><th>mqtt.msgid</th><th>mqtt.msgtype</th><th>mqtt.proto_len</th><th>mqtt.protoname</th><th>mqtt.qos</th><th>mqtt.retain</th><th>mqtt.sub.qos</th><th>mqtt.suback.qos</th><th>mqtt.ver</th><th>mqtt.willmsg</th><th>mqtt.willmsg_len</th><th>mqtt.willtopic</th><th>mqtt.willtopic_len</th><th>target</th></tr><tr><td>str</td><td>f64</td><td>i64</td><td>str</td><td>f64</td><td>f64</td><td>f64</td><td>f64</td><td>f64</td><td>f64</td><td>f64</td><td>f64</td><td>f64</td><td>f64</td><td>str</td><td>f64</td><td>str</td><td>f64</td><td>f64</td><td>str</td><td>f64</td><td>f64</td><td>f64</td><td>str</td><td>f64</td><td>f64</td><td>f64</td><td>f64</td><td>f64</td><td>f64</td><td>f64</td><td>f64</td><td>f64</td><td>str</td></tr></thead><tbody><tr><td>&quot;0x00000018&quot;</td><td>0.000141</td><td>13</td><td>&quot;0&quot;</td><td>0.0</td><td>0.0</td><td>0.0</td><td>0.0</td><td>0.0</td><td>0.0</td><td>0.0</td><td>0.0</td><td>0.0</td><td>0.0</td><td>&quot;0&quot;</td><td>0.0</td><td>&quot;0x00000030&quot;</td><td>0.0</td><td>11.0</td><td>&quot;32&quot;</td><td>0.0</td><td>3.0</td><td>0.0</td><td>&quot;0&quot;</td><td>0.0</td><td>0.0</td><td>0.0</td><td>0.0</td><td>0.0</td><td>0.0</td><td>0.0</td><td>0.0</td><td>0.0</td><td>&quot;legitimate&quot;</td></tr><tr><td>&quot;0x00000018&quot;</td><td>0.998962</td><td>13</td><td>&quot;0&quot;</td><td>0.0</td><td>0.0</td><td>0.0</td><td>0.0</td><td>0.0</td><td>0.0</td><td>0.0</td><td>0.0</td><td>0.0</td><td>0.0</td><td>&quot;0&quot;</td><td>0.0</td><td>&quot;0x00000030&quot;</td><td>0.0</td><td>11.0</td><td>&quot;30&quot;</td><td>0.0</td><td>3.0</td><td>0.0</td><td>&quot;0&quot;</td><td>0.0</td><td>0.0</td><td>0.0</td><td>0.0</td><td>0.0</td><td>0.0</td><td>0.0</td><td>0.0</td><td>0.0</td><td>&quot;legitimate&quot;</td></tr><tr><td>&quot;0x00000010&quot;</td><td>0.000007</td><td>0</td><td>&quot;0&quot;</td><td>0.0</td><td>0.0</td><td>0.0</td><td>0.0</td><td>0.0</td><td>0.0</td><td>0.0</td><td>0.0</td><td>0.0</td><td>0.0</td><td>&quot;0&quot;</td><td>0.0</td><td>&quot;0&quot;</td><td>0.0</td><td>0.0</td><td>&quot;0&quot;</td><td>0.0</td><td>0.0</td><td>0.0</td><td>&quot;0&quot;</td><td>0.0</td><td>0.0</td><td>0.0</td><td>0.0</td><td>0.0</td><td>0.0</td><td>0.0</td><td>0.0</td><td>0.0</td><td>&quot;legitimate&quot;</td></tr><tr><td>&quot;0x00000018&quot;</td><td>0.000141</td><td>13</td><td>&quot;0&quot;</td><td>0.0</td><td>0.0</td><td>0.0</td><td>0.0</td><td>0.0</td><td>0.0</td><td>0.0</td><td>0.0</td><td>0.0</td><td>0.0</td><td>&quot;0&quot;</td><td>0.0</td><td>&quot;0x00000030&quot;</td><td>0.0</td><td>11.0</td><td>&quot;31&quot;</td><td>0.0</td><td>3.0</td><td>0.0</td><td>&quot;0&quot;</td><td>0.0</td><td>0.0</td><td>0.0</td><td>0.0</td><td>0.0</td><td>0.0</td><td>0.0</td><td>0.0</td><td>0.0</td><td>&quot;legitimate&quot;</td></tr><tr><td>&quot;0x00000010&quot;</td><td>0.000009</td><td>0</td><td>&quot;0&quot;</td><td>0.0</td><td>0.0</td><td>0.0</td><td>0.0</td><td>0.0</td><td>0.0</td><td>0.0</td><td>0.0</td><td>0.0</td><td>0.0</td><td>&quot;0&quot;</td><td>0.0</td><td>&quot;0&quot;</td><td>0.0</td><td>0.0</td><td>&quot;0&quot;</td><td>0.0</td><td>0.0</td><td>0.0</td><td>&quot;0&quot;</td><td>0.0</td><td>0.0</td><td>0.0</td><td>0.0</td><td>0.0</td><td>0.0</td><td>0.0</td><td>0.0</td><td>0.0</td><td>&quot;legitimate&quot;</td></tr></tbody></table></div>"
      ]
     },
     "execution_count": 3,
     "metadata": {},
     "output_type": "execute_result"
    }
   ],
   "execution_count": 3
  },
  {
   "metadata": {
    "ExecuteTime": {
     "end_time": "2025-05-21T12:52:26.902740Z",
     "start_time": "2025-05-21T12:52:26.322924Z"
    }
   },
   "cell_type": "code",
   "source": "mqtt_df.describe()",
   "id": "1e3624b171067cd6",
   "outputs": [
    {
     "data": {
      "text/plain": [
       "shape: (9, 35)\n",
       "┌────────────┬────────────┬────────────────┬────────────┬───┬──────────────────┬────────────────┬────────────────────┬────────────┐\n",
       "│ statistic  ┆ tcp.flags  ┆ tcp.time_delta ┆ tcp.len    ┆ … ┆ mqtt.willmsg_len ┆ mqtt.willtopic ┆ mqtt.willtopic_len ┆ target     │\n",
       "│ ---        ┆ ---        ┆ ---            ┆ ---        ┆   ┆ ---              ┆ ---            ┆ ---                ┆ ---        │\n",
       "│ str        ┆ str        ┆ f64            ┆ f64        ┆   ┆ f64              ┆ f64            ┆ f64                ┆ str        │\n",
       "╞════════════╪════════════╪════════════════╪════════════╪═══╪══════════════════╪════════════════╪════════════════════╪════════════╡\n",
       "│ count      ┆ 8456823    ┆ 8.456823e6     ┆ 8.456823e6 ┆ … ┆ 8.456823e6       ┆ 8.456823e6     ┆ 8.456823e6         ┆ 8456823    │\n",
       "│ null_count ┆ 0          ┆ 0.0            ┆ 0.0        ┆ … ┆ 0.0              ┆ 0.0            ┆ 0.0                ┆ 0          │\n",
       "│ mean       ┆ null       ┆ 0.501038       ┆ 11.678892  ┆ … ┆ 0.0              ┆ 0.0            ┆ 0.0                ┆ null       │\n",
       "│ std        ┆ null       ┆ 3.802169       ┆ 158.644072 ┆ … ┆ 0.0              ┆ 0.0            ┆ 0.0                ┆ null       │\n",
       "│ min        ┆ 0x00000002 ┆ -0.000002      ┆ 0.0        ┆ … ┆ 0.0              ┆ 0.0            ┆ 0.0                ┆ bruteforce │\n",
       "│ 25%        ┆ null       ┆ 0.000004       ┆ 0.0        ┆ … ┆ 0.0              ┆ 0.0            ┆ 0.0                ┆ null       │\n",
       "│ 50%        ┆ null       ┆ 0.000073       ┆ 12.0       ┆ … ┆ 0.0              ┆ 0.0            ┆ 0.0                ┆ null       │\n",
       "│ 75%        ┆ null       ┆ 0.998826       ┆ 13.0       ┆ … ┆ 0.0              ┆ 0.0            ┆ 0.0                ┆ null       │\n",
       "│ max        ┆ 0x00000019 ┆ 60.001888      ┆ 32768.0    ┆ … ┆ 0.0              ┆ 0.0            ┆ 0.0                ┆ slowite    │\n",
       "└────────────┴────────────┴────────────────┴────────────┴───┴──────────────────┴────────────────┴────────────────────┴────────────┘"
      ],
      "text/html": [
       "<div><style>\n",
       ".dataframe > thead > tr,\n",
       ".dataframe > tbody > tr {\n",
       "  text-align: right;\n",
       "  white-space: pre-wrap;\n",
       "}\n",
       "</style>\n",
       "<small>shape: (9, 35)</small><table border=\"1\" class=\"dataframe\"><thead><tr><th>statistic</th><th>tcp.flags</th><th>tcp.time_delta</th><th>tcp.len</th><th>mqtt.conack.flags</th><th>mqtt.conack.flags.reserved</th><th>mqtt.conack.flags.sp</th><th>mqtt.conack.val</th><th>mqtt.conflag.cleansess</th><th>mqtt.conflag.passwd</th><th>mqtt.conflag.qos</th><th>mqtt.conflag.reserved</th><th>mqtt.conflag.retain</th><th>mqtt.conflag.uname</th><th>mqtt.conflag.willflag</th><th>mqtt.conflags</th><th>mqtt.dupflag</th><th>mqtt.hdrflags</th><th>mqtt.kalive</th><th>mqtt.len</th><th>mqtt.msg</th><th>mqtt.msgid</th><th>mqtt.msgtype</th><th>mqtt.proto_len</th><th>mqtt.protoname</th><th>mqtt.qos</th><th>mqtt.retain</th><th>mqtt.sub.qos</th><th>mqtt.suback.qos</th><th>mqtt.ver</th><th>mqtt.willmsg</th><th>mqtt.willmsg_len</th><th>mqtt.willtopic</th><th>mqtt.willtopic_len</th><th>target</th></tr><tr><td>str</td><td>str</td><td>f64</td><td>f64</td><td>str</td><td>f64</td><td>f64</td><td>f64</td><td>f64</td><td>f64</td><td>f64</td><td>f64</td><td>f64</td><td>f64</td><td>f64</td><td>str</td><td>f64</td><td>str</td><td>f64</td><td>f64</td><td>str</td><td>f64</td><td>f64</td><td>f64</td><td>str</td><td>f64</td><td>f64</td><td>f64</td><td>f64</td><td>f64</td><td>f64</td><td>f64</td><td>f64</td><td>f64</td><td>str</td></tr></thead><tbody><tr><td>&quot;count&quot;</td><td>&quot;8456823&quot;</td><td>8.456823e6</td><td>8.456823e6</td><td>&quot;8456823&quot;</td><td>8.456823e6</td><td>8.456823e6</td><td>8.456823e6</td><td>8.456823e6</td><td>8.456823e6</td><td>8.456823e6</td><td>8.456823e6</td><td>8.456823e6</td><td>8.456823e6</td><td>8.456823e6</td><td>&quot;8456823&quot;</td><td>8.456823e6</td><td>&quot;8456823&quot;</td><td>8.456823e6</td><td>8.456823e6</td><td>&quot;8456823&quot;</td><td>8.456823e6</td><td>8.456823e6</td><td>8.456823e6</td><td>&quot;8456823&quot;</td><td>8.456823e6</td><td>8.456823e6</td><td>8.456823e6</td><td>8.456823e6</td><td>8.456823e6</td><td>8.456823e6</td><td>8.456823e6</td><td>8.456823e6</td><td>8.456823e6</td><td>&quot;8456823&quot;</td></tr><tr><td>&quot;null_count&quot;</td><td>&quot;0&quot;</td><td>0.0</td><td>0.0</td><td>&quot;0&quot;</td><td>0.0</td><td>0.0</td><td>0.0</td><td>0.0</td><td>0.0</td><td>0.0</td><td>0.0</td><td>0.0</td><td>0.0</td><td>0.0</td><td>&quot;0&quot;</td><td>0.0</td><td>&quot;0&quot;</td><td>0.0</td><td>0.0</td><td>&quot;0&quot;</td><td>0.0</td><td>0.0</td><td>0.0</td><td>&quot;0&quot;</td><td>0.0</td><td>0.0</td><td>0.0</td><td>0.0</td><td>0.0</td><td>0.0</td><td>0.0</td><td>0.0</td><td>0.0</td><td>&quot;0&quot;</td></tr><tr><td>&quot;mean&quot;</td><td>null</td><td>0.501038</td><td>11.678892</td><td>null</td><td>0.0</td><td>0.0</td><td>0.000598</td><td>0.000263</td><td>0.000119</td><td>0.0</td><td>0.0</td><td>0.0</td><td>0.000119</td><td>0.0</td><td>null</td><td>0.001436</td><td>null</td><td>4.808265</td><td>7.205809</td><td>null</td><td>31.855679</td><td>2.051298</td><td>0.001053</td><td>null</td><td>0.004465</td><td>0.00001</td><td>0.0</td><td>0.0</td><td>0.001053</td><td>0.0</td><td>0.0</td><td>0.0</td><td>0.0</td><td>null</td></tr><tr><td>&quot;std&quot;</td><td>null</td><td>3.802169</td><td>158.644072</td><td>null</td><td>0.0</td><td>0.0</td><td>0.054666</td><td>0.016226</td><td>0.01089</td><td>0.0</td><td>0.0</td><td>0.0</td><td>0.010912</td><td>0.0</td><td>null</td><td>0.037864</td><td>null</td><td>560.660072</td><td>12.107938</td><td>null</td><td>421.816083</td><td>1.98635</td><td>0.064902</td><td>null</td><td>0.066668</td><td>0.003207</td><td>0.0</td><td>0.0</td><td>0.064902</td><td>0.0</td><td>0.0</td><td>0.0</td><td>0.0</td><td>null</td></tr><tr><td>&quot;min&quot;</td><td>&quot;0x00000002&quot;</td><td>-0.000002</td><td>0.0</td><td>&quot;0&quot;</td><td>0.0</td><td>0.0</td><td>0.0</td><td>0.0</td><td>0.0</td><td>0.0</td><td>0.0</td><td>0.0</td><td>0.0</td><td>0.0</td><td>&quot;0&quot;</td><td>0.0</td><td>&quot;0&quot;</td><td>0.0</td><td>0.0</td><td>&quot;0&quot;</td><td>0.0</td><td>0.0</td><td>0.0</td><td>&quot;0&quot;</td><td>0.0</td><td>0.0</td><td>0.0</td><td>0.0</td><td>0.0</td><td>0.0</td><td>0.0</td><td>0.0</td><td>0.0</td><td>&quot;bruteforce&quot;</td></tr><tr><td>&quot;25%&quot;</td><td>null</td><td>0.000004</td><td>0.0</td><td>null</td><td>0.0</td><td>0.0</td><td>0.0</td><td>0.0</td><td>0.0</td><td>0.0</td><td>0.0</td><td>0.0</td><td>0.0</td><td>0.0</td><td>null</td><td>0.0</td><td>null</td><td>0.0</td><td>0.0</td><td>null</td><td>0.0</td><td>0.0</td><td>0.0</td><td>null</td><td>0.0</td><td>0.0</td><td>0.0</td><td>0.0</td><td>0.0</td><td>0.0</td><td>0.0</td><td>0.0</td><td>0.0</td><td>null</td></tr><tr><td>&quot;50%&quot;</td><td>null</td><td>0.000073</td><td>12.0</td><td>null</td><td>0.0</td><td>0.0</td><td>0.0</td><td>0.0</td><td>0.0</td><td>0.0</td><td>0.0</td><td>0.0</td><td>0.0</td><td>0.0</td><td>null</td><td>0.0</td><td>null</td><td>0.0</td><td>10.0</td><td>null</td><td>0.0</td><td>3.0</td><td>0.0</td><td>null</td><td>0.0</td><td>0.0</td><td>0.0</td><td>0.0</td><td>0.0</td><td>0.0</td><td>0.0</td><td>0.0</td><td>0.0</td><td>null</td></tr><tr><td>&quot;75%&quot;</td><td>null</td><td>0.998826</td><td>13.0</td><td>null</td><td>0.0</td><td>0.0</td><td>0.0</td><td>0.0</td><td>0.0</td><td>0.0</td><td>0.0</td><td>0.0</td><td>0.0</td><td>0.0</td><td>null</td><td>0.0</td><td>null</td><td>0.0</td><td>11.0</td><td>null</td><td>0.0</td><td>3.0</td><td>0.0</td><td>null</td><td>0.0</td><td>0.0</td><td>0.0</td><td>0.0</td><td>0.0</td><td>0.0</td><td>0.0</td><td>0.0</td><td>0.0</td><td>null</td></tr><tr><td>&quot;max&quot;</td><td>&quot;0x00000019&quot;</td><td>60.001888</td><td>32768.0</td><td>&quot;0x00000000&quot;</td><td>0.0</td><td>0.0</td><td>5.0</td><td>1.0</td><td>1.0</td><td>0.0</td><td>0.0</td><td>0.0</td><td>1.0</td><td>0.0</td><td>&quot;0x000000c2&quot;</td><td>1.0</td><td>&quot;0x000000e0&quot;</td><td>65535.0</td><td>692.0</td><td>&quot;746573747465737474657374&quot;</td><td>9994.0</td><td>14.0</td><td>4.0</td><td>&quot;MQTT&quot;</td><td>1.0</td><td>1.0</td><td>0.0</td><td>0.0</td><td>4.0</td><td>0.0</td><td>0.0</td><td>0.0</td><td>0.0</td><td>&quot;slowite&quot;</td></tr></tbody></table></div>"
      ]
     },
     "execution_count": 4,
     "metadata": {},
     "output_type": "execute_result"
    }
   ],
   "execution_count": 4
  },
  {
   "metadata": {},
   "cell_type": "markdown",
   "source": "### Analyse Columns",
   "id": "d5788c7ce6a44dc8"
  },
  {
   "metadata": {},
   "cell_type": "markdown",
   "source": "Here, we wanna see for every column, what the data looks like? What is the data type? (float?, string?) Are any columns redundant? Meaning they have the same data for all rows? How many unique items do we have for each column?",
   "id": "94cfb7f12df74e1b"
  },
  {
   "metadata": {
    "ExecuteTime": {
     "end_time": "2025-05-21T12:52:27.022866Z",
     "start_time": "2025-05-21T12:52:27.016387Z"
    }
   },
   "cell_type": "code",
   "source": [
    "def data_structure_analysis(df: pl.DataFrame, features: list | None = None):\n",
    "    \"\"\"\n",
    "    For a given Polars DataFrame, analyzes variable types, missing values, and distribution.\n",
    "\n",
    "    Parameters:\n",
    "    ----------\n",
    "    df: pl.DataFrame\n",
    "    features: list of column names to analyze. If empty, all columns will be considered.\n",
    "\n",
    "    Returns:\n",
    "    -------\n",
    "    pl.DataFrame with structure analysis and recommendations for each feature.\n",
    "    \"\"\"\n",
    "\n",
    "    # Use all columns if features not specified\n",
    "    features = features or df.columns\n",
    "\n",
    "    # Helper function to get value densities\n",
    "    def value_densities(dataframe: pl.DataFrame, col):\n",
    "        vc = dataframe[col].value_counts(sort=True)\n",
    "        vc = vc.with_columns((pl.col(\"count\") / pl.col(\"count\").sum()).alias(\"density\"))\n",
    "        vc = vc.with_columns((pl.col(\"density\") * 100).round(3).alias(\"density\"))\n",
    "        return vc[\"density\"].to_list()\n",
    "\n",
    "    # Collect column-wise stats\n",
    "    result_data = []\n",
    "\n",
    "    for col in features:\n",
    "        series = df[col]\n",
    "        dtype = series.dtype\n",
    "\n",
    "        total = df.height\n",
    "        missing = df.select(pl.col(col).is_null().sum())[0, 0]\n",
    "        observed = total - missing\n",
    "        missing_rate = round((missing / total) * 100, 2) if total > 0 else 0.0\n",
    "\n",
    "        nunique = df.select(pl.col(col).n_unique())[0, 0]\n",
    "\n",
    "        # Distribution densities\n",
    "        densities = value_densities(df, col)\n",
    "        first_density = densities[0]\n",
    "        second_density = densities[1] if len(densities) > 1 else 0.0\n",
    "        diff_density = round(first_density - second_density, 3)\n",
    "\n",
    "        # Determine feature type\n",
    "        if nunique <= 1:\n",
    "            feature_type = \"Superfluous\"\n",
    "        elif nunique == 2:\n",
    "            feature_type = \"Flag\"\n",
    "        elif 2 < nunique <= 10:\n",
    "            feature_type = \"Categorical\"\n",
    "        else:\n",
    "            feature_type = \"Categorical - High Cardinality\"\n",
    "\n",
    "        result_data.append(\n",
    "            {\n",
    "                \"Feature\": col,\n",
    "                \"Observations\": observed,\n",
    "                \"Missing\": missing,\n",
    "                \"Missing rate (%)\": missing_rate,\n",
    "                \"1st value density (%)\": first_density,\n",
    "                \"1st to 2nd value density difference (%)\": diff_density,\n",
    "                \"Variable type\": str(dtype),\n",
    "                \"Unique values\": nunique,\n",
    "                \"Feature type\": feature_type,\n",
    "            }\n",
    "        )\n",
    "\n",
    "    # Create Polars DataFrame and sort it\n",
    "    result_df = pl.DataFrame(result_data)\n",
    "    result_df = result_df.sort([\"Feature type\", \"Unique values\"])\n",
    "\n",
    "    return result_df"
   ],
   "id": "c09db92a520aba78",
   "outputs": [],
   "execution_count": 5
  },
  {
   "metadata": {
    "ExecuteTime": {
     "end_time": "2025-05-21T12:52:31.590946Z",
     "start_time": "2025-05-21T12:52:27.107351Z"
    }
   },
   "cell_type": "code",
   "source": "mqtt_columns_df = data_structure_analysis(mqtt_df)",
   "id": "ad3ed967a928056a",
   "outputs": [],
   "execution_count": 6
  },
  {
   "metadata": {
    "ExecuteTime": {
     "end_time": "2025-05-21T12:52:31.619208Z",
     "start_time": "2025-05-21T12:52:31.610509Z"
    }
   },
   "cell_type": "code",
   "source": "mqtt_columns_df",
   "id": "270d67eb9ff35008",
   "outputs": [
    {
     "data": {
      "text/plain": [
       "shape: (34, 9)\n",
       "┌────────────────────────────┬──────────────┬─────────┬──────────────────┬───┬─────────────────────────────────┬───────────────┬───────────────┬────────────────────────────────┐\n",
       "│ Feature                    ┆ Observations ┆ Missing ┆ Missing rate (%) ┆ … ┆ 1st to 2nd value density diffe… ┆ Variable type ┆ Unique values ┆ Feature type                   │\n",
       "│ ---                        ┆ ---          ┆ ---     ┆ ---              ┆   ┆ ---                             ┆ ---           ┆ ---           ┆ ---                            │\n",
       "│ str                        ┆ i64          ┆ i64     ┆ f64              ┆   ┆ f64                             ┆ str           ┆ i64           ┆ str                            │\n",
       "╞════════════════════════════╪══════════════╪═════════╪══════════════════╪═══╪═════════════════════════════════╪═══════════════╪═══════════════╪════════════════════════════════╡\n",
       "│ mqtt.conflags              ┆ 8456823      ┆ 0       ┆ 0.0              ┆ … ┆ 99.96                           ┆ String        ┆ 4             ┆ Categorical                    │\n",
       "│ target                     ┆ 8456823      ┆ 0       ┆ 0.0              ┆ … ┆ 97.552                          ┆ String        ┆ 6             ┆ Categorical                    │\n",
       "│ mqtt.kalive                ┆ 8456823      ┆ 0       ┆ 0.0              ┆ … ┆ 99.956                          ┆ Float64       ┆ 7             ┆ Categorical                    │\n",
       "│ tcp.flags                  ┆ 8456823      ┆ 0       ┆ 0.0              ┆ … ┆ 25.76                           ┆ String        ┆ 8             ┆ Categorical                    │\n",
       "│ mqtt.msgtype               ┆ 8456823      ┆ 0       ┆ 0.0              ┆ … ┆ 23.957                          ┆ Float64       ┆ 11            ┆ Categorical - High Cardinality │\n",
       "│ …                          ┆ …            ┆ …       ┆ …                ┆ … ┆ …                               ┆ …             ┆ …             ┆ …                              │\n",
       "│ mqtt.willmsg               ┆ 8456823      ┆ 0       ┆ 0.0              ┆ … ┆ 100.0                           ┆ Float64       ┆ 1             ┆ Superfluous                    │\n",
       "│ mqtt.willmsg_len           ┆ 8456823      ┆ 0       ┆ 0.0              ┆ … ┆ 100.0                           ┆ Float64       ┆ 1             ┆ Superfluous                    │\n",
       "│ mqtt.willtopic             ┆ 8456823      ┆ 0       ┆ 0.0              ┆ … ┆ 100.0                           ┆ Float64       ┆ 1             ┆ Superfluous                    │\n",
       "│ mqtt.willtopic_len         ┆ 8456823      ┆ 0       ┆ 0.0              ┆ … ┆ 100.0                           ┆ Float64       ┆ 1             ┆ Superfluous                    │\n",
       "│ mqtt.conack.flags.reserved ┆ 8456823      ┆ 0       ┆ 0.0              ┆ … ┆ 100.0                           ┆ Float64       ┆ 1             ┆ Superfluous                    │\n",
       "└────────────────────────────┴──────────────┴─────────┴──────────────────┴───┴─────────────────────────────────┴───────────────┴───────────────┴────────────────────────────────┘"
      ],
      "text/html": [
       "<div><style>\n",
       ".dataframe > thead > tr,\n",
       ".dataframe > tbody > tr {\n",
       "  text-align: right;\n",
       "  white-space: pre-wrap;\n",
       "}\n",
       "</style>\n",
       "<small>shape: (34, 9)</small><table border=\"1\" class=\"dataframe\"><thead><tr><th>Feature</th><th>Observations</th><th>Missing</th><th>Missing rate (%)</th><th>1st value density (%)</th><th>1st to 2nd value density difference (%)</th><th>Variable type</th><th>Unique values</th><th>Feature type</th></tr><tr><td>str</td><td>i64</td><td>i64</td><td>f64</td><td>f64</td><td>f64</td><td>str</td><td>i64</td><td>str</td></tr></thead><tbody><tr><td>&quot;mqtt.conflags&quot;</td><td>8456823</td><td>0</td><td>0.0</td><td>99.974</td><td>99.96</td><td>&quot;String&quot;</td><td>4</td><td>&quot;Categorical&quot;</td></tr><tr><td>&quot;target&quot;</td><td>8456823</td><td>0</td><td>0.0</td><td>98.63</td><td>97.552</td><td>&quot;String&quot;</td><td>6</td><td>&quot;Categorical&quot;</td></tr><tr><td>&quot;mqtt.kalive&quot;</td><td>8456823</td><td>0</td><td>0.0</td><td>99.974</td><td>99.956</td><td>&quot;Float64&quot;</td><td>7</td><td>&quot;Categorical&quot;</td></tr><tr><td>&quot;tcp.flags&quot;</td><td>8456823</td><td>0</td><td>0.0</td><td>62.823</td><td>25.76</td><td>&quot;String&quot;</td><td>8</td><td>&quot;Categorical&quot;</td></tr><tr><td>&quot;mqtt.msgtype&quot;</td><td>8456823</td><td>0</td><td>0.0</td><td>60.953</td><td>23.957</td><td>&quot;Float64&quot;</td><td>11</td><td>&quot;Categorical - High Cardinality&quot;</td></tr><tr><td>&hellip;</td><td>&hellip;</td><td>&hellip;</td><td>&hellip;</td><td>&hellip;</td><td>&hellip;</td><td>&hellip;</td><td>&hellip;</td><td>&hellip;</td></tr><tr><td>&quot;mqtt.willmsg&quot;</td><td>8456823</td><td>0</td><td>0.0</td><td>100.0</td><td>100.0</td><td>&quot;Float64&quot;</td><td>1</td><td>&quot;Superfluous&quot;</td></tr><tr><td>&quot;mqtt.willmsg_len&quot;</td><td>8456823</td><td>0</td><td>0.0</td><td>100.0</td><td>100.0</td><td>&quot;Float64&quot;</td><td>1</td><td>&quot;Superfluous&quot;</td></tr><tr><td>&quot;mqtt.willtopic&quot;</td><td>8456823</td><td>0</td><td>0.0</td><td>100.0</td><td>100.0</td><td>&quot;Float64&quot;</td><td>1</td><td>&quot;Superfluous&quot;</td></tr><tr><td>&quot;mqtt.willtopic_len&quot;</td><td>8456823</td><td>0</td><td>0.0</td><td>100.0</td><td>100.0</td><td>&quot;Float64&quot;</td><td>1</td><td>&quot;Superfluous&quot;</td></tr><tr><td>&quot;mqtt.conack.flags.reserved&quot;</td><td>8456823</td><td>0</td><td>0.0</td><td>100.0</td><td>100.0</td><td>&quot;Float64&quot;</td><td>1</td><td>&quot;Superfluous&quot;</td></tr></tbody></table></div>"
      ]
     },
     "execution_count": 7,
     "metadata": {},
     "output_type": "execute_result"
    }
   ],
   "execution_count": 7
  },
  {
   "metadata": {},
   "cell_type": "markdown",
   "source": "#### Remove rows that are superfluous (have only one unique type). That won't help us.",
   "id": "524ee075568c106c"
  },
  {
   "metadata": {
    "ExecuteTime": {
     "end_time": "2025-05-21T12:52:31.675472Z",
     "start_time": "2025-05-21T12:52:31.665780Z"
    }
   },
   "cell_type": "code",
   "source": [
    "superfluous_df = mqtt_columns_df.filter(pl.col(\"Feature type\") == \"Superfluous\")\n",
    "print(\"Number of Superfluous columns:\", len(superfluous_df))\n",
    "superfluous_df[\"Feature\"]"
   ],
   "id": "4bb5f72723017e8a",
   "outputs": [
    {
     "name": "stdout",
     "output_type": "stream",
     "text": [
      "Number of Superfluous columns: 12\n"
     ]
    },
    {
     "data": {
      "text/plain": [
       "shape: (12,)\n",
       "Series: 'Feature' [str]\n",
       "[\n",
       "\t\"mqtt.conflag.qos\"\n",
       "\t\"mqtt.conack.flags.sp\"\n",
       "\t\"mqtt.conflag.willflag\"\n",
       "\t\"mqtt.conflag.retain\"\n",
       "\t\"mqtt.sub.qos\"\n",
       "\t…\n",
       "\t\"mqtt.willmsg\"\n",
       "\t\"mqtt.willmsg_len\"\n",
       "\t\"mqtt.willtopic\"\n",
       "\t\"mqtt.willtopic_len\"\n",
       "\t\"mqtt.conack.flags.reserved\"\n",
       "]"
      ],
      "text/html": [
       "<div><style>\n",
       ".dataframe > thead > tr,\n",
       ".dataframe > tbody > tr {\n",
       "  text-align: right;\n",
       "  white-space: pre-wrap;\n",
       "}\n",
       "</style>\n",
       "<small>shape: (12,)</small><table border=\"1\" class=\"dataframe\"><thead><tr><th>Feature</th></tr><tr><td>str</td></tr></thead><tbody><tr><td>&quot;mqtt.conflag.qos&quot;</td></tr><tr><td>&quot;mqtt.conack.flags.sp&quot;</td></tr><tr><td>&quot;mqtt.conflag.willflag&quot;</td></tr><tr><td>&quot;mqtt.conflag.retain&quot;</td></tr><tr><td>&quot;mqtt.sub.qos&quot;</td></tr><tr><td>&hellip;</td></tr><tr><td>&quot;mqtt.willmsg&quot;</td></tr><tr><td>&quot;mqtt.willmsg_len&quot;</td></tr><tr><td>&quot;mqtt.willtopic&quot;</td></tr><tr><td>&quot;mqtt.willtopic_len&quot;</td></tr><tr><td>&quot;mqtt.conack.flags.reserved&quot;</td></tr></tbody></table></div>"
      ]
     },
     "execution_count": 8,
     "metadata": {},
     "output_type": "execute_result"
    }
   ],
   "execution_count": 8
  },
  {
   "metadata": {
    "ExecuteTime": {
     "end_time": "2025-05-21T12:52:31.748541Z",
     "start_time": "2025-05-21T12:52:31.738747Z"
    }
   },
   "cell_type": "code",
   "source": [
    "superfluous_columns = mqtt_columns_df.filter(pl.col(\"Feature type\") == \"Superfluous\")[\n",
    "    \"Feature\"\n",
    "].to_list()\n",
    "mqtt_df = mqtt_df.select(pl.exclude(superfluous_columns))\n",
    "print(\"Number of columns:\", len(mqtt_df.columns))"
   ],
   "id": "a9ac6e569e09cf4c",
   "outputs": [
    {
     "name": "stdout",
     "output_type": "stream",
     "text": [
      "Number of columns: 22\n"
     ]
    }
   ],
   "execution_count": 9
  },
  {
   "metadata": {},
   "cell_type": "markdown",
   "source": "#### Inspects Possible Flags Columns",
   "id": "6df16d720aba8a36"
  },
  {
   "metadata": {
    "ExecuteTime": {
     "end_time": "2025-05-21T12:52:31.805207Z",
     "start_time": "2025-05-21T12:52:31.798745Z"
    }
   },
   "cell_type": "code",
   "source": "mqtt_df.head()",
   "id": "a447fce4184530b8",
   "outputs": [
    {
     "data": {
      "text/plain": [
       "shape: (5, 22)\n",
       "┌────────────┬────────────────┬─────────┬───────────────────┬───┬──────────┬─────────────┬──────────┬────────────┐\n",
       "│ tcp.flags  ┆ tcp.time_delta ┆ tcp.len ┆ mqtt.conack.flags ┆ … ┆ mqtt.qos ┆ mqtt.retain ┆ mqtt.ver ┆ target     │\n",
       "│ ---        ┆ ---            ┆ ---     ┆ ---               ┆   ┆ ---      ┆ ---         ┆ ---      ┆ ---        │\n",
       "│ str        ┆ f64            ┆ i64     ┆ str               ┆   ┆ f64      ┆ f64         ┆ f64      ┆ str        │\n",
       "╞════════════╪════════════════╪═════════╪═══════════════════╪═══╪══════════╪═════════════╪══════════╪════════════╡\n",
       "│ 0x00000018 ┆ 0.000141       ┆ 13      ┆ 0                 ┆ … ┆ 0.0      ┆ 0.0         ┆ 0.0      ┆ legitimate │\n",
       "│ 0x00000018 ┆ 0.998962       ┆ 13      ┆ 0                 ┆ … ┆ 0.0      ┆ 0.0         ┆ 0.0      ┆ legitimate │\n",
       "│ 0x00000010 ┆ 0.000007       ┆ 0       ┆ 0                 ┆ … ┆ 0.0      ┆ 0.0         ┆ 0.0      ┆ legitimate │\n",
       "│ 0x00000018 ┆ 0.000141       ┆ 13      ┆ 0                 ┆ … ┆ 0.0      ┆ 0.0         ┆ 0.0      ┆ legitimate │\n",
       "│ 0x00000010 ┆ 0.000009       ┆ 0       ┆ 0                 ┆ … ┆ 0.0      ┆ 0.0         ┆ 0.0      ┆ legitimate │\n",
       "└────────────┴────────────────┴─────────┴───────────────────┴───┴──────────┴─────────────┴──────────┴────────────┘"
      ],
      "text/html": [
       "<div><style>\n",
       ".dataframe > thead > tr,\n",
       ".dataframe > tbody > tr {\n",
       "  text-align: right;\n",
       "  white-space: pre-wrap;\n",
       "}\n",
       "</style>\n",
       "<small>shape: (5, 22)</small><table border=\"1\" class=\"dataframe\"><thead><tr><th>tcp.flags</th><th>tcp.time_delta</th><th>tcp.len</th><th>mqtt.conack.flags</th><th>mqtt.conack.val</th><th>mqtt.conflag.cleansess</th><th>mqtt.conflag.passwd</th><th>mqtt.conflag.uname</th><th>mqtt.conflags</th><th>mqtt.dupflag</th><th>mqtt.hdrflags</th><th>mqtt.kalive</th><th>mqtt.len</th><th>mqtt.msg</th><th>mqtt.msgid</th><th>mqtt.msgtype</th><th>mqtt.proto_len</th><th>mqtt.protoname</th><th>mqtt.qos</th><th>mqtt.retain</th><th>mqtt.ver</th><th>target</th></tr><tr><td>str</td><td>f64</td><td>i64</td><td>str</td><td>f64</td><td>f64</td><td>f64</td><td>f64</td><td>str</td><td>f64</td><td>str</td><td>f64</td><td>f64</td><td>str</td><td>f64</td><td>f64</td><td>f64</td><td>str</td><td>f64</td><td>f64</td><td>f64</td><td>str</td></tr></thead><tbody><tr><td>&quot;0x00000018&quot;</td><td>0.000141</td><td>13</td><td>&quot;0&quot;</td><td>0.0</td><td>0.0</td><td>0.0</td><td>0.0</td><td>&quot;0&quot;</td><td>0.0</td><td>&quot;0x00000030&quot;</td><td>0.0</td><td>11.0</td><td>&quot;32&quot;</td><td>0.0</td><td>3.0</td><td>0.0</td><td>&quot;0&quot;</td><td>0.0</td><td>0.0</td><td>0.0</td><td>&quot;legitimate&quot;</td></tr><tr><td>&quot;0x00000018&quot;</td><td>0.998962</td><td>13</td><td>&quot;0&quot;</td><td>0.0</td><td>0.0</td><td>0.0</td><td>0.0</td><td>&quot;0&quot;</td><td>0.0</td><td>&quot;0x00000030&quot;</td><td>0.0</td><td>11.0</td><td>&quot;30&quot;</td><td>0.0</td><td>3.0</td><td>0.0</td><td>&quot;0&quot;</td><td>0.0</td><td>0.0</td><td>0.0</td><td>&quot;legitimate&quot;</td></tr><tr><td>&quot;0x00000010&quot;</td><td>0.000007</td><td>0</td><td>&quot;0&quot;</td><td>0.0</td><td>0.0</td><td>0.0</td><td>0.0</td><td>&quot;0&quot;</td><td>0.0</td><td>&quot;0&quot;</td><td>0.0</td><td>0.0</td><td>&quot;0&quot;</td><td>0.0</td><td>0.0</td><td>0.0</td><td>&quot;0&quot;</td><td>0.0</td><td>0.0</td><td>0.0</td><td>&quot;legitimate&quot;</td></tr><tr><td>&quot;0x00000018&quot;</td><td>0.000141</td><td>13</td><td>&quot;0&quot;</td><td>0.0</td><td>0.0</td><td>0.0</td><td>0.0</td><td>&quot;0&quot;</td><td>0.0</td><td>&quot;0x00000030&quot;</td><td>0.0</td><td>11.0</td><td>&quot;31&quot;</td><td>0.0</td><td>3.0</td><td>0.0</td><td>&quot;0&quot;</td><td>0.0</td><td>0.0</td><td>0.0</td><td>&quot;legitimate&quot;</td></tr><tr><td>&quot;0x00000010&quot;</td><td>0.000009</td><td>0</td><td>&quot;0&quot;</td><td>0.0</td><td>0.0</td><td>0.0</td><td>0.0</td><td>&quot;0&quot;</td><td>0.0</td><td>&quot;0&quot;</td><td>0.0</td><td>0.0</td><td>&quot;0&quot;</td><td>0.0</td><td>0.0</td><td>0.0</td><td>&quot;0&quot;</td><td>0.0</td><td>0.0</td><td>0.0</td><td>&quot;legitimate&quot;</td></tr></tbody></table></div>"
      ]
     },
     "execution_count": 10,
     "metadata": {},
     "output_type": "execute_result"
    }
   ],
   "execution_count": 10
  },
  {
   "metadata": {
    "ExecuteTime": {
     "end_time": "2025-05-21T12:52:31.921796Z",
     "start_time": "2025-05-21T12:52:31.885204Z"
    }
   },
   "cell_type": "code",
   "source": [
    "flags_df = mqtt_columns_df.filter(\n",
    "    pl.col(\"Feature\").str.ends_with(\"flags\") | (pl.col(\"Feature type\") == \"Flag\")\n",
    ").sort(\"Unique values\", descending=True)\n",
    "print(\"Number of Flag columns:\", len(flags_df))\n",
    "flags_df[[\"Feature\", \"Variable type\", \"Unique values\", \"Feature type\"]]"
   ],
   "id": "3d72ef41f9686a49",
   "outputs": [
    {
     "name": "stdout",
     "output_type": "stream",
     "text": [
      "Number of Flag columns: 14\n"
     ]
    },
    {
     "data": {
      "text/plain": [
       "shape: (14, 4)\n",
       "┌────────────────────────┬───────────────┬───────────────┬────────────────────────────────┐\n",
       "│ Feature                ┆ Variable type ┆ Unique values ┆ Feature type                   │\n",
       "│ ---                    ┆ ---           ┆ ---           ┆ ---                            │\n",
       "│ str                    ┆ str           ┆ i64           ┆ str                            │\n",
       "╞════════════════════════╪═══════════════╪═══════════════╪════════════════════════════════╡\n",
       "│ mqtt.hdrflags          ┆ String        ┆ 14            ┆ Categorical - High Cardinality │\n",
       "│ tcp.flags              ┆ String        ┆ 8             ┆ Categorical                    │\n",
       "│ mqtt.conflags          ┆ String        ┆ 4             ┆ Categorical                    │\n",
       "│ mqtt.conflag.passwd    ┆ Float64       ┆ 2             ┆ Flag                           │\n",
       "│ mqtt.proto_len         ┆ Float64       ┆ 2             ┆ Flag                           │\n",
       "│ …                      ┆ …             ┆ …             ┆ …                              │\n",
       "│ mqtt.dupflag           ┆ Float64       ┆ 2             ┆ Flag                           │\n",
       "│ mqtt.conack.flags      ┆ String        ┆ 2             ┆ Flag                           │\n",
       "│ mqtt.conflag.cleansess ┆ Float64       ┆ 2             ┆ Flag                           │\n",
       "│ mqtt.conack.val        ┆ Float64       ┆ 2             ┆ Flag                           │\n",
       "│ mqtt.protoname         ┆ String        ┆ 2             ┆ Flag                           │\n",
       "└────────────────────────┴───────────────┴───────────────┴────────────────────────────────┘"
      ],
      "text/html": [
       "<div><style>\n",
       ".dataframe > thead > tr,\n",
       ".dataframe > tbody > tr {\n",
       "  text-align: right;\n",
       "  white-space: pre-wrap;\n",
       "}\n",
       "</style>\n",
       "<small>shape: (14, 4)</small><table border=\"1\" class=\"dataframe\"><thead><tr><th>Feature</th><th>Variable type</th><th>Unique values</th><th>Feature type</th></tr><tr><td>str</td><td>str</td><td>i64</td><td>str</td></tr></thead><tbody><tr><td>&quot;mqtt.hdrflags&quot;</td><td>&quot;String&quot;</td><td>14</td><td>&quot;Categorical - High Cardinality&quot;</td></tr><tr><td>&quot;tcp.flags&quot;</td><td>&quot;String&quot;</td><td>8</td><td>&quot;Categorical&quot;</td></tr><tr><td>&quot;mqtt.conflags&quot;</td><td>&quot;String&quot;</td><td>4</td><td>&quot;Categorical&quot;</td></tr><tr><td>&quot;mqtt.conflag.passwd&quot;</td><td>&quot;Float64&quot;</td><td>2</td><td>&quot;Flag&quot;</td></tr><tr><td>&quot;mqtt.proto_len&quot;</td><td>&quot;Float64&quot;</td><td>2</td><td>&quot;Flag&quot;</td></tr><tr><td>&hellip;</td><td>&hellip;</td><td>&hellip;</td><td>&hellip;</td></tr><tr><td>&quot;mqtt.dupflag&quot;</td><td>&quot;Float64&quot;</td><td>2</td><td>&quot;Flag&quot;</td></tr><tr><td>&quot;mqtt.conack.flags&quot;</td><td>&quot;String&quot;</td><td>2</td><td>&quot;Flag&quot;</td></tr><tr><td>&quot;mqtt.conflag.cleansess&quot;</td><td>&quot;Float64&quot;</td><td>2</td><td>&quot;Flag&quot;</td></tr><tr><td>&quot;mqtt.conack.val&quot;</td><td>&quot;Float64&quot;</td><td>2</td><td>&quot;Flag&quot;</td></tr><tr><td>&quot;mqtt.protoname&quot;</td><td>&quot;String&quot;</td><td>2</td><td>&quot;Flag&quot;</td></tr></tbody></table></div>"
      ]
     },
     "execution_count": 11,
     "metadata": {},
     "output_type": "execute_result"
    }
   ],
   "execution_count": 11
  },
  {
   "metadata": {},
   "cell_type": "markdown",
   "source": "`mqtt.hdrflags`, `tcg.flags`, `mqtt.conflags`, `mqtt.conack.flags`, and `mqtt.protoname` are strings, the rest as Float64. Let's take a look at these columns  with string variable type. I suspect they are hex string and can be converted to int.",
   "id": "8ff31b56a8b13ac9"
  },
  {
   "metadata": {
    "ExecuteTime": {
     "end_time": "2025-05-21T12:52:31.992154Z",
     "start_time": "2025-05-21T12:52:31.984861Z"
    }
   },
   "cell_type": "code",
   "source": [
    "string_flag_cols = flags_df.filter(pl.col(\"Variable type\") == \"String\")[\"Feature\"]\n",
    "mqtt_df[string_flag_cols].head()"
   ],
   "id": "d16e6bc190523d52",
   "outputs": [
    {
     "data": {
      "text/plain": [
       "shape: (5, 5)\n",
       "┌───────────────┬────────────┬───────────────┬───────────────────┬────────────────┐\n",
       "│ mqtt.hdrflags ┆ tcp.flags  ┆ mqtt.conflags ┆ mqtt.conack.flags ┆ mqtt.protoname │\n",
       "│ ---           ┆ ---        ┆ ---           ┆ ---               ┆ ---            │\n",
       "│ str           ┆ str        ┆ str           ┆ str               ┆ str            │\n",
       "╞═══════════════╪════════════╪═══════════════╪═══════════════════╪════════════════╡\n",
       "│ 0x00000030    ┆ 0x00000018 ┆ 0             ┆ 0                 ┆ 0              │\n",
       "│ 0x00000030    ┆ 0x00000018 ┆ 0             ┆ 0                 ┆ 0              │\n",
       "│ 0             ┆ 0x00000010 ┆ 0             ┆ 0                 ┆ 0              │\n",
       "│ 0x00000030    ┆ 0x00000018 ┆ 0             ┆ 0                 ┆ 0              │\n",
       "│ 0             ┆ 0x00000010 ┆ 0             ┆ 0                 ┆ 0              │\n",
       "└───────────────┴────────────┴───────────────┴───────────────────┴────────────────┘"
      ],
      "text/html": [
       "<div><style>\n",
       ".dataframe > thead > tr,\n",
       ".dataframe > tbody > tr {\n",
       "  text-align: right;\n",
       "  white-space: pre-wrap;\n",
       "}\n",
       "</style>\n",
       "<small>shape: (5, 5)</small><table border=\"1\" class=\"dataframe\"><thead><tr><th>mqtt.hdrflags</th><th>tcp.flags</th><th>mqtt.conflags</th><th>mqtt.conack.flags</th><th>mqtt.protoname</th></tr><tr><td>str</td><td>str</td><td>str</td><td>str</td><td>str</td></tr></thead><tbody><tr><td>&quot;0x00000030&quot;</td><td>&quot;0x00000018&quot;</td><td>&quot;0&quot;</td><td>&quot;0&quot;</td><td>&quot;0&quot;</td></tr><tr><td>&quot;0x00000030&quot;</td><td>&quot;0x00000018&quot;</td><td>&quot;0&quot;</td><td>&quot;0&quot;</td><td>&quot;0&quot;</td></tr><tr><td>&quot;0&quot;</td><td>&quot;0x00000010&quot;</td><td>&quot;0&quot;</td><td>&quot;0&quot;</td><td>&quot;0&quot;</td></tr><tr><td>&quot;0x00000030&quot;</td><td>&quot;0x00000018&quot;</td><td>&quot;0&quot;</td><td>&quot;0&quot;</td><td>&quot;0&quot;</td></tr><tr><td>&quot;0&quot;</td><td>&quot;0x00000010&quot;</td><td>&quot;0&quot;</td><td>&quot;0&quot;</td><td>&quot;0&quot;</td></tr></tbody></table></div>"
      ]
     },
     "execution_count": 12,
     "metadata": {},
     "output_type": "execute_result"
    }
   ],
   "execution_count": 12
  },
  {
   "metadata": {
    "ExecuteTime": {
     "end_time": "2025-05-21T12:52:33.067231Z",
     "start_time": "2025-05-21T12:52:32.120225Z"
    }
   },
   "cell_type": "code",
   "source": [
    "for col in string_flag_cols:\n",
    "    print(f\"Value counts for column '{col}':\")\n",
    "    print(mqtt_df[col].value_counts().sort(by=col))"
   ],
   "id": "9506140933d329e4",
   "outputs": [
    {
     "name": "stdout",
     "output_type": "stream",
     "text": [
      "Value counts for column 'mqtt.hdrflags':\n",
      "shape: (14, 2)\n",
      "┌───────────────┬─────────┐\n",
      "│ mqtt.hdrflags ┆ count   │\n",
      "│ ---           ┆ ---     │\n",
      "│ str           ┆ u32     │\n",
      "╞═══════════════╪═════════╡\n",
      "│ 0             ┆ 3128685 │\n",
      "│ 0x00000010    ┆ 2227    │\n",
      "│ 0x00000020    ┆ 2226    │\n",
      "│ 0x00000030    ┆ 5116816 │\n",
      "│ 0x00000031    ┆ 87      │\n",
      "│ …             ┆ …       │\n",
      "│ 0x00000082    ┆ 65      │\n",
      "│ 0x00000090    ┆ 65      │\n",
      "│ 0x000000c0    ┆ 70592   │\n",
      "│ 0x000000d0    ┆ 70592   │\n",
      "│ 0x000000e0    ┆ 3       │\n",
      "└───────────────┴─────────┘\n",
      "Value counts for column 'tcp.flags':\n",
      "shape: (8, 2)\n",
      "┌────────────┬─────────┐\n",
      "│ tcp.flags  ┆ count   │\n",
      "│ ---        ┆ ---     │\n",
      "│ str        ┆ u32     │\n",
      "╞════════════╪═════════╡\n",
      "│ 0x00000002 ┆ 2574    │\n",
      "│ 0x00000004 ┆ 1087    │\n",
      "│ 0x00000010 ┆ 3134317 │\n",
      "│ 0x00000011 ┆ 2932    │\n",
      "│ 0x00000012 ┆ 2574    │\n",
      "│ 0x00000014 ┆ 28      │\n",
      "│ 0x00000018 ┆ 5312797 │\n",
      "│ 0x00000019 ┆ 514     │\n",
      "└────────────┴─────────┘\n",
      "Value counts for column 'mqtt.conflags':\n",
      "shape: (4, 2)\n",
      "┌───────────────┬─────────┐\n",
      "│ mqtt.conflags ┆ count   │\n",
      "│ ---           ┆ ---     │\n",
      "│ str           ┆ u32     │\n",
      "╞═══════════════╪═════════╡\n",
      "│ 0             ┆ 8454596 │\n",
      "│ 0x00000002    ┆ 1220    │\n",
      "│ 0x00000082    ┆ 4       │\n",
      "│ 0x000000c2    ┆ 1003    │\n",
      "└───────────────┴─────────┘\n",
      "Value counts for column 'mqtt.conack.flags':\n",
      "shape: (2, 2)\n",
      "┌───────────────────┬─────────┐\n",
      "│ mqtt.conack.flags ┆ count   │\n",
      "│ ---               ┆ ---     │\n",
      "│ str               ┆ u32     │\n",
      "╞═══════════════════╪═════════╡\n",
      "│ 0                 ┆ 8454597 │\n",
      "│ 0x00000000        ┆ 2226    │\n",
      "└───────────────────┴─────────┘\n",
      "Value counts for column 'mqtt.protoname':\n",
      "shape: (2, 2)\n",
      "┌────────────────┬─────────┐\n",
      "│ mqtt.protoname ┆ count   │\n",
      "│ ---            ┆ ---     │\n",
      "│ str            ┆ u32     │\n",
      "╞════════════════╪═════════╡\n",
      "│ 0              ┆ 8454596 │\n",
      "│ MQTT           ┆ 2227    │\n",
      "└────────────────┴─────────┘\n"
     ]
    }
   ],
   "execution_count": 13
  },
  {
   "metadata": {},
   "cell_type": "markdown",
   "source": "If you peek, `mqtt.protoname` has two values (`0`, and `MQTT`) and is not hex, while the others are hexstrings.",
   "id": "4f0501cba9713145"
  },
  {
   "metadata": {
    "ExecuteTime": {
     "end_time": "2025-05-21T12:52:39.429103Z",
     "start_time": "2025-05-21T12:52:33.105454Z"
    }
   },
   "cell_type": "code",
   "source": [
    "mqtt_df = mqtt_df.with_columns(\n",
    "    (\n",
    "        (\n",
    "            pl.col(col).map_elements(lambda x: int(x, 16), return_dtype=pl.Int64).alias(col)\n",
    "            if col != \"mqtt.protoname\"\n",
    "            else (pl.col(col) == \"MQTT\").alias(\"is_mqtt_proto\")\n",
    "        )\n",
    "        for col in string_flag_cols\n",
    "    )\n",
    ")\n",
    "# We remove the old \"mqtt.protoname\" column because we now using \"is_mqtt_proto\"\n",
    "mqtt_df = mqtt_df.select(pl.exclude([\"mqtt.protoname\"]))\n",
    "mqtt_df.head()"
   ],
   "id": "d07cc00ac2b60d1",
   "outputs": [
    {
     "data": {
      "text/plain": [
       "shape: (5, 22)\n",
       "┌───────────┬────────────────┬─────────┬───────────────────┬───┬─────────────┬──────────┬────────────┬───────────────┐\n",
       "│ tcp.flags ┆ tcp.time_delta ┆ tcp.len ┆ mqtt.conack.flags ┆ … ┆ mqtt.retain ┆ mqtt.ver ┆ target     ┆ is_mqtt_proto │\n",
       "│ ---       ┆ ---            ┆ ---     ┆ ---               ┆   ┆ ---         ┆ ---      ┆ ---        ┆ ---           │\n",
       "│ i64       ┆ f64            ┆ i64     ┆ i64               ┆   ┆ f64         ┆ f64      ┆ str        ┆ bool          │\n",
       "╞═══════════╪════════════════╪═════════╪═══════════════════╪═══╪═════════════╪══════════╪════════════╪═══════════════╡\n",
       "│ 24        ┆ 0.000141       ┆ 13      ┆ 0                 ┆ … ┆ 0.0         ┆ 0.0      ┆ legitimate ┆ false         │\n",
       "│ 24        ┆ 0.998962       ┆ 13      ┆ 0                 ┆ … ┆ 0.0         ┆ 0.0      ┆ legitimate ┆ false         │\n",
       "│ 16        ┆ 0.000007       ┆ 0       ┆ 0                 ┆ … ┆ 0.0         ┆ 0.0      ┆ legitimate ┆ false         │\n",
       "│ 24        ┆ 0.000141       ┆ 13      ┆ 0                 ┆ … ┆ 0.0         ┆ 0.0      ┆ legitimate ┆ false         │\n",
       "│ 16        ┆ 0.000009       ┆ 0       ┆ 0                 ┆ … ┆ 0.0         ┆ 0.0      ┆ legitimate ┆ false         │\n",
       "└───────────┴────────────────┴─────────┴───────────────────┴───┴─────────────┴──────────┴────────────┴───────────────┘"
      ],
      "text/html": [
       "<div><style>\n",
       ".dataframe > thead > tr,\n",
       ".dataframe > tbody > tr {\n",
       "  text-align: right;\n",
       "  white-space: pre-wrap;\n",
       "}\n",
       "</style>\n",
       "<small>shape: (5, 22)</small><table border=\"1\" class=\"dataframe\"><thead><tr><th>tcp.flags</th><th>tcp.time_delta</th><th>tcp.len</th><th>mqtt.conack.flags</th><th>mqtt.conack.val</th><th>mqtt.conflag.cleansess</th><th>mqtt.conflag.passwd</th><th>mqtt.conflag.uname</th><th>mqtt.conflags</th><th>mqtt.dupflag</th><th>mqtt.hdrflags</th><th>mqtt.kalive</th><th>mqtt.len</th><th>mqtt.msg</th><th>mqtt.msgid</th><th>mqtt.msgtype</th><th>mqtt.proto_len</th><th>mqtt.qos</th><th>mqtt.retain</th><th>mqtt.ver</th><th>target</th><th>is_mqtt_proto</th></tr><tr><td>i64</td><td>f64</td><td>i64</td><td>i64</td><td>f64</td><td>f64</td><td>f64</td><td>f64</td><td>i64</td><td>f64</td><td>i64</td><td>f64</td><td>f64</td><td>str</td><td>f64</td><td>f64</td><td>f64</td><td>f64</td><td>f64</td><td>f64</td><td>str</td><td>bool</td></tr></thead><tbody><tr><td>24</td><td>0.000141</td><td>13</td><td>0</td><td>0.0</td><td>0.0</td><td>0.0</td><td>0.0</td><td>0</td><td>0.0</td><td>48</td><td>0.0</td><td>11.0</td><td>&quot;32&quot;</td><td>0.0</td><td>3.0</td><td>0.0</td><td>0.0</td><td>0.0</td><td>0.0</td><td>&quot;legitimate&quot;</td><td>false</td></tr><tr><td>24</td><td>0.998962</td><td>13</td><td>0</td><td>0.0</td><td>0.0</td><td>0.0</td><td>0.0</td><td>0</td><td>0.0</td><td>48</td><td>0.0</td><td>11.0</td><td>&quot;30&quot;</td><td>0.0</td><td>3.0</td><td>0.0</td><td>0.0</td><td>0.0</td><td>0.0</td><td>&quot;legitimate&quot;</td><td>false</td></tr><tr><td>16</td><td>0.000007</td><td>0</td><td>0</td><td>0.0</td><td>0.0</td><td>0.0</td><td>0.0</td><td>0</td><td>0.0</td><td>0</td><td>0.0</td><td>0.0</td><td>&quot;0&quot;</td><td>0.0</td><td>0.0</td><td>0.0</td><td>0.0</td><td>0.0</td><td>0.0</td><td>&quot;legitimate&quot;</td><td>false</td></tr><tr><td>24</td><td>0.000141</td><td>13</td><td>0</td><td>0.0</td><td>0.0</td><td>0.0</td><td>0.0</td><td>0</td><td>0.0</td><td>48</td><td>0.0</td><td>11.0</td><td>&quot;31&quot;</td><td>0.0</td><td>3.0</td><td>0.0</td><td>0.0</td><td>0.0</td><td>0.0</td><td>&quot;legitimate&quot;</td><td>false</td></tr><tr><td>16</td><td>0.000009</td><td>0</td><td>0</td><td>0.0</td><td>0.0</td><td>0.0</td><td>0.0</td><td>0</td><td>0.0</td><td>0</td><td>0.0</td><td>0.0</td><td>&quot;0&quot;</td><td>0.0</td><td>0.0</td><td>0.0</td><td>0.0</td><td>0.0</td><td>0.0</td><td>&quot;legitimate&quot;</td><td>false</td></tr></tbody></table></div>"
      ]
     },
     "execution_count": 14,
     "metadata": {},
     "output_type": "execute_result"
    }
   ],
   "execution_count": 14
  },
  {
   "metadata": {
    "ExecuteTime": {
     "end_time": "2025-05-21T12:52:39.877266Z",
     "start_time": "2025-05-21T12:52:39.479528Z"
    }
   },
   "cell_type": "code",
   "source": "mqtt_df.describe()",
   "id": "ec19a0788c38e7a0",
   "outputs": [
    {
     "data": {
      "text/plain": [
       "shape: (9, 23)\n",
       "┌────────────┬────────────┬────────────────┬────────────┬───┬─────────────┬────────────┬────────────┬───────────────┐\n",
       "│ statistic  ┆ tcp.flags  ┆ tcp.time_delta ┆ tcp.len    ┆ … ┆ mqtt.retain ┆ mqtt.ver   ┆ target     ┆ is_mqtt_proto │\n",
       "│ ---        ┆ ---        ┆ ---            ┆ ---        ┆   ┆ ---         ┆ ---        ┆ ---        ┆ ---           │\n",
       "│ str        ┆ f64        ┆ f64            ┆ f64        ┆   ┆ f64         ┆ f64        ┆ str        ┆ f64           │\n",
       "╞════════════╪════════════╪════════════════╪════════════╪═══╪═════════════╪════════════╪════════════╪═══════════════╡\n",
       "│ count      ┆ 8.456823e6 ┆ 8.456823e6     ┆ 8.456823e6 ┆ … ┆ 8.456823e6  ┆ 8.456823e6 ┆ 8456823    ┆ 8.456823e6    │\n",
       "│ null_count ┆ 0.0        ┆ 0.0            ┆ 0.0        ┆ … ┆ 0.0         ┆ 0.0        ┆ 0          ┆ 0.0           │\n",
       "│ mean       ┆ 21.021521  ┆ 0.501038       ┆ 11.678892  ┆ … ┆ 0.00001     ┆ 0.001053   ┆ null       ┆ 0.000263      │\n",
       "│ std        ┆ 3.882719   ┆ 3.802169       ┆ 158.644072 ┆ … ┆ 0.003207    ┆ 0.064902   ┆ null       ┆ null          │\n",
       "│ min        ┆ 2.0        ┆ -0.000002      ┆ 0.0        ┆ … ┆ 0.0         ┆ 0.0        ┆ bruteforce ┆ 0.0           │\n",
       "│ 25%        ┆ 16.0       ┆ 0.000004       ┆ 0.0        ┆ … ┆ 0.0         ┆ 0.0        ┆ null       ┆ null          │\n",
       "│ 50%        ┆ 24.0       ┆ 0.000073       ┆ 12.0       ┆ … ┆ 0.0         ┆ 0.0        ┆ null       ┆ null          │\n",
       "│ 75%        ┆ 24.0       ┆ 0.998826       ┆ 13.0       ┆ … ┆ 0.0         ┆ 0.0        ┆ null       ┆ null          │\n",
       "│ max        ┆ 25.0       ┆ 60.001888      ┆ 32768.0    ┆ … ┆ 1.0         ┆ 4.0        ┆ slowite    ┆ 1.0           │\n",
       "└────────────┴────────────┴────────────────┴────────────┴───┴─────────────┴────────────┴────────────┴───────────────┘"
      ],
      "text/html": [
       "<div><style>\n",
       ".dataframe > thead > tr,\n",
       ".dataframe > tbody > tr {\n",
       "  text-align: right;\n",
       "  white-space: pre-wrap;\n",
       "}\n",
       "</style>\n",
       "<small>shape: (9, 23)</small><table border=\"1\" class=\"dataframe\"><thead><tr><th>statistic</th><th>tcp.flags</th><th>tcp.time_delta</th><th>tcp.len</th><th>mqtt.conack.flags</th><th>mqtt.conack.val</th><th>mqtt.conflag.cleansess</th><th>mqtt.conflag.passwd</th><th>mqtt.conflag.uname</th><th>mqtt.conflags</th><th>mqtt.dupflag</th><th>mqtt.hdrflags</th><th>mqtt.kalive</th><th>mqtt.len</th><th>mqtt.msg</th><th>mqtt.msgid</th><th>mqtt.msgtype</th><th>mqtt.proto_len</th><th>mqtt.qos</th><th>mqtt.retain</th><th>mqtt.ver</th><th>target</th><th>is_mqtt_proto</th></tr><tr><td>str</td><td>f64</td><td>f64</td><td>f64</td><td>f64</td><td>f64</td><td>f64</td><td>f64</td><td>f64</td><td>f64</td><td>f64</td><td>f64</td><td>f64</td><td>f64</td><td>str</td><td>f64</td><td>f64</td><td>f64</td><td>f64</td><td>f64</td><td>f64</td><td>str</td><td>f64</td></tr></thead><tbody><tr><td>&quot;count&quot;</td><td>8.456823e6</td><td>8.456823e6</td><td>8.456823e6</td><td>8.456823e6</td><td>8.456823e6</td><td>8.456823e6</td><td>8.456823e6</td><td>8.456823e6</td><td>8.456823e6</td><td>8.456823e6</td><td>8.456823e6</td><td>8.456823e6</td><td>8.456823e6</td><td>&quot;8456823&quot;</td><td>8.456823e6</td><td>8.456823e6</td><td>8.456823e6</td><td>8.456823e6</td><td>8.456823e6</td><td>8.456823e6</td><td>&quot;8456823&quot;</td><td>8.456823e6</td></tr><tr><td>&quot;null_count&quot;</td><td>0.0</td><td>0.0</td><td>0.0</td><td>0.0</td><td>0.0</td><td>0.0</td><td>0.0</td><td>0.0</td><td>0.0</td><td>0.0</td><td>0.0</td><td>0.0</td><td>0.0</td><td>&quot;0&quot;</td><td>0.0</td><td>0.0</td><td>0.0</td><td>0.0</td><td>0.0</td><td>0.0</td><td>&quot;0&quot;</td><td>0.0</td></tr><tr><td>&quot;mean&quot;</td><td>21.021521</td><td>0.501038</td><td>11.678892</td><td>0.0</td><td>0.000598</td><td>0.000263</td><td>0.000119</td><td>0.000119</td><td>0.023359</td><td>0.001436</td><td>32.841212</td><td>4.808265</td><td>7.205809</td><td>null</td><td>31.855679</td><td>2.051298</td><td>0.001053</td><td>0.004465</td><td>0.00001</td><td>0.001053</td><td>null</td><td>0.000263</td></tr><tr><td>&quot;std&quot;</td><td>3.882719</td><td>3.802169</td><td>158.644072</td><td>0.0</td><td>0.054666</td><td>0.016226</td><td>0.01089</td><td>0.010912</td><td>2.114651</td><td>0.037864</td><td>31.793848</td><td>560.660072</td><td>12.107938</td><td>null</td><td>421.816083</td><td>1.98635</td><td>0.064902</td><td>0.066668</td><td>0.003207</td><td>0.064902</td><td>null</td><td>null</td></tr><tr><td>&quot;min&quot;</td><td>2.0</td><td>-0.000002</td><td>0.0</td><td>0.0</td><td>0.0</td><td>0.0</td><td>0.0</td><td>0.0</td><td>0.0</td><td>0.0</td><td>0.0</td><td>0.0</td><td>0.0</td><td>&quot;0&quot;</td><td>0.0</td><td>0.0</td><td>0.0</td><td>0.0</td><td>0.0</td><td>0.0</td><td>&quot;bruteforce&quot;</td><td>0.0</td></tr><tr><td>&quot;25%&quot;</td><td>16.0</td><td>0.000004</td><td>0.0</td><td>0.0</td><td>0.0</td><td>0.0</td><td>0.0</td><td>0.0</td><td>0.0</td><td>0.0</td><td>0.0</td><td>0.0</td><td>0.0</td><td>null</td><td>0.0</td><td>0.0</td><td>0.0</td><td>0.0</td><td>0.0</td><td>0.0</td><td>null</td><td>null</td></tr><tr><td>&quot;50%&quot;</td><td>24.0</td><td>0.000073</td><td>12.0</td><td>0.0</td><td>0.0</td><td>0.0</td><td>0.0</td><td>0.0</td><td>0.0</td><td>0.0</td><td>48.0</td><td>0.0</td><td>10.0</td><td>null</td><td>0.0</td><td>3.0</td><td>0.0</td><td>0.0</td><td>0.0</td><td>0.0</td><td>null</td><td>null</td></tr><tr><td>&quot;75%&quot;</td><td>24.0</td><td>0.998826</td><td>13.0</td><td>0.0</td><td>0.0</td><td>0.0</td><td>0.0</td><td>0.0</td><td>0.0</td><td>0.0</td><td>48.0</td><td>0.0</td><td>11.0</td><td>null</td><td>0.0</td><td>3.0</td><td>0.0</td><td>0.0</td><td>0.0</td><td>0.0</td><td>null</td><td>null</td></tr><tr><td>&quot;max&quot;</td><td>25.0</td><td>60.001888</td><td>32768.0</td><td>0.0</td><td>5.0</td><td>1.0</td><td>1.0</td><td>1.0</td><td>194.0</td><td>1.0</td><td>224.0</td><td>65535.0</td><td>692.0</td><td>&quot;746573747465737474657374&quot;</td><td>9994.0</td><td>14.0</td><td>4.0</td><td>1.0</td><td>1.0</td><td>4.0</td><td>&quot;slowite&quot;</td><td>1.0</td></tr></tbody></table></div>"
      ]
     },
     "execution_count": 15,
     "metadata": {},
     "output_type": "execute_result"
    }
   ],
   "execution_count": 15
  },
  {
   "metadata": {},
   "cell_type": "markdown",
   "source": "So let's see the columns we haven't taken a look a yet.",
   "id": "3fb2f2644296dd48"
  },
  {
   "metadata": {
    "ExecuteTime": {
     "end_time": "2025-05-21T12:52:39.959980Z",
     "start_time": "2025-05-21T12:52:39.947297Z"
    }
   },
   "cell_type": "code",
   "source": "mqtt_columns_df.filter(~pl.col(\"Feature\").is_in(string_flag_cols.to_list() + superfluous_columns))",
   "id": "674e7efa2255aaa8",
   "outputs": [
    {
     "data": {
      "text/plain": [
       "shape: (17, 9)\n",
       "┌────────────────────────┬──────────────┬─────────┬──────────────────┬───┬─────────────────────────────────┬───────────────┬───────────────┬────────────────────────────────┐\n",
       "│ Feature                ┆ Observations ┆ Missing ┆ Missing rate (%) ┆ … ┆ 1st to 2nd value density diffe… ┆ Variable type ┆ Unique values ┆ Feature type                   │\n",
       "│ ---                    ┆ ---          ┆ ---     ┆ ---              ┆   ┆ ---                             ┆ ---           ┆ ---           ┆ ---                            │\n",
       "│ str                    ┆ i64          ┆ i64     ┆ f64              ┆   ┆ f64                             ┆ str           ┆ i64           ┆ str                            │\n",
       "╞════════════════════════╪══════════════╪═════════╪══════════════════╪═══╪═════════════════════════════════╪═══════════════╪═══════════════╪════════════════════════════════╡\n",
       "│ target                 ┆ 8456823      ┆ 0       ┆ 0.0              ┆ … ┆ 97.552                          ┆ String        ┆ 6             ┆ Categorical                    │\n",
       "│ mqtt.kalive            ┆ 8456823      ┆ 0       ┆ 0.0              ┆ … ┆ 99.956                          ┆ Float64       ┆ 7             ┆ Categorical                    │\n",
       "│ mqtt.msgtype           ┆ 8456823      ┆ 0       ┆ 0.0              ┆ … ┆ 23.957                          ┆ Float64       ┆ 11            ┆ Categorical - High Cardinality │\n",
       "│ mqtt.len               ┆ 8456823      ┆ 0       ┆ 0.0              ┆ … ┆ 0.811                           ┆ Float64       ┆ 92            ┆ Categorical - High Cardinality │\n",
       "│ tcp.len                ┆ 8456823      ┆ 0       ┆ 0.0              ┆ … ┆ 0.874                           ┆ Int64         ┆ 723           ┆ Categorical - High Cardinality │\n",
       "│ …                      ┆ …            ┆ …       ┆ …                ┆ … ┆ …                               ┆ …             ┆ …             ┆ …                              │\n",
       "│ mqtt.conflag.uname     ┆ 8456823      ┆ 0       ┆ 0.0              ┆ … ┆ 99.976                          ┆ Float64       ┆ 2             ┆ Flag                           │\n",
       "│ mqtt.qos               ┆ 8456823      ┆ 0       ┆ 0.0              ┆ … ┆ 99.108                          ┆ Float64       ┆ 2             ┆ Flag                           │\n",
       "│ mqtt.dupflag           ┆ 8456823      ┆ 0       ┆ 0.0              ┆ … ┆ 99.712                          ┆ Float64       ┆ 2             ┆ Flag                           │\n",
       "│ mqtt.conflag.cleansess ┆ 8456823      ┆ 0       ┆ 0.0              ┆ … ┆ 99.948                          ┆ Float64       ┆ 2             ┆ Flag                           │\n",
       "│ mqtt.conack.val        ┆ 8456823      ┆ 0       ┆ 0.0              ┆ … ┆ 99.976                          ┆ Float64       ┆ 2             ┆ Flag                           │\n",
       "└────────────────────────┴──────────────┴─────────┴──────────────────┴───┴─────────────────────────────────┴───────────────┴───────────────┴────────────────────────────────┘"
      ],
      "text/html": [
       "<div><style>\n",
       ".dataframe > thead > tr,\n",
       ".dataframe > tbody > tr {\n",
       "  text-align: right;\n",
       "  white-space: pre-wrap;\n",
       "}\n",
       "</style>\n",
       "<small>shape: (17, 9)</small><table border=\"1\" class=\"dataframe\"><thead><tr><th>Feature</th><th>Observations</th><th>Missing</th><th>Missing rate (%)</th><th>1st value density (%)</th><th>1st to 2nd value density difference (%)</th><th>Variable type</th><th>Unique values</th><th>Feature type</th></tr><tr><td>str</td><td>i64</td><td>i64</td><td>f64</td><td>f64</td><td>f64</td><td>str</td><td>i64</td><td>str</td></tr></thead><tbody><tr><td>&quot;target&quot;</td><td>8456823</td><td>0</td><td>0.0</td><td>98.63</td><td>97.552</td><td>&quot;String&quot;</td><td>6</td><td>&quot;Categorical&quot;</td></tr><tr><td>&quot;mqtt.kalive&quot;</td><td>8456823</td><td>0</td><td>0.0</td><td>99.974</td><td>99.956</td><td>&quot;Float64&quot;</td><td>7</td><td>&quot;Categorical&quot;</td></tr><tr><td>&quot;mqtt.msgtype&quot;</td><td>8456823</td><td>0</td><td>0.0</td><td>60.953</td><td>23.957</td><td>&quot;Float64&quot;</td><td>11</td><td>&quot;Categorical - High Cardinality&quot;</td></tr><tr><td>&quot;mqtt.len&quot;</td><td>8456823</td><td>0</td><td>0.0</td><td>38.665</td><td>0.811</td><td>&quot;Float64&quot;</td><td>92</td><td>&quot;Categorical - High Cardinality&quot;</td></tr><tr><td>&quot;tcp.len&quot;</td><td>8456823</td><td>0</td><td>0.0</td><td>37.858</td><td>0.874</td><td>&quot;Int64&quot;</td><td>723</td><td>&quot;Categorical - High Cardinality&quot;</td></tr><tr><td>&hellip;</td><td>&hellip;</td><td>&hellip;</td><td>&hellip;</td><td>&hellip;</td><td>&hellip;</td><td>&hellip;</td><td>&hellip;</td><td>&hellip;</td></tr><tr><td>&quot;mqtt.conflag.uname&quot;</td><td>8456823</td><td>0</td><td>0.0</td><td>99.988</td><td>99.976</td><td>&quot;Float64&quot;</td><td>2</td><td>&quot;Flag&quot;</td></tr><tr><td>&quot;mqtt.qos&quot;</td><td>8456823</td><td>0</td><td>0.0</td><td>99.554</td><td>99.108</td><td>&quot;Float64&quot;</td><td>2</td><td>&quot;Flag&quot;</td></tr><tr><td>&quot;mqtt.dupflag&quot;</td><td>8456823</td><td>0</td><td>0.0</td><td>99.856</td><td>99.712</td><td>&quot;Float64&quot;</td><td>2</td><td>&quot;Flag&quot;</td></tr><tr><td>&quot;mqtt.conflag.cleansess&quot;</td><td>8456823</td><td>0</td><td>0.0</td><td>99.974</td><td>99.948</td><td>&quot;Float64&quot;</td><td>2</td><td>&quot;Flag&quot;</td></tr><tr><td>&quot;mqtt.conack.val&quot;</td><td>8456823</td><td>0</td><td>0.0</td><td>99.988</td><td>99.976</td><td>&quot;Float64&quot;</td><td>2</td><td>&quot;Flag&quot;</td></tr></tbody></table></div>"
      ]
     },
     "execution_count": 16,
     "metadata": {},
     "output_type": "execute_result"
    }
   ],
   "execution_count": 16
  },
  {
   "metadata": {},
   "cell_type": "markdown",
   "source": "If you look closely we got two more columns that are strings (`target`, and `mqtt.msg`)",
   "id": "9537b72abd220a1a"
  },
  {
   "metadata": {},
   "cell_type": "markdown",
   "source": "#### Convert `target` column",
   "id": "a614a1e5ac934c3"
  },
  {
   "metadata": {},
   "cell_type": "markdown",
   "source": "The `target` describes the nature of a sample (whether it's legitimate or created by some maliciuous technique).",
   "id": "3329834075466e88"
  },
  {
   "metadata": {
    "ExecuteTime": {
     "end_time": "2025-05-21T12:52:40.218501Z",
     "start_time": "2025-05-21T12:52:40.101050Z"
    }
   },
   "cell_type": "code",
   "source": "mqtt_df[\"target\"].unique()",
   "id": "19d7b1d4b2a3cf25",
   "outputs": [
    {
     "data": {
      "text/plain": [
       "shape: (6,)\n",
       "Series: 'target' [str]\n",
       "[\n",
       "\t\"dos\"\n",
       "\t\"legitimate\"\n",
       "\t\"flood\"\n",
       "\t\"bruteforce\"\n",
       "\t\"malformed\"\n",
       "\t\"slowite\"\n",
       "]"
      ],
      "text/html": [
       "<div><style>\n",
       ".dataframe > thead > tr,\n",
       ".dataframe > tbody > tr {\n",
       "  text-align: right;\n",
       "  white-space: pre-wrap;\n",
       "}\n",
       "</style>\n",
       "<small>shape: (6,)</small><table border=\"1\" class=\"dataframe\"><thead><tr><th>target</th></tr><tr><td>str</td></tr></thead><tbody><tr><td>&quot;dos&quot;</td></tr><tr><td>&quot;legitimate&quot;</td></tr><tr><td>&quot;flood&quot;</td></tr><tr><td>&quot;bruteforce&quot;</td></tr><tr><td>&quot;malformed&quot;</td></tr><tr><td>&quot;slowite&quot;</td></tr></tbody></table></div>"
      ]
     },
     "execution_count": 17,
     "metadata": {},
     "output_type": "execute_result"
    }
   ],
   "execution_count": 17
  },
  {
   "metadata": {},
   "cell_type": "markdown",
   "source": "We gonna map `legitimate` to `0` meaning no anomaly, and other values to a `1`, meaning there's an anomaly",
   "id": "81633ddd5f4574a6"
  },
  {
   "metadata": {
    "ExecuteTime": {
     "end_time": "2025-05-21T12:52:40.411917Z",
     "start_time": "2025-05-21T12:52:40.283433Z"
    }
   },
   "cell_type": "code",
   "source": [
    "coding_bin = {\n",
    "    \"legitimate\": 0,\n",
    "    \"dos\": 1,\n",
    "    \"malformed\": 1,\n",
    "    \"bruteforce\": 1,\n",
    "    \"slowite\": 1,\n",
    "    \"flood\": 1,\n",
    "}\n",
    "mqtt_df = mqtt_df.with_columns(\n",
    "    pl.col(\"target\").replace_strict(coding_bin, return_dtype=pl.Int64).alias(\"label\")\n",
    ")\n",
    "mqtt_df.head()"
   ],
   "id": "f88995d46c7de17c",
   "outputs": [
    {
     "data": {
      "text/plain": [
       "shape: (5, 23)\n",
       "┌───────────┬────────────────┬─────────┬───────────────────┬───┬──────────┬────────────┬───────────────┬───────┐\n",
       "│ tcp.flags ┆ tcp.time_delta ┆ tcp.len ┆ mqtt.conack.flags ┆ … ┆ mqtt.ver ┆ target     ┆ is_mqtt_proto ┆ label │\n",
       "│ ---       ┆ ---            ┆ ---     ┆ ---               ┆   ┆ ---      ┆ ---        ┆ ---           ┆ ---   │\n",
       "│ i64       ┆ f64            ┆ i64     ┆ i64               ┆   ┆ f64      ┆ str        ┆ bool          ┆ i64   │\n",
       "╞═══════════╪════════════════╪═════════╪═══════════════════╪═══╪══════════╪════════════╪═══════════════╪═══════╡\n",
       "│ 24        ┆ 0.000141       ┆ 13      ┆ 0                 ┆ … ┆ 0.0      ┆ legitimate ┆ false         ┆ 0     │\n",
       "│ 24        ┆ 0.998962       ┆ 13      ┆ 0                 ┆ … ┆ 0.0      ┆ legitimate ┆ false         ┆ 0     │\n",
       "│ 16        ┆ 0.000007       ┆ 0       ┆ 0                 ┆ … ┆ 0.0      ┆ legitimate ┆ false         ┆ 0     │\n",
       "│ 24        ┆ 0.000141       ┆ 13      ┆ 0                 ┆ … ┆ 0.0      ┆ legitimate ┆ false         ┆ 0     │\n",
       "│ 16        ┆ 0.000009       ┆ 0       ┆ 0                 ┆ … ┆ 0.0      ┆ legitimate ┆ false         ┆ 0     │\n",
       "└───────────┴────────────────┴─────────┴───────────────────┴───┴──────────┴────────────┴───────────────┴───────┘"
      ],
      "text/html": [
       "<div><style>\n",
       ".dataframe > thead > tr,\n",
       ".dataframe > tbody > tr {\n",
       "  text-align: right;\n",
       "  white-space: pre-wrap;\n",
       "}\n",
       "</style>\n",
       "<small>shape: (5, 23)</small><table border=\"1\" class=\"dataframe\"><thead><tr><th>tcp.flags</th><th>tcp.time_delta</th><th>tcp.len</th><th>mqtt.conack.flags</th><th>mqtt.conack.val</th><th>mqtt.conflag.cleansess</th><th>mqtt.conflag.passwd</th><th>mqtt.conflag.uname</th><th>mqtt.conflags</th><th>mqtt.dupflag</th><th>mqtt.hdrflags</th><th>mqtt.kalive</th><th>mqtt.len</th><th>mqtt.msg</th><th>mqtt.msgid</th><th>mqtt.msgtype</th><th>mqtt.proto_len</th><th>mqtt.qos</th><th>mqtt.retain</th><th>mqtt.ver</th><th>target</th><th>is_mqtt_proto</th><th>label</th></tr><tr><td>i64</td><td>f64</td><td>i64</td><td>i64</td><td>f64</td><td>f64</td><td>f64</td><td>f64</td><td>i64</td><td>f64</td><td>i64</td><td>f64</td><td>f64</td><td>str</td><td>f64</td><td>f64</td><td>f64</td><td>f64</td><td>f64</td><td>f64</td><td>str</td><td>bool</td><td>i64</td></tr></thead><tbody><tr><td>24</td><td>0.000141</td><td>13</td><td>0</td><td>0.0</td><td>0.0</td><td>0.0</td><td>0.0</td><td>0</td><td>0.0</td><td>48</td><td>0.0</td><td>11.0</td><td>&quot;32&quot;</td><td>0.0</td><td>3.0</td><td>0.0</td><td>0.0</td><td>0.0</td><td>0.0</td><td>&quot;legitimate&quot;</td><td>false</td><td>0</td></tr><tr><td>24</td><td>0.998962</td><td>13</td><td>0</td><td>0.0</td><td>0.0</td><td>0.0</td><td>0.0</td><td>0</td><td>0.0</td><td>48</td><td>0.0</td><td>11.0</td><td>&quot;30&quot;</td><td>0.0</td><td>3.0</td><td>0.0</td><td>0.0</td><td>0.0</td><td>0.0</td><td>&quot;legitimate&quot;</td><td>false</td><td>0</td></tr><tr><td>16</td><td>0.000007</td><td>0</td><td>0</td><td>0.0</td><td>0.0</td><td>0.0</td><td>0.0</td><td>0</td><td>0.0</td><td>0</td><td>0.0</td><td>0.0</td><td>&quot;0&quot;</td><td>0.0</td><td>0.0</td><td>0.0</td><td>0.0</td><td>0.0</td><td>0.0</td><td>&quot;legitimate&quot;</td><td>false</td><td>0</td></tr><tr><td>24</td><td>0.000141</td><td>13</td><td>0</td><td>0.0</td><td>0.0</td><td>0.0</td><td>0.0</td><td>0</td><td>0.0</td><td>48</td><td>0.0</td><td>11.0</td><td>&quot;31&quot;</td><td>0.0</td><td>3.0</td><td>0.0</td><td>0.0</td><td>0.0</td><td>0.0</td><td>&quot;legitimate&quot;</td><td>false</td><td>0</td></tr><tr><td>16</td><td>0.000009</td><td>0</td><td>0</td><td>0.0</td><td>0.0</td><td>0.0</td><td>0.0</td><td>0</td><td>0.0</td><td>0</td><td>0.0</td><td>0.0</td><td>&quot;0&quot;</td><td>0.0</td><td>0.0</td><td>0.0</td><td>0.0</td><td>0.0</td><td>0.0</td><td>&quot;legitimate&quot;</td><td>false</td><td>0</td></tr></tbody></table></div>"
      ]
     },
     "execution_count": 18,
     "metadata": {},
     "output_type": "execute_result"
    }
   ],
   "execution_count": 18
  },
  {
   "metadata": {},
   "cell_type": "markdown",
   "source": "#### Take a look at the last string column, `mqtt.msg`",
   "id": "d65209cfe6a851bc"
  },
  {
   "metadata": {},
   "cell_type": "markdown",
   "source": "How many unique values we got?",
   "id": "d09bb4a4b4fe7e5b"
  },
  {
   "metadata": {
    "ExecuteTime": {
     "end_time": "2025-05-21T12:52:40.642003Z",
     "start_time": "2025-05-21T12:52:40.493193Z"
    }
   },
   "cell_type": "code",
   "source": [
    "unique_mqtt_msgs = mqtt_df[\"mqtt.msg\"].unique()\n",
    "print(\"Number of unique mqtt.msg:\", len(unique_mqtt_msgs))\n",
    "unique_mqtt_msgs.head(n=20)"
   ],
   "id": "4eafaf067e453988",
   "outputs": [
    {
     "name": "stdout",
     "output_type": "stream",
     "text": [
      "Number of unique mqtt.msg: 36067\n"
     ]
    },
    {
     "data": {
      "text/plain": [
       "shape: (20,)\n",
       "Series: 'mqtt.msg' [str]\n",
       "[\n",
       "\t\"613230346262333330343263453866…\n",
       "\t\"616239313643314263634331433041…\n",
       "\t\"456435613663636146423934443736…\n",
       "\t\"634644366661613838413861303232…\n",
       "\t\"413133383236373137454338443037…\n",
       "\t…\n",
       "\t\"323362626346423544364261464542…\n",
       "\t\"383536303337394532453943343645…\n",
       "\t\"434632344138463864466544644346…\n",
       "\t\"374539393866326134643064436565…\n",
       "\t\"434446396436646266654435353533…\n",
       "]"
      ],
      "text/html": [
       "<div><style>\n",
       ".dataframe > thead > tr,\n",
       ".dataframe > tbody > tr {\n",
       "  text-align: right;\n",
       "  white-space: pre-wrap;\n",
       "}\n",
       "</style>\n",
       "<small>shape: (20,)</small><table border=\"1\" class=\"dataframe\"><thead><tr><th>mqtt.msg</th></tr><tr><td>str</td></tr></thead><tbody><tr><td>&quot;613230346262333330343263453866…</td></tr><tr><td>&quot;616239313643314263634331433041…</td></tr><tr><td>&quot;456435613663636146423934443736…</td></tr><tr><td>&quot;634644366661613838413861303232…</td></tr><tr><td>&quot;413133383236373137454338443037…</td></tr><tr><td>&hellip;</td></tr><tr><td>&quot;323362626346423544364261464542…</td></tr><tr><td>&quot;383536303337394532453943343645…</td></tr><tr><td>&quot;434632344138463864466544644346…</td></tr><tr><td>&quot;374539393866326134643064436565…</td></tr><tr><td>&quot;434446396436646266654435353533…</td></tr></tbody></table></div>"
      ]
     },
     "execution_count": 19,
     "metadata": {},
     "output_type": "execute_result"
    }
   ],
   "execution_count": 19
  },
  {
   "metadata": {},
   "cell_type": "markdown",
   "source": "How long are the `mqtt.msg` entries?",
   "id": "c6c170ddb73b6eb2"
  },
  {
   "metadata": {
    "ExecuteTime": {
     "end_time": "2025-05-21T12:52:41.068259Z",
     "start_time": "2025-05-21T12:52:40.773932Z"
    }
   },
   "cell_type": "code",
   "source": [
    "mqtt_df.with_columns(pl.col(\"mqtt.msg\").str.len_chars().alias(\"mqtt.msg.length\"))[\n",
    "    \"mqtt.msg.length\"\n",
    "].describe()"
   ],
   "id": "e2b8a4ad1aa5ef9d",
   "outputs": [
    {
     "data": {
      "text/plain": [
       "shape: (9, 2)\n",
       "┌────────────┬────────────┐\n",
       "│ statistic  ┆ value      │\n",
       "│ ---        ┆ ---        │\n",
       "│ str        ┆ f64        │\n",
       "╞════════════╪════════════╡\n",
       "│ count      ┆ 8.456823e6 │\n",
       "│ null_count ┆ 0.0        │\n",
       "│ mean       ┆ 2.856972   │\n",
       "│ std        ┆ 13.219478  │\n",
       "│ min        ┆ 1.0        │\n",
       "│ 25%        ┆ 1.0        │\n",
       "│ 50%        ┆ 2.0        │\n",
       "│ 75%        ┆ 2.0        │\n",
       "│ max        ┆ 240.0      │\n",
       "└────────────┴────────────┘"
      ],
      "text/html": [
       "<div><style>\n",
       ".dataframe > thead > tr,\n",
       ".dataframe > tbody > tr {\n",
       "  text-align: right;\n",
       "  white-space: pre-wrap;\n",
       "}\n",
       "</style>\n",
       "<small>shape: (9, 2)</small><table border=\"1\" class=\"dataframe\"><thead><tr><th>statistic</th><th>value</th></tr><tr><td>str</td><td>f64</td></tr></thead><tbody><tr><td>&quot;count&quot;</td><td>8.456823e6</td></tr><tr><td>&quot;null_count&quot;</td><td>0.0</td></tr><tr><td>&quot;mean&quot;</td><td>2.856972</td></tr><tr><td>&quot;std&quot;</td><td>13.219478</td></tr><tr><td>&quot;min&quot;</td><td>1.0</td></tr><tr><td>&quot;25%&quot;</td><td>1.0</td></tr><tr><td>&quot;50%&quot;</td><td>2.0</td></tr><tr><td>&quot;75%&quot;</td><td>2.0</td></tr><tr><td>&quot;max&quot;</td><td>240.0</td></tr></tbody></table></div>"
      ]
     },
     "execution_count": 20,
     "metadata": {},
     "output_type": "execute_result"
    }
   ],
   "execution_count": 20
  },
  {
   "metadata": {},
   "cell_type": "markdown",
   "source": "Do the string contain only numbers? or have valid hex characters or are arbritrary?",
   "id": "9b83d2a575876ad0"
  },
  {
   "metadata": {
    "ExecuteTime": {
     "end_time": "2025-05-21T13:54:26.442490Z",
     "start_time": "2025-05-21T13:54:24.530785Z"
    }
   },
   "cell_type": "code",
   "source": [
    "# let's try converting to float, to see if it works successfully?\n",
    "\n",
    "def convert_msg_to_num(msg: str):\n",
    "    try:\n",
    "        return float(msg)\n",
    "    except ValueError:\n",
    "        return int(msg, 16)\n",
    "try:\n",
    "    mqtt_df = mqtt_df.with_columns(\n",
    "        pl.col(\"mqtt.msg\").map_elements(convert_msg_to_num, return_dtype=pl.Float64).alias(\"mqtt.msg.float\")\n",
    "    )[\"mqtt.msg.float\"].describe()\n",
    "except pl.exceptions.ComputeError as e:\n",
    "    print(e)"
   ],
   "id": "a5e2c90ad42a80da",
   "outputs": [],
   "execution_count": 35
  },
  {
   "metadata": {},
   "cell_type": "code",
   "outputs": [],
   "execution_count": null,
   "source": "mqtt_df[[\"mqtt.msg\", \"mqtt.msg.float\", \"label\"]]",
   "id": "a1e4fd5b9fc0160c"
  },
  {
   "metadata": {},
   "cell_type": "markdown",
   "source": "Alright, that doesn't seem to work. We might just use it as string type. Although, still wondering if the content affects the value of `target`",
   "id": "740cad57537da7f5"
  },
  {
   "metadata": {},
   "cell_type": "markdown",
   "source": "Let's take a look, at the other columns not analyzed yet",
   "id": "1df2a25f4fd17ab6"
  },
  {
   "metadata": {
    "ExecuteTime": {
     "end_time": "2025-05-21T12:52:42.545872Z",
     "start_time": "2025-05-21T12:52:42.484030Z"
    }
   },
   "cell_type": "code",
   "source": [
    "mqtt_columns_df.filter(\n",
    "    ~pl.col(\"Feature\").is_in(\n",
    "        string_flag_cols.to_list() + superfluous_columns + [\"target\", \"mqtt.msg\"]\n",
    "    )\n",
    ")"
   ],
   "id": "9fad26a99509fa03",
   "outputs": [
    {
     "data": {
      "text/plain": [
       "shape: (15, 9)\n",
       "┌────────────────────────┬──────────────┬─────────┬──────────────────┬───┬─────────────────────────────────┬───────────────┬───────────────┬────────────────────────────────┐\n",
       "│ Feature                ┆ Observations ┆ Missing ┆ Missing rate (%) ┆ … ┆ 1st to 2nd value density diffe… ┆ Variable type ┆ Unique values ┆ Feature type                   │\n",
       "│ ---                    ┆ ---          ┆ ---     ┆ ---              ┆   ┆ ---                             ┆ ---           ┆ ---           ┆ ---                            │\n",
       "│ str                    ┆ i64          ┆ i64     ┆ f64              ┆   ┆ f64                             ┆ str           ┆ i64           ┆ str                            │\n",
       "╞════════════════════════╪══════════════╪═════════╪══════════════════╪═══╪═════════════════════════════════╪═══════════════╪═══════════════╪════════════════════════════════╡\n",
       "│ mqtt.kalive            ┆ 8456823      ┆ 0       ┆ 0.0              ┆ … ┆ 99.956                          ┆ Float64       ┆ 7             ┆ Categorical                    │\n",
       "│ mqtt.msgtype           ┆ 8456823      ┆ 0       ┆ 0.0              ┆ … ┆ 23.957                          ┆ Float64       ┆ 11            ┆ Categorical - High Cardinality │\n",
       "│ mqtt.len               ┆ 8456823      ┆ 0       ┆ 0.0              ┆ … ┆ 0.811                           ┆ Float64       ┆ 92            ┆ Categorical - High Cardinality │\n",
       "│ tcp.len                ┆ 8456823      ┆ 0       ┆ 0.0              ┆ … ┆ 0.874                           ┆ Int64         ┆ 723           ┆ Categorical - High Cardinality │\n",
       "│ mqtt.msgid             ┆ 8456823      ┆ 0       ┆ 0.0              ┆ … ┆ 99.223                          ┆ Float64       ┆ 9813          ┆ Categorical - High Cardinality │\n",
       "│ …                      ┆ …            ┆ …       ┆ …                ┆ … ┆ …                               ┆ …             ┆ …             ┆ …                              │\n",
       "│ mqtt.conflag.uname     ┆ 8456823      ┆ 0       ┆ 0.0              ┆ … ┆ 99.976                          ┆ Float64       ┆ 2             ┆ Flag                           │\n",
       "│ mqtt.qos               ┆ 8456823      ┆ 0       ┆ 0.0              ┆ … ┆ 99.108                          ┆ Float64       ┆ 2             ┆ Flag                           │\n",
       "│ mqtt.dupflag           ┆ 8456823      ┆ 0       ┆ 0.0              ┆ … ┆ 99.712                          ┆ Float64       ┆ 2             ┆ Flag                           │\n",
       "│ mqtt.conflag.cleansess ┆ 8456823      ┆ 0       ┆ 0.0              ┆ … ┆ 99.948                          ┆ Float64       ┆ 2             ┆ Flag                           │\n",
       "│ mqtt.conack.val        ┆ 8456823      ┆ 0       ┆ 0.0              ┆ … ┆ 99.976                          ┆ Float64       ┆ 2             ┆ Flag                           │\n",
       "└────────────────────────┴──────────────┴─────────┴──────────────────┴───┴─────────────────────────────────┴───────────────┴───────────────┴────────────────────────────────┘"
      ],
      "text/html": [
       "<div><style>\n",
       ".dataframe > thead > tr,\n",
       ".dataframe > tbody > tr {\n",
       "  text-align: right;\n",
       "  white-space: pre-wrap;\n",
       "}\n",
       "</style>\n",
       "<small>shape: (15, 9)</small><table border=\"1\" class=\"dataframe\"><thead><tr><th>Feature</th><th>Observations</th><th>Missing</th><th>Missing rate (%)</th><th>1st value density (%)</th><th>1st to 2nd value density difference (%)</th><th>Variable type</th><th>Unique values</th><th>Feature type</th></tr><tr><td>str</td><td>i64</td><td>i64</td><td>f64</td><td>f64</td><td>f64</td><td>str</td><td>i64</td><td>str</td></tr></thead><tbody><tr><td>&quot;mqtt.kalive&quot;</td><td>8456823</td><td>0</td><td>0.0</td><td>99.974</td><td>99.956</td><td>&quot;Float64&quot;</td><td>7</td><td>&quot;Categorical&quot;</td></tr><tr><td>&quot;mqtt.msgtype&quot;</td><td>8456823</td><td>0</td><td>0.0</td><td>60.953</td><td>23.957</td><td>&quot;Float64&quot;</td><td>11</td><td>&quot;Categorical - High Cardinality&quot;</td></tr><tr><td>&quot;mqtt.len&quot;</td><td>8456823</td><td>0</td><td>0.0</td><td>38.665</td><td>0.811</td><td>&quot;Float64&quot;</td><td>92</td><td>&quot;Categorical - High Cardinality&quot;</td></tr><tr><td>&quot;tcp.len&quot;</td><td>8456823</td><td>0</td><td>0.0</td><td>37.858</td><td>0.874</td><td>&quot;Int64&quot;</td><td>723</td><td>&quot;Categorical - High Cardinality&quot;</td></tr><tr><td>&quot;mqtt.msgid&quot;</td><td>8456823</td><td>0</td><td>0.0</td><td>99.224</td><td>99.223</td><td>&quot;Float64&quot;</td><td>9813</td><td>&quot;Categorical - High Cardinality&quot;</td></tr><tr><td>&hellip;</td><td>&hellip;</td><td>&hellip;</td><td>&hellip;</td><td>&hellip;</td><td>&hellip;</td><td>&hellip;</td><td>&hellip;</td><td>&hellip;</td></tr><tr><td>&quot;mqtt.conflag.uname&quot;</td><td>8456823</td><td>0</td><td>0.0</td><td>99.988</td><td>99.976</td><td>&quot;Float64&quot;</td><td>2</td><td>&quot;Flag&quot;</td></tr><tr><td>&quot;mqtt.qos&quot;</td><td>8456823</td><td>0</td><td>0.0</td><td>99.554</td><td>99.108</td><td>&quot;Float64&quot;</td><td>2</td><td>&quot;Flag&quot;</td></tr><tr><td>&quot;mqtt.dupflag&quot;</td><td>8456823</td><td>0</td><td>0.0</td><td>99.856</td><td>99.712</td><td>&quot;Float64&quot;</td><td>2</td><td>&quot;Flag&quot;</td></tr><tr><td>&quot;mqtt.conflag.cleansess&quot;</td><td>8456823</td><td>0</td><td>0.0</td><td>99.974</td><td>99.948</td><td>&quot;Float64&quot;</td><td>2</td><td>&quot;Flag&quot;</td></tr><tr><td>&quot;mqtt.conack.val&quot;</td><td>8456823</td><td>0</td><td>0.0</td><td>99.988</td><td>99.976</td><td>&quot;Float64&quot;</td><td>2</td><td>&quot;Flag&quot;</td></tr></tbody></table></div>"
      ]
     },
     "execution_count": 22,
     "metadata": {},
     "output_type": "execute_result"
    }
   ],
   "execution_count": 22
  },
  {
   "metadata": {},
   "cell_type": "markdown",
   "source": "### Distribution of Columns vs `target`",
   "id": "214ad5eaf06732ec"
  },
  {
   "metadata": {
    "ExecuteTime": {
     "end_time": "2025-05-21T13:03:50.724884Z",
     "start_time": "2025-05-21T13:03:50.718129Z"
    }
   },
   "cell_type": "code",
   "source": [
    "def polars_plot_target_relationship(\n",
    "    df: pl.DataFrame, feature_col: str, target_col: str = \"target\", log_scale: bool = False\n",
    "):\n",
    "    \"\"\"\n",
    "    Plot the relationship between a feature column and the target column using Polars for processing.\n",
    "\n",
    "    Parameters:\n",
    "        df (pl.DataFrame): The Polars DataFrame\n",
    "        feature_col (str): Feature column name\n",
    "        target_col (str): Target column name (categorical)\n",
    "    \"\"\"\n",
    "    # Determine column type\n",
    "    is_categorical = (\n",
    "        df[feature_col].dtype in [pl.Utf8, pl.Categorical] or df[feature_col].n_unique() < 20\n",
    "    )\n",
    "\n",
    "    if is_categorical:\n",
    "        # Group by feature and target to count occurrences\n",
    "        grouped = df.group_by([feature_col, target_col]).len().rename({\"len\": \"count\"}).to_pandas()\n",
    "\n",
    "        plt.figure(figsize=(10, 6))\n",
    "        sns.barplot(data=grouped, x=feature_col, y=\"count\", hue=target_col)\n",
    "        if log_scale:\n",
    "            plt.yscale(\"log\")\n",
    "        plt.title(f\"Distribution of {feature_col} by {target_col}\")\n",
    "        plt.xticks(rotation=45)\n",
    "        plt.tight_layout()\n",
    "\n",
    "    else:\n",
    "        # Convert needed columns to pandas for seaborn boxplot\n",
    "        plot_df = df.select([feature_col, target_col]).to_pandas()\n",
    "\n",
    "        plt.figure(figsize=(10, 6))\n",
    "        ax = sns.boxplot(data=plot_df, x=target_col, y=feature_col)\n",
    "        if log_scale:\n",
    "            ax.set_yscale(\"log\")\n",
    "        plt.title(f\"{feature_col} distribution by {target_col}\")\n",
    "        plt.xticks(rotation=45)\n",
    "        plt.tight_layout()\n",
    "\n",
    "    plt.show()"
   ],
   "id": "4ed96cebf5f25ff4",
   "outputs": [],
   "execution_count": 31
  },
  {
   "metadata": {
    "ExecuteTime": {
     "end_time": "2025-05-21T12:52:52.659960Z",
     "start_time": "2025-05-21T12:52:52.652730Z"
    }
   },
   "cell_type": "code",
   "source": "mqtt_df.head()",
   "id": "a237a33944f592e4",
   "outputs": [
    {
     "data": {
      "text/plain": [
       "shape: (5, 23)\n",
       "┌───────────┬────────────────┬─────────┬───────────────────┬───┬──────────┬────────────┬───────────────┬───────┐\n",
       "│ tcp.flags ┆ tcp.time_delta ┆ tcp.len ┆ mqtt.conack.flags ┆ … ┆ mqtt.ver ┆ target     ┆ is_mqtt_proto ┆ label │\n",
       "│ ---       ┆ ---            ┆ ---     ┆ ---               ┆   ┆ ---      ┆ ---        ┆ ---           ┆ ---   │\n",
       "│ i64       ┆ f64            ┆ i64     ┆ i64               ┆   ┆ f64      ┆ str        ┆ bool          ┆ i64   │\n",
       "╞═══════════╪════════════════╪═════════╪═══════════════════╪═══╪══════════╪════════════╪═══════════════╪═══════╡\n",
       "│ 24        ┆ 0.000141       ┆ 13      ┆ 0                 ┆ … ┆ 0.0      ┆ legitimate ┆ false         ┆ 0     │\n",
       "│ 24        ┆ 0.998962       ┆ 13      ┆ 0                 ┆ … ┆ 0.0      ┆ legitimate ┆ false         ┆ 0     │\n",
       "│ 16        ┆ 0.000007       ┆ 0       ┆ 0                 ┆ … ┆ 0.0      ┆ legitimate ┆ false         ┆ 0     │\n",
       "│ 24        ┆ 0.000141       ┆ 13      ┆ 0                 ┆ … ┆ 0.0      ┆ legitimate ┆ false         ┆ 0     │\n",
       "│ 16        ┆ 0.000009       ┆ 0       ┆ 0                 ┆ … ┆ 0.0      ┆ legitimate ┆ false         ┆ 0     │\n",
       "└───────────┴────────────────┴─────────┴───────────────────┴───┴──────────┴────────────┴───────────────┴───────┘"
      ],
      "text/html": [
       "<div><style>\n",
       ".dataframe > thead > tr,\n",
       ".dataframe > tbody > tr {\n",
       "  text-align: right;\n",
       "  white-space: pre-wrap;\n",
       "}\n",
       "</style>\n",
       "<small>shape: (5, 23)</small><table border=\"1\" class=\"dataframe\"><thead><tr><th>tcp.flags</th><th>tcp.time_delta</th><th>tcp.len</th><th>mqtt.conack.flags</th><th>mqtt.conack.val</th><th>mqtt.conflag.cleansess</th><th>mqtt.conflag.passwd</th><th>mqtt.conflag.uname</th><th>mqtt.conflags</th><th>mqtt.dupflag</th><th>mqtt.hdrflags</th><th>mqtt.kalive</th><th>mqtt.len</th><th>mqtt.msg</th><th>mqtt.msgid</th><th>mqtt.msgtype</th><th>mqtt.proto_len</th><th>mqtt.qos</th><th>mqtt.retain</th><th>mqtt.ver</th><th>target</th><th>is_mqtt_proto</th><th>label</th></tr><tr><td>i64</td><td>f64</td><td>i64</td><td>i64</td><td>f64</td><td>f64</td><td>f64</td><td>f64</td><td>i64</td><td>f64</td><td>i64</td><td>f64</td><td>f64</td><td>str</td><td>f64</td><td>f64</td><td>f64</td><td>f64</td><td>f64</td><td>f64</td><td>str</td><td>bool</td><td>i64</td></tr></thead><tbody><tr><td>24</td><td>0.000141</td><td>13</td><td>0</td><td>0.0</td><td>0.0</td><td>0.0</td><td>0.0</td><td>0</td><td>0.0</td><td>48</td><td>0.0</td><td>11.0</td><td>&quot;32&quot;</td><td>0.0</td><td>3.0</td><td>0.0</td><td>0.0</td><td>0.0</td><td>0.0</td><td>&quot;legitimate&quot;</td><td>false</td><td>0</td></tr><tr><td>24</td><td>0.998962</td><td>13</td><td>0</td><td>0.0</td><td>0.0</td><td>0.0</td><td>0.0</td><td>0</td><td>0.0</td><td>48</td><td>0.0</td><td>11.0</td><td>&quot;30&quot;</td><td>0.0</td><td>3.0</td><td>0.0</td><td>0.0</td><td>0.0</td><td>0.0</td><td>&quot;legitimate&quot;</td><td>false</td><td>0</td></tr><tr><td>16</td><td>0.000007</td><td>0</td><td>0</td><td>0.0</td><td>0.0</td><td>0.0</td><td>0.0</td><td>0</td><td>0.0</td><td>0</td><td>0.0</td><td>0.0</td><td>&quot;0&quot;</td><td>0.0</td><td>0.0</td><td>0.0</td><td>0.0</td><td>0.0</td><td>0.0</td><td>&quot;legitimate&quot;</td><td>false</td><td>0</td></tr><tr><td>24</td><td>0.000141</td><td>13</td><td>0</td><td>0.0</td><td>0.0</td><td>0.0</td><td>0.0</td><td>0</td><td>0.0</td><td>48</td><td>0.0</td><td>11.0</td><td>&quot;31&quot;</td><td>0.0</td><td>3.0</td><td>0.0</td><td>0.0</td><td>0.0</td><td>0.0</td><td>&quot;legitimate&quot;</td><td>false</td><td>0</td></tr><tr><td>16</td><td>0.000009</td><td>0</td><td>0</td><td>0.0</td><td>0.0</td><td>0.0</td><td>0.0</td><td>0</td><td>0.0</td><td>0</td><td>0.0</td><td>0.0</td><td>&quot;0&quot;</td><td>0.0</td><td>0.0</td><td>0.0</td><td>0.0</td><td>0.0</td><td>0.0</td><td>&quot;legitimate&quot;</td><td>false</td><td>0</td></tr></tbody></table></div>"
      ]
     },
     "execution_count": 24,
     "metadata": {},
     "output_type": "execute_result"
    }
   ],
   "execution_count": 24
  },
  {
   "metadata": {},
   "cell_type": "code",
   "outputs": [
    {
     "data": {
      "text/plain": [
       "<Figure size 1000x600 with 1 Axes>"
      ],
      "image/png": "[encoded data removed]"
     },
     "metadata": {},
     "output_type": "display_data"
    }
   ],
   "execution_count": 32,
   "source": "polars_plot_target_relationship(mqtt_df, \"tcp.flags\", log_scale=True)",
   "id": "993dd71c5db16cfe"
  },
  {
   "metadata": {},
   "cell_type": "code",
   "outputs": [
    {
     "data": {
      "text/plain": [
       "<Figure size 1000x600 with 1 Axes>"
      ],
      "image/png": "[encoded data removed]"
     },
     "metadata": {},
     "output_type": "display_data"
    }
   ],
   "execution_count": 30,
   "source": "polars_plot_target_relationship(mqtt_df, \"tcp.len\", log_scale=True)",
   "id": "f2856f5cd936df8a"
  },
  {
   "metadata": {},
   "cell_type": "markdown",
   "source": "### Data Normalization",
   "id": "4740e6afc7de990a"
  },
  {
   "metadata": {},
   "cell_type": "code",
   "source": "",
   "id": "aba005c30767d68b",
   "outputs": [],
   "execution_count": null
  }
 ],
 "metadata": {
  "kernelspec": {
   "display_name": "Python 3",
   "language": "python",
   "name": "python3"
  },
  "language_info": {
   "codemirror_mode": {
    "name": "ipython",
    "version": 2
   },
   "file_extension": ".py",
   "mimetype": "text/x-python",
   "name": "python",
   "nbconvert_exporter": "python",
   "pygments_lexer": "ipython2",
   "version": "2.7.6"
  }
 },
 "nbformat": 4,
 "nbformat_minor": 5
}
