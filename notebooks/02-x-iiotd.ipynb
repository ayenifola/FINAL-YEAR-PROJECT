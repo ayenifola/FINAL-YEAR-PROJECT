{
 "cells": [
  {
   "metadata": {},
   "cell_type": "markdown",
   "source": [
    "# X-IIoTID: intrusion dataset for IoT and IIoT\n",
    "\n",
    "[Kaggle Reference](https://www.kaggle.com/datasets/munaalhawawreh/xiiotid-iiot-intrusion-dataset)"
   ],
   "id": "8c9b37eaba3f2037"
  },
  {
   "metadata": {
    "collapsed": true,
    "ExecuteTime": {
     "end_time": "2025-05-30T14:49:35.996033Z",
     "start_time": "2025-05-30T14:49:35.730901Z"
    }
   },
   "cell_type": "code",
   "source": [
    "import kagglehub\n",
    "import matplotlib.pyplot as plt\n",
    "import numpy as np\n",
    "import polars as pl\n",
    "import seaborn as sns\n",
    "from sklearn.preprocessing import OrdinalEncoder, OneHotEncoder"
   ],
   "id": "initial_id",
   "outputs": [],
   "execution_count": 1
  },
  {
   "metadata": {},
   "cell_type": "markdown",
   "source": "## Load Dataset",
   "id": "e9adc11844ae5b69"
  },
  {
   "metadata": {
    "ExecuteTime": {
     "end_time": "2025-05-30T14:49:37.050673Z",
     "start_time": "2025-05-30T14:49:36.236604Z"
    }
   },
   "cell_type": "code",
   "source": [
    "dataset_path = kagglehub.dataset_download(\"munaalhawawreh/xiiotid-iiot-intrusion-dataset\")\n",
    "dataset_path"
   ],
   "id": "eb332c2b2a4f863f",
   "outputs": [
    {
     "name": "stdout",
     "output_type": "stream",
     "text": [
      "Warning: Looks like you're using an outdated `kagglehub` version (installed: 0.3.8), please consider upgrading to the latest version (0.3.12).\n"
     ]
    },
    {
     "data": {
      "text/plain": [
       "'C:\\\\Users\\\\Sesugh\\\\.cache\\\\kagglehub\\\\datasets\\\\munaalhawawreh\\\\xiiotid-iiot-intrusion-dataset\\\\versions\\\\1'"
      ]
     },
     "execution_count": 2,
     "metadata": {},
     "output_type": "execute_result"
    }
   ],
   "execution_count": 2
  },
  {
   "metadata": {
    "ExecuteTime": {
     "end_time": "2025-05-30T14:49:37.758249Z",
     "start_time": "2025-05-30T14:49:37.067463Z"
    }
   },
   "cell_type": "code",
   "source": [
    "df_main = pl.read_csv(f\"{dataset_path}/X-IIoTID dataset.csv\", infer_schema_length=100_000)\n",
    "df_main.head()"
   ],
   "id": "c52f7f5e6e394c7a",
   "outputs": [
    {
     "data": {
      "text/plain": [
       "shape: (5, 68)\n",
       "┌────────────┬────────────┬────────────┬──────────┬───┬───────────┬───────────┬───────────┬────────┐\n",
       "│ Date       ┆ Timestamp  ┆ Scr_IP     ┆ Scr_port ┆ … ┆ is_privil ┆ class1    ┆ class2    ┆ class3 │\n",
       "│ ---        ┆ ---        ┆ ---        ┆ ---      ┆   ┆ eged      ┆ ---       ┆ ---       ┆ ---    │\n",
       "│ str        ┆ str        ┆ str        ┆ str      ┆   ┆ ---       ┆ str       ┆ str       ┆ str    │\n",
       "│            ┆            ┆            ┆          ┆   ┆ i64       ┆           ┆           ┆        │\n",
       "╞════════════╪════════════╪════════════╪══════════╪═══╪═══════════╪═══════════╪═══════════╪════════╡\n",
       "│ 9/01/2020  ┆ 1578540956 ┆ 192.168.2. ┆ 49278    ┆ … ┆ 0         ┆ Scanning_ ┆ Reconnais ┆ Attack │\n",
       "│            ┆            ┆ 199        ┆          ┆   ┆           ┆ vulnerabi ┆ sance     ┆        │\n",
       "│            ┆            ┆            ┆          ┆   ┆           ┆ lity      ┆           ┆        │\n",
       "│ 13/01/2020 ┆ 1578871873 ┆ 10.0.1.5   ┆ 39769    ┆ … ┆ 0         ┆ Normal    ┆ Normal    ┆ Normal │\n",
       "│ 9/01/2020  ┆ 1578522486 ┆ 172.24.1.8 ┆ 59050    ┆ … ┆ 0         ┆ Normal    ┆ Normal    ┆ Normal │\n",
       "│            ┆            ┆ 0          ┆          ┆   ┆           ┆           ┆           ┆        │\n",
       "│ 27/02/2020 ┆ 1582757640 ┆ 192.168.2. ┆ 37966    ┆ … ┆ 1         ┆ Normal    ┆ Normal    ┆ Normal │\n",
       "│            ┆            ┆ 196        ┆          ┆   ┆           ┆           ┆           ┆        │\n",
       "│ 16/12/2019 ┆ 1576452612 ┆ 172.24.1.8 ┆ 38233    ┆ … ┆ 0         ┆ Normal    ┆ Normal    ┆ Normal │\n",
       "│            ┆            ┆ 0          ┆          ┆   ┆           ┆           ┆           ┆        │\n",
       "└────────────┴────────────┴────────────┴──────────┴───┴───────────┴───────────┴───────────┴────────┘"
      ],
      "text/html": [
       "<div><style>\n",
       ".dataframe > thead > tr,\n",
       ".dataframe > tbody > tr {\n",
       "  text-align: right;\n",
       "  white-space: pre-wrap;\n",
       "}\n",
       "</style>\n",
       "<small>shape: (5, 68)</small><table border=\"1\" class=\"dataframe\"><thead><tr><th>Date</th><th>Timestamp</th><th>Scr_IP</th><th>Scr_port</th><th>Des_IP</th><th>Des_port</th><th>Protocol</th><th>Service</th><th>Duration</th><th>Scr_bytes</th><th>Des_bytes</th><th>Conn_state</th><th>missed_bytes</th><th>is_syn_only</th><th>Is_SYN_ACK</th><th>is_pure_ack</th><th>is_with_payload</th><th>FIN or RST</th><th>Bad_checksum</th><th>is_SYN_with_RST</th><th>Scr_pkts</th><th>Scr_ip_bytes</th><th>Des_pkts</th><th>Des_ip_bytes</th><th>anomaly_alert</th><th>total_bytes</th><th>total_packet</th><th>paket_rate</th><th>byte_rate</th><th>Scr_packts_ratio</th><th>Des_pkts_ratio</th><th>Scr_bytes_ratio</th><th>Des_bytes_ratio</th><th>Avg_user_time</th><th>Std_user_time</th><th>Avg_nice_time</th><th>Std_nice_time</th><th>Avg_system_time</th><th>Std_system_time</th><th>Avg_iowait_time</th><th>Std_iowait_time</th><th>Avg_ideal_time</th><th>Std_ideal_time</th><th>Avg_tps</th><th>Std_tps</th><th>Avg_rtps</th><th>Std_rtps</th><th>Avg_wtps</th><th>Std_wtps</th><th>Avg_ldavg_1</th><th>Std_ldavg_1</th><th>Avg_kbmemused</th><th>Std_kbmemused</th><th>Avg_num_Proc/s</th><th>Std_num_proc/s</th><th>Avg_num_cswch/s</th><th>std_num_cswch/s</th><th>OSSEC_alert</th><th>OSSEC_alert_level</th><th>Login_attempt</th><th>Succesful_login</th><th>File_activity</th><th>Process_activity</th><th>read_write_physical.process</th><th>is_privileged</th><th>class1</th><th>class2</th><th>class3</th></tr><tr><td>str</td><td>str</td><td>str</td><td>str</td><td>str</td><td>str</td><td>str</td><td>str</td><td>str</td><td>str</td><td>str</td><td>i64</td><td>str</td><td>bool</td><td>bool</td><td>bool</td><td>bool</td><td>bool</td><td>bool</td><td>bool</td><td>str</td><td>str</td><td>str</td><td>str</td><td>str</td><td>str</td><td>str</td><td>str</td><td>str</td><td>str</td><td>str</td><td>str</td><td>str</td><td>str</td><td>str</td><td>str</td><td>str</td><td>str</td><td>str</td><td>str</td><td>str</td><td>str</td><td>str</td><td>str</td><td>str</td><td>str</td><td>str</td><td>str</td><td>str</td><td>str</td><td>str</td><td>str</td><td>str</td><td>str</td><td>str</td><td>str</td><td>str</td><td>i64</td><td>i64</td><td>i64</td><td>i64</td><td>i64</td><td>i64</td><td>i64</td><td>i64</td><td>str</td><td>str</td><td>str</td></tr></thead><tbody><tr><td>&quot;9/01/2020&quot;</td><td>&quot;1578540956&quot;</td><td>&quot;192.168.2.199&quot;</td><td>&quot;49278&quot;</td><td>&quot;192.168.2.10&quot;</td><td>&quot;80&quot;</td><td>&quot;tcp&quot;</td><td>&quot;http&quot;</td><td>&quot;0.67369&quot;</td><td>&quot;13437&quot;</td><td>&quot;34924&quot;</td><td>1</td><td>&quot;0&quot;</td><td>true</td><td>true</td><td>true</td><td>true</td><td>true</td><td>false</td><td>false</td><td>&quot;105&quot;</td><td>&quot;18905&quot;</td><td>&quot;105&quot;</td><td>&quot;40392&quot;</td><td>&quot;TRUE&quot;</td><td>&quot;107658&quot;</td><td>&quot;210&quot;</td><td>&quot;311.7160712&quot;</td><td>&quot;159803.4704&quot;</td><td>&quot;0.5&quot;</td><td>&quot;0.5&quot;</td><td>&quot;0.300414275&quot;</td><td>&quot;0.699585725&quot;</td><td>&quot;9.207&quot;</td><td>&quot;5.55584206&quot;</td><td>&quot;10.994&quot;</td><td>&quot;1.356305275&quot;</td><td>&quot;4.864&quot;</td><td>&quot;1.873004004&quot;</td><td>&quot;0.311&quot;</td><td>&quot;0.224653066&quot;</td><td>&quot;74.624&quot;</td><td>&quot;8.245611196&quot;</td><td>&quot;12.297&quot;</td><td>&quot;10.38585004&quot;</td><td>&quot;8&quot;</td><td>&quot;10.50714043&quot;</td><td>&quot;4.297&quot;</td><td>&quot;2.723578712&quot;</td><td>&quot;2.146&quot;</td><td>&quot;0.102781321&quot;</td><td>&quot;915852.8&quot;</td><td>&quot;2507.97563&quot;</td><td>&quot;5.1&quot;</td><td>&quot;3.238826948&quot;</td><td>&quot;2806.2&quot;</td><td>&quot;158.7493622&quot;</td><td>1</td><td>5</td><td>0</td><td>0</td><td>0</td><td>0</td><td>0</td><td>0</td><td>&quot;Scanning_vulnerability&quot;</td><td>&quot;Reconnaissance&quot;</td><td>&quot;Attack&quot;</td></tr><tr><td>&quot;13/01/2020&quot;</td><td>&quot;1578871873&quot;</td><td>&quot;10.0.1.5&quot;</td><td>&quot;39769&quot;</td><td>&quot;131.236.3.92&quot;</td><td>&quot;53&quot;</td><td>&quot;udp&quot;</td><td>&quot;dns&quot;</td><td>&quot;0.000083&quot;</td><td>&quot;78&quot;</td><td>&quot;0&quot;</td><td>1</td><td>&quot;0&quot;</td><td>false</td><td>false</td><td>false</td><td>true</td><td>false</td><td>false</td><td>false</td><td>&quot;2&quot;</td><td>&quot;134&quot;</td><td>&quot;0&quot;</td><td>&quot;0&quot;</td><td>&quot;FALSE&quot;</td><td>&quot;212&quot;</td><td>&quot;2&quot;</td><td>&quot;24096.38554&quot;</td><td>&quot;2554216.867&quot;</td><td>&quot;1&quot;</td><td>&quot;0&quot;</td><td>&quot;1&quot;</td><td>&quot;0&quot;</td><td>&quot;12.326&quot;</td><td>&quot;6.674247823&quot;</td><td>&quot;2.895&quot;</td><td>&quot;1.604302029&quot;</td><td>&quot;3.778&quot;</td><td>&quot;2.099741889&quot;</td><td>&quot;2.741&quot;</td><td>&quot;5.327471164&quot;</td><td>&quot;78.263&quot;</td><td>&quot;8.869399134&quot;</td><td>&quot;6.6&quot;</td><td>&quot;5.713142743&quot;</td><td>&quot;0&quot;</td><td>&quot;0&quot;</td><td>&quot;6.6&quot;</td><td>&quot;5.713142743&quot;</td><td>&quot;0.612&quot;</td><td>&quot;0.037629775&quot;</td><td>&quot;910498.4&quot;</td><td>&quot;4044.112046&quot;</td><td>&quot;1&quot;</td><td>&quot;0.894427191&quot;</td><td>&quot;1561.6&quot;</td><td>&quot;247.0802299&quot;</td><td>0</td><td>0</td><td>0</td><td>0</td><td>0</td><td>0</td><td>0</td><td>0</td><td>&quot;Normal&quot;</td><td>&quot;Normal&quot;</td><td>&quot;Normal&quot;</td></tr><tr><td>&quot;9/01/2020&quot;</td><td>&quot;1578522486&quot;</td><td>&quot;172.24.1.80&quot;</td><td>&quot;59050&quot;</td><td>&quot;172.24.1.1&quot;</td><td>&quot;53&quot;</td><td>&quot;udp&quot;</td><td>&quot;dns&quot;</td><td>&quot;0.000132&quot;</td><td>&quot;38&quot;</td><td>&quot;38&quot;</td><td>1</td><td>&quot;0&quot;</td><td>false</td><td>false</td><td>false</td><td>true</td><td>false</td><td>false</td><td>false</td><td>&quot;1&quot;</td><td>&quot;66&quot;</td><td>&quot;1&quot;</td><td>&quot;66&quot;</td><td>&quot;FALSE&quot;</td><td>&quot;208&quot;</td><td>&quot;2&quot;</td><td>&quot;15151.51515&quot;</td><td>&quot;1575757.576&quot;</td><td>&quot;0.5&quot;</td><td>&quot;0.5&quot;</td><td>&quot;0.5&quot;</td><td>&quot;0.5&quot;</td><td>&quot;6.931&quot;</td><td>&quot;6.416007248&quot;</td><td>&quot;0.706&quot;</td><td>&quot;0.408905857&quot;</td><td>&quot;1.693&quot;</td><td>&quot;0.771635277&quot;</td><td>&quot;2.423&quot;</td><td>&quot;3.829809525&quot;</td><td>&quot;88.245&quot;</td><td>&quot;7.112108337&quot;</td><td>&quot;37.4&quot;</td><td>&quot;40.19004852&quot;</td><td>&quot;30.1&quot;</td><td>&quot;39.79811553&quot;</td><td>&quot;7.3&quot;</td><td>&quot;3.1&quot;</td><td>&quot;0.55&quot;</td><td>&quot;0.02&quot;</td><td>&quot;921020.4&quot;</td><td>&quot;2139.652645&quot;</td><td>&quot;1&quot;</td><td>&quot;0&quot;</td><td>&quot;1603.3&quot;</td><td>&quot;294.1390997&quot;</td><td>0</td><td>0</td><td>0</td><td>0</td><td>0</td><td>0</td><td>0</td><td>0</td><td>&quot;Normal&quot;</td><td>&quot;Normal&quot;</td><td>&quot;Normal&quot;</td></tr><tr><td>&quot;27/02/2020&quot;</td><td>&quot;1582757640&quot;</td><td>&quot;192.168.2.196&quot;</td><td>&quot;37966&quot;</td><td>&quot;192.168.2.10&quot;</td><td>&quot;1880&quot;</td><td>&quot;tcp&quot;</td><td>&quot;websocket&quot;</td><td>&quot;9.378481&quot;</td><td>&quot;1121&quot;</td><td>&quot;484&quot;</td><td>1</td><td>&quot;0&quot;</td><td>true</td><td>true</td><td>true</td><td>true</td><td>true</td><td>false</td><td>false</td><td>&quot;8&quot;</td><td>&quot;1545&quot;</td><td>&quot;6&quot;</td><td>&quot;804&quot;</td><td>&quot;FALSE&quot;</td><td>&quot;3954&quot;</td><td>&quot;14&quot;</td><td>&quot;1.492779055&quot;</td><td>&quot;421.6034558&quot;</td><td>&quot;0.571428571&quot;</td><td>&quot;0.428571429&quot;</td><td>&quot;0.67425392&quot;</td><td>&quot;0.32574608&quot;</td><td>&quot;10.244&quot;</td><td>&quot;7.932040343&quot;</td><td>&quot;1.965&quot;</td><td>&quot;1.514168088&quot;</td><td>&quot;3.941&quot;</td><td>&quot;1.709055002&quot;</td><td>&quot;0.509&quot;</td><td>&quot;0.425522032&quot;</td><td>&quot;83.339&quot;</td><td>&quot;10.20608686&quot;</td><td>&quot;29&quot;</td><td>&quot;26.57442379&quot;</td><td>&quot;23.3&quot;</td><td>&quot;26.12680616&quot;</td><td>&quot;5.7&quot;</td><td>&quot;6.229767251&quot;</td><td>&quot;0.708&quot;</td><td>&quot;0.026&quot;</td><td>&quot;915874.8&quot;</td><td>&quot;977.8851466&quot;</td><td>&quot;7.2&quot;</td><td>&quot;5.325410782&quot;</td><td>&quot;1685.3&quot;</td><td>&quot;467.8737116&quot;</td><td>0</td><td>0</td><td>1</td><td>1</td><td>1</td><td>1</td><td>1</td><td>1</td><td>&quot;Normal&quot;</td><td>&quot;Normal&quot;</td><td>&quot;Normal&quot;</td></tr><tr><td>&quot;16/12/2019&quot;</td><td>&quot;1576452612&quot;</td><td>&quot;172.24.1.80&quot;</td><td>&quot;38233&quot;</td><td>&quot;172.24.1.1&quot;</td><td>&quot;53&quot;</td><td>&quot;udp&quot;</td><td>&quot;dns&quot;</td><td>&quot;0.000074&quot;</td><td>&quot;-&quot;</td><td>&quot;-&quot;</td><td>1</td><td>&quot;0&quot;</td><td>false</td><td>false</td><td>false</td><td>true</td><td>false</td><td>false</td><td>false</td><td>&quot;-&quot;</td><td>&quot;-&quot;</td><td>&quot;-&quot;</td><td>&quot;-&quot;</td><td>&quot;FALSE&quot;</td><td>&quot;-&quot;</td><td>&quot;-&quot;</td><td>&quot;-&quot;</td><td>&quot;-&quot;</td><td>&quot;-&quot;</td><td>&quot;-&quot;</td><td>&quot;-&quot;</td><td>&quot;-&quot;</td><td>&quot;5.181&quot;</td><td>&quot;5.980458929&quot;</td><td>&quot;2.365&quot;</td><td>&quot;1.284462923&quot;</td><td>&quot;2.415&quot;</td><td>&quot;1.401151312&quot;</td><td>&quot;1.803&quot;</td><td>&quot;4.478256469&quot;</td><td>&quot;88.239&quot;</td><td>&quot;8.090017862&quot;</td><td>&quot;9.8&quot;</td><td>&quot;1.326649916&quot;</td><td>&quot;0.1&quot;</td><td>&quot;0.3&quot;</td><td>&quot;9.7&quot;</td><td>&quot;1.268857754&quot;</td><td>&quot;0.536&quot;</td><td>&quot;0.030066593&quot;</td><td>&quot;918213.2&quot;</td><td>&quot;2342.93836&quot;</td><td>&quot;0.6&quot;</td><td>&quot;0.489897949&quot;</td><td>&quot;1456.5&quot;</td><td>&quot;346.8847791&quot;</td><td>0</td><td>0</td><td>0</td><td>0</td><td>0</td><td>0</td><td>0</td><td>0</td><td>&quot;Normal&quot;</td><td>&quot;Normal&quot;</td><td>&quot;Normal&quot;</td></tr></tbody></table></div>"
      ]
     },
     "execution_count": 3,
     "metadata": {},
     "output_type": "execute_result"
    }
   ],
   "execution_count": 3
  },
  {
   "metadata": {},
   "cell_type": "markdown",
   "source": [
    "## Data Analysis & Cleaning\n",
    "\n",
    "Here, we wanna see for every column, what the data looks like? What is the data type? (float?, string?) Are any columns redundant? Meaning they have the same data for all rows? How many unique items do we have for each column?"
   ],
   "id": "1564251f2822cf7"
  },
  {
   "metadata": {
    "ExecuteTime": {
     "end_time": "2025-05-30T14:49:37.837479Z",
     "start_time": "2025-05-30T14:49:37.821472Z"
    }
   },
   "cell_type": "code",
   "source": [
    "def summarize_columns(df: pl.DataFrame, features: list | None = None) -> pl.DataFrame:\n",
    "    \"\"\"\n",
    "    For a given Polars DataFrame, analyzes variable types, missing values, and distribution.\n",
    "\n",
    "    Parameters:\n",
    "    ----------\n",
    "    df: pl.DataFrame\n",
    "    features: list of column names to analyze. If empty, all columns will be considered.\n",
    "\n",
    "    Returns:\n",
    "    -------\n",
    "    pl.DataFrame with structure analysis and recommendations for each feature.\n",
    "    \"\"\"\n",
    "\n",
    "    # Use all columns if features not specified\n",
    "    features = features or df.columns\n",
    "\n",
    "    # Helper function to get value densities\n",
    "    def value_densities(dataframe: pl.DataFrame, col):\n",
    "        vc = dataframe[col].value_counts(sort=True)\n",
    "        vc = vc.with_columns((pl.col(\"count\") / pl.col(\"count\").sum()).alias(\"density\"))\n",
    "        vc = vc.with_columns((pl.col(\"density\") * 100).round(3).alias(\"density\"))\n",
    "        return vc[\"density\"].to_list()\n",
    "\n",
    "    # Collect column-wise stats\n",
    "    result_data = []\n",
    "\n",
    "    for col in features:\n",
    "        series = df[col]\n",
    "        dtype = series.dtype\n",
    "\n",
    "        total = df.height\n",
    "        missing = df.select(pl.col(col).is_null().sum())[0, 0]\n",
    "        observed = total - missing\n",
    "        missing_rate = round((missing / total) * 100, 2) if total > 0 else 0.0\n",
    "\n",
    "        nunique = df.select(pl.col(col).n_unique())[0, 0]\n",
    "\n",
    "        # Distribution densities\n",
    "        densities = value_densities(df, col)\n",
    "        first_density = densities[0]\n",
    "        second_density = densities[1] if len(densities) > 1 else 0.0\n",
    "        diff_density = round(first_density - second_density, 3)\n",
    "\n",
    "        # Determine feature type\n",
    "        if nunique <= 1:\n",
    "            feature_type = \"Superfluous\"\n",
    "        elif nunique == 2:\n",
    "            feature_type = \"Flag\"\n",
    "        elif 2 < nunique <= 10:\n",
    "            feature_type = \"Categorical\"\n",
    "        else:\n",
    "            feature_type = \"Categorical - High Cardinality\"\n",
    "\n",
    "        result_data.append(\n",
    "            {\n",
    "                \"Feature\": col,\n",
    "                \"Observations\": observed,\n",
    "                \"Missing\": missing,\n",
    "                \"Missing rate (%)\": missing_rate,\n",
    "                \"1st value density (%)\": first_density,\n",
    "                \"1st to 2nd value density difference (%)\": diff_density,\n",
    "                \"Variable type\": str(dtype),\n",
    "                \"Unique values\": nunique,\n",
    "                \"Feature type\": feature_type,\n",
    "            }\n",
    "        )\n",
    "\n",
    "    # Create Polars DataFrame and sort it\n",
    "    result_df = pl.DataFrame(result_data)\n",
    "    result_df = result_df.sort([\"Feature type\", \"Unique values\"])\n",
    "\n",
    "    return result_df\n",
    "\n",
    "\n",
    "def plot_target_relationship(\n",
    "    df: pl.DataFrame, feature_col: str, target_col: str = \"Attack_label\", log_scale: bool = False\n",
    "):\n",
    "    \"\"\"\n",
    "    Plot the relationship between a feature column and the target column using Polars for processing.\n",
    "\n",
    "    Parameters:\n",
    "        df (pl.DataFrame): The Polars DataFrame\n",
    "        feature_col (str): Feature column name\n",
    "        target_col (str): Target column name (categorical)\n",
    "    \"\"\"\n",
    "    # Determine column type\n",
    "    is_categorical = (\n",
    "        df[feature_col].dtype in [pl.Utf8, pl.Categorical] or df[feature_col].n_unique() < 20\n",
    "    )\n",
    "\n",
    "    if is_categorical:\n",
    "        # Group by feature and target to count occurrences\n",
    "        grouped = df.group_by([feature_col, target_col]).len().rename({\"len\": \"count\"}).to_pandas()\n",
    "\n",
    "        plt.figure(figsize=(10, 6))\n",
    "        sns.barplot(data=grouped, x=feature_col, y=\"count\", hue=target_col)\n",
    "        if log_scale:\n",
    "            plt.yscale(\"log\")\n",
    "        plt.title(f\"Distribution of {feature_col} by {target_col}\")\n",
    "        plt.xticks(rotation=45)\n",
    "        plt.tight_layout()\n",
    "\n",
    "    else:\n",
    "        # Convert needed columns to pandas for seaborn boxplot\n",
    "        plot_df = df.select([feature_col, target_col]).to_pandas()\n",
    "\n",
    "        plt.figure(figsize=(10, 6))\n",
    "        ax = sns.boxplot(data=plot_df, x=target_col, y=feature_col)\n",
    "        if log_scale:\n",
    "            ax.set_yscale(\"log\")\n",
    "        plt.title(f\"{feature_col} distribution by {target_col}\")\n",
    "        plt.xticks(rotation=45)\n",
    "        plt.tight_layout()\n",
    "\n",
    "    plt.show()"
   ],
   "id": "1648429f5f4dc16c",
   "outputs": [],
   "execution_count": 4
  },
  {
   "metadata": {
    "ExecuteTime": {
     "end_time": "2025-05-30T14:49:41.288112Z",
     "start_time": "2025-05-30T14:49:37.902222Z"
    }
   },
   "cell_type": "code",
   "source": [
    "columns_df = summarize_columns(df_main)\n",
    "columns_df"
   ],
   "id": "6764d12f628b0907",
   "outputs": [
    {
     "data": {
      "text/plain": [
       "shape: (68, 9)\n",
       "┌────────────┬────────────┬─────────┬────────────┬───┬────────────┬───────────┬────────┬───────────┐\n",
       "│ Feature    ┆ Observatio ┆ Missing ┆ Missing    ┆ … ┆ 1st to 2nd ┆ Variable  ┆ Unique ┆ Feature   │\n",
       "│ ---        ┆ ns         ┆ ---     ┆ rate (%)   ┆   ┆ value      ┆ type      ┆ values ┆ type      │\n",
       "│ str        ┆ ---        ┆ i64     ┆ ---        ┆   ┆ density    ┆ ---       ┆ ---    ┆ ---       │\n",
       "│            ┆ i64        ┆         ┆ f64        ┆   ┆ diffe…     ┆ str       ┆ i64    ┆ str       │\n",
       "│            ┆            ┆         ┆            ┆   ┆ ---        ┆           ┆        ┆           │\n",
       "│            ┆            ┆         ┆            ┆   ┆ f64        ┆           ┆        ┆           │\n",
       "╞════════════╪════════════╪═════════╪════════════╪═══╪════════════╪═══════════╪════════╪═══════════╡\n",
       "│ anomaly_al ┆ 820834     ┆ 0       ┆ 0.0        ┆ … ┆ 80.384     ┆ String    ┆ 3      ┆ Categoric │\n",
       "│ ert        ┆            ┆         ┆            ┆   ┆            ┆           ┆        ┆ al        │\n",
       "│ Protocol   ┆ 820834     ┆ 0       ┆ 0.0        ┆ … ┆ 3.255      ┆ String    ┆ 4      ┆ Categoric │\n",
       "│            ┆            ┆         ┆            ┆   ┆            ┆           ┆        ┆ al        │\n",
       "│ OSSEC_aler ┆ 820834     ┆ 0       ┆ 0.0        ┆ … ┆ 90.205     ┆ Int64     ┆ 6      ┆ Categoric │\n",
       "│ t_level    ┆            ┆         ┆            ┆   ┆            ┆           ┆        ┆ al        │\n",
       "│ class2     ┆ 820834     ┆ 0       ┆ 0.0        ┆ … ┆ 34.131     ┆ String    ┆ 10     ┆ Categoric │\n",
       "│            ┆            ┆         ┆            ┆   ┆            ┆           ┆        ┆ al        │\n",
       "│ Service    ┆ 820834     ┆ 0       ┆ 0.0        ┆ … ┆ 1.83       ┆ String    ┆ 17     ┆ Categoric │\n",
       "│            ┆            ┆         ┆            ┆   ┆            ┆           ┆        ┆ al - High │\n",
       "│            ┆            ┆         ┆            ┆   ┆            ┆           ┆        ┆ Cardinali │\n",
       "│            ┆            ┆         ┆            ┆   ┆            ┆           ┆        ┆ ty        │\n",
       "│ …          ┆ …          ┆ …       ┆ …          ┆ … ┆ …          ┆ …         ┆ …      ┆ …         │\n",
       "│ is_privile ┆ 820834     ┆ 0       ┆ 0.0        ┆ … ┆ 83.508     ┆ Int64     ┆ 2      ┆ Flag      │\n",
       "│ ged        ┆            ┆         ┆            ┆   ┆            ┆           ┆        ┆           │\n",
       "│ FIN or RST ┆ 820834     ┆ 0       ┆ 0.0        ┆ … ┆ 1.234      ┆ Boolean   ┆ 2      ┆ Flag      │\n",
       "│ class3     ┆ 820834     ┆ 0       ┆ 0.0        ┆ … ┆ 2.68       ┆ String    ┆ 2      ┆ Flag      │\n",
       "│ is_SYN_wit ┆ 820834     ┆ 0       ┆ 0.0        ┆ … ┆ 100.0      ┆ Boolean   ┆ 1      ┆ Superfluo │\n",
       "│ h_RST      ┆            ┆         ┆            ┆   ┆            ┆           ┆        ┆ us        │\n",
       "│ Bad_checks ┆ 820834     ┆ 0       ┆ 0.0        ┆ … ┆ 100.0      ┆ Boolean   ┆ 1      ┆ Superfluo │\n",
       "│ um         ┆            ┆         ┆            ┆   ┆            ┆           ┆        ┆ us        │\n",
       "└────────────┴────────────┴─────────┴────────────┴───┴────────────┴───────────┴────────┴───────────┘"
      ],
      "text/html": [
       "<div><style>\n",
       ".dataframe > thead > tr,\n",
       ".dataframe > tbody > tr {\n",
       "  text-align: right;\n",
       "  white-space: pre-wrap;\n",
       "}\n",
       "</style>\n",
       "<small>shape: (68, 9)</small><table border=\"1\" class=\"dataframe\"><thead><tr><th>Feature</th><th>Observations</th><th>Missing</th><th>Missing rate (%)</th><th>1st value density (%)</th><th>1st to 2nd value density difference (%)</th><th>Variable type</th><th>Unique values</th><th>Feature type</th></tr><tr><td>str</td><td>i64</td><td>i64</td><td>f64</td><td>f64</td><td>f64</td><td>str</td><td>i64</td><td>str</td></tr></thead><tbody><tr><td>&quot;anomaly_alert&quot;</td><td>820834</td><td>0</td><td>0.0</td><td>90.183</td><td>80.384</td><td>&quot;String&quot;</td><td>3</td><td>&quot;Categorical&quot;</td></tr><tr><td>&quot;Protocol&quot;</td><td>820834</td><td>0</td><td>0.0</td><td>51.452</td><td>3.255</td><td>&quot;String&quot;</td><td>4</td><td>&quot;Categorical&quot;</td></tr><tr><td>&quot;OSSEC_alert_level&quot;</td><td>820834</td><td>0</td><td>0.0</td><td>94.881</td><td>90.205</td><td>&quot;Int64&quot;</td><td>6</td><td>&quot;Categorical&quot;</td></tr><tr><td>&quot;class2&quot;</td><td>820834</td><td>0</td><td>0.0</td><td>51.34</td><td>34.131</td><td>&quot;String&quot;</td><td>10</td><td>&quot;Categorical&quot;</td></tr><tr><td>&quot;Service&quot;</td><td>820834</td><td>0</td><td>0.0</td><td>28.963</td><td>1.83</td><td>&quot;String&quot;</td><td>17</td><td>&quot;Categorical - High Cardinality&quot;</td></tr><tr><td>&hellip;</td><td>&hellip;</td><td>&hellip;</td><td>&hellip;</td><td>&hellip;</td><td>&hellip;</td><td>&hellip;</td><td>&hellip;</td><td>&hellip;</td></tr><tr><td>&quot;is_privileged&quot;</td><td>820834</td><td>0</td><td>0.0</td><td>91.754</td><td>83.508</td><td>&quot;Int64&quot;</td><td>2</td><td>&quot;Flag&quot;</td></tr><tr><td>&quot;FIN or RST&quot;</td><td>820834</td><td>0</td><td>0.0</td><td>50.617</td><td>1.234</td><td>&quot;Boolean&quot;</td><td>2</td><td>&quot;Flag&quot;</td></tr><tr><td>&quot;class3&quot;</td><td>820834</td><td>0</td><td>0.0</td><td>51.34</td><td>2.68</td><td>&quot;String&quot;</td><td>2</td><td>&quot;Flag&quot;</td></tr><tr><td>&quot;is_SYN_with_RST&quot;</td><td>820834</td><td>0</td><td>0.0</td><td>100.0</td><td>100.0</td><td>&quot;Boolean&quot;</td><td>1</td><td>&quot;Superfluous&quot;</td></tr><tr><td>&quot;Bad_checksum&quot;</td><td>820834</td><td>0</td><td>0.0</td><td>100.0</td><td>100.0</td><td>&quot;Boolean&quot;</td><td>1</td><td>&quot;Superfluous&quot;</td></tr></tbody></table></div>"
      ]
     },
     "execution_count": 5,
     "metadata": {},
     "output_type": "execute_result"
    }
   ],
   "execution_count": 5
  },
  {
   "metadata": {},
   "cell_type": "markdown",
   "source": "### Remove Superfluous Columns",
   "id": "99540f7c85a453d"
  },
  {
   "metadata": {
    "ExecuteTime": {
     "end_time": "2025-05-30T14:49:41.346191Z",
     "start_time": "2025-05-30T14:49:41.339963Z"
    }
   },
   "cell_type": "code",
   "source": [
    "superfluous_columns_df = columns_df.filter(pl.col(\"Feature type\") == \"Superfluous\")\n",
    "print(\"Number of Superfluous columns:\", len(superfluous_columns_df))\n",
    "superfluous_columns_df[\"Feature\"]"
   ],
   "id": "227fb0b9064dba00",
   "outputs": [
    {
     "name": "stdout",
     "output_type": "stream",
     "text": [
      "Number of Superfluous columns: 2\n"
     ]
    },
    {
     "data": {
      "text/plain": [
       "shape: (2,)\n",
       "Series: 'Feature' [str]\n",
       "[\n",
       "\t\"is_SYN_with_RST\"\n",
       "\t\"Bad_checksum\"\n",
       "]"
      ],
      "text/html": [
       "<div><style>\n",
       ".dataframe > thead > tr,\n",
       ".dataframe > tbody > tr {\n",
       "  text-align: right;\n",
       "  white-space: pre-wrap;\n",
       "}\n",
       "</style>\n",
       "<small>shape: (2,)</small><table border=\"1\" class=\"dataframe\"><thead><tr><th>Feature</th></tr><tr><td>str</td></tr></thead><tbody><tr><td>&quot;is_SYN_with_RST&quot;</td></tr><tr><td>&quot;Bad_checksum&quot;</td></tr></tbody></table></div>"
      ]
     },
     "execution_count": 6,
     "metadata": {},
     "output_type": "execute_result"
    }
   ],
   "execution_count": 6
  },
  {
   "metadata": {
    "ExecuteTime": {
     "end_time": "2025-05-30T14:49:41.429085Z",
     "start_time": "2025-05-30T14:49:41.423522Z"
    }
   },
   "cell_type": "code",
   "source": "superfluous_columns_df[\"Feature\"].to_list()",
   "id": "e680b882256405e9",
   "outputs": [
    {
     "data": {
      "text/plain": [
       "['is_SYN_with_RST', 'Bad_checksum']"
      ]
     },
     "execution_count": 7,
     "metadata": {},
     "output_type": "execute_result"
    }
   ],
   "execution_count": 7
  },
  {
   "metadata": {
    "ExecuteTime": {
     "end_time": "2025-05-30T14:49:41.566401Z",
     "start_time": "2025-05-30T14:49:41.546394Z"
    }
   },
   "cell_type": "code",
   "source": [
    "df_main = df_main.select(pl.exclude(superfluous_columns_df[\"Feature\"].to_list()))\n",
    "columns_df = columns_df.filter(\n",
    "    ~pl.col(\"Feature\").is_in(superfluous_columns_df[\"Feature\"].to_list())\n",
    ")\n",
    "print(\"Number of columns:\", len(df_main.columns), len(columns_df))"
   ],
   "id": "931e1d5d24e291ff",
   "outputs": [
    {
     "name": "stdout",
     "output_type": "stream",
     "text": [
      "Number of columns: 66 66\n"
     ]
    }
   ],
   "execution_count": 8
  },
  {
   "metadata": {},
   "cell_type": "markdown",
   "source": "### Label Distribution",
   "id": "abbdaaddd7e90daa"
  },
  {
   "metadata": {
    "ExecuteTime": {
     "end_time": "2025-05-30T14:49:41.626815Z",
     "start_time": "2025-05-30T14:49:41.606352Z"
    }
   },
   "cell_type": "code",
   "source": "df_main[\"anomaly_alert\"].value_counts()",
   "id": "7e3880ad77b67521",
   "outputs": [
    {
     "data": {
      "text/plain": [
       "shape: (3, 2)\n",
       "┌───────────────┬────────┐\n",
       "│ anomaly_alert ┆ count  │\n",
       "│ ---           ┆ ---    │\n",
       "│ str           ┆ u32    │\n",
       "╞═══════════════╪════════╡\n",
       "│ TRUE          ┆ 80430  │\n",
       "│ FALSE         ┆ 740250 │\n",
       "│ -             ┆ 154    │\n",
       "└───────────────┴────────┘"
      ],
      "text/html": [
       "<div><style>\n",
       ".dataframe > thead > tr,\n",
       ".dataframe > tbody > tr {\n",
       "  text-align: right;\n",
       "  white-space: pre-wrap;\n",
       "}\n",
       "</style>\n",
       "<small>shape: (3, 2)</small><table border=\"1\" class=\"dataframe\"><thead><tr><th>anomaly_alert</th><th>count</th></tr><tr><td>str</td><td>u32</td></tr></thead><tbody><tr><td>&quot;TRUE&quot;</td><td>80430</td></tr><tr><td>&quot;FALSE&quot;</td><td>740250</td></tr><tr><td>&quot;-&quot;</td><td>154</td></tr></tbody></table></div>"
      ]
     },
     "execution_count": 9,
     "metadata": {},
     "output_type": "execute_result"
    }
   ],
   "execution_count": 9
  },
  {
   "metadata": {
    "ExecuteTime": {
     "end_time": "2025-05-30T14:49:41.687049Z",
     "start_time": "2025-05-30T14:49:41.682190Z"
    }
   },
   "cell_type": "code",
   "source": "[col for col in df_main.columns if col.startswith(\"class\")]",
   "id": "a594aa00c7c1f085",
   "outputs": [
    {
     "data": {
      "text/plain": [
       "['class1', 'class2', 'class3']"
      ]
     },
     "execution_count": 10,
     "metadata": {},
     "output_type": "execute_result"
    }
   ],
   "execution_count": 10
  },
  {
   "metadata": {
    "ExecuteTime": {
     "end_time": "2025-05-30T14:49:41.824932Z",
     "start_time": "2025-05-30T14:49:41.755326Z"
    }
   },
   "cell_type": "code",
   "source": [
    "for i in range(3):\n",
    "    display(df_main[f\"class{i + 1}\"].value_counts())"
   ],
   "id": "4f060d8f044815c3",
   "outputs": [
    {
     "data": {
      "text/plain": [
       "shape: (19, 2)\n",
       "┌────────────────────────────────┬────────┐\n",
       "│ class1                         ┆ count  │\n",
       "│ ---                            ┆ ---    │\n",
       "│ str                            ┆ u32    │\n",
       "╞════════════════════════════════╪════════╡\n",
       "│ BruteForce                     ┆ 47241  │\n",
       "│ insider_malcious               ┆ 17447  │\n",
       "│ MQTT_cloud_broker_subscription ┆ 23524  │\n",
       "│ Normal                         ┆ 421417 │\n",
       "│ Scanning_vulnerability         ┆ 52852  │\n",
       "│ …                              ┆ …      │\n",
       "│ RDOS                           ┆ 141261 │\n",
       "│ MitM                           ┆ 117    │\n",
       "│ Modbus_register_reading        ┆ 5953   │\n",
       "│ Discovering_resources          ┆ 23148  │\n",
       "│ Generic_scanning               ┆ 50277  │\n",
       "└────────────────────────────────┴────────┘"
      ],
      "text/html": [
       "<div><style>\n",
       ".dataframe > thead > tr,\n",
       ".dataframe > tbody > tr {\n",
       "  text-align: right;\n",
       "  white-space: pre-wrap;\n",
       "}\n",
       "</style>\n",
       "<small>shape: (19, 2)</small><table border=\"1\" class=\"dataframe\"><thead><tr><th>class1</th><th>count</th></tr><tr><td>str</td><td>u32</td></tr></thead><tbody><tr><td>&quot;BruteForce&quot;</td><td>47241</td></tr><tr><td>&quot;insider_malcious&quot;</td><td>17447</td></tr><tr><td>&quot;MQTT_cloud_broker_subscription&quot;</td><td>23524</td></tr><tr><td>&quot;Normal&quot;</td><td>421417</td></tr><tr><td>&quot;Scanning_vulnerability&quot;</td><td>52852</td></tr><tr><td>&hellip;</td><td>&hellip;</td></tr><tr><td>&quot;RDOS&quot;</td><td>141261</td></tr><tr><td>&quot;MitM&quot;</td><td>117</td></tr><tr><td>&quot;Modbus_register_reading&quot;</td><td>5953</td></tr><tr><td>&quot;Discovering_resources&quot;</td><td>23148</td></tr><tr><td>&quot;Generic_scanning&quot;</td><td>50277</td></tr></tbody></table></div>"
      ]
     },
     "metadata": {},
     "output_type": "display_data"
    },
    {
     "data": {
      "text/plain": [
       "shape: (10, 2)\n",
       "┌───────────────────┬────────┐\n",
       "│ class2            ┆ count  │\n",
       "│ ---               ┆ ---    │\n",
       "│ str               ┆ u32    │\n",
       "╞═══════════════════╪════════╡\n",
       "│ crypto-ransomware ┆ 458    │\n",
       "│ Exploitation      ┆ 1133   │\n",
       "│ Weaponization     ┆ 67260  │\n",
       "│ Reconnaissance    ┆ 127590 │\n",
       "│ Lateral _movement ┆ 31596  │\n",
       "│ Tampering         ┆ 5122   │\n",
       "│ RDOS              ┆ 141261 │\n",
       "│ Normal            ┆ 421417 │\n",
       "│ C&C               ┆ 2863   │\n",
       "│ Exfiltration      ┆ 22134  │\n",
       "└───────────────────┴────────┘"
      ],
      "text/html": [
       "<div><style>\n",
       ".dataframe > thead > tr,\n",
       ".dataframe > tbody > tr {\n",
       "  text-align: right;\n",
       "  white-space: pre-wrap;\n",
       "}\n",
       "</style>\n",
       "<small>shape: (10, 2)</small><table border=\"1\" class=\"dataframe\"><thead><tr><th>class2</th><th>count</th></tr><tr><td>str</td><td>u32</td></tr></thead><tbody><tr><td>&quot;crypto-ransomware&quot;</td><td>458</td></tr><tr><td>&quot;Exploitation&quot;</td><td>1133</td></tr><tr><td>&quot;Weaponization&quot;</td><td>67260</td></tr><tr><td>&quot;Reconnaissance&quot;</td><td>127590</td></tr><tr><td>&quot;Lateral _movement&quot;</td><td>31596</td></tr><tr><td>&quot;Tampering&quot;</td><td>5122</td></tr><tr><td>&quot;RDOS&quot;</td><td>141261</td></tr><tr><td>&quot;Normal&quot;</td><td>421417</td></tr><tr><td>&quot;C&amp;C&quot;</td><td>2863</td></tr><tr><td>&quot;Exfiltration&quot;</td><td>22134</td></tr></tbody></table></div>"
      ]
     },
     "metadata": {},
     "output_type": "display_data"
    },
    {
     "data": {
      "text/plain": [
       "shape: (2, 2)\n",
       "┌────────┬────────┐\n",
       "│ class3 ┆ count  │\n",
       "│ ---    ┆ ---    │\n",
       "│ str    ┆ u32    │\n",
       "╞════════╪════════╡\n",
       "│ Normal ┆ 421417 │\n",
       "│ Attack ┆ 399417 │\n",
       "└────────┴────────┘"
      ],
      "text/html": [
       "<div><style>\n",
       ".dataframe > thead > tr,\n",
       ".dataframe > tbody > tr {\n",
       "  text-align: right;\n",
       "  white-space: pre-wrap;\n",
       "}\n",
       "</style>\n",
       "<small>shape: (2, 2)</small><table border=\"1\" class=\"dataframe\"><thead><tr><th>class3</th><th>count</th></tr><tr><td>str</td><td>u32</td></tr></thead><tbody><tr><td>&quot;Normal&quot;</td><td>421417</td></tr><tr><td>&quot;Attack&quot;</td><td>399417</td></tr></tbody></table></div>"
      ]
     },
     "metadata": {},
     "output_type": "display_data"
    }
   ],
   "execution_count": 11
  },
  {
   "metadata": {
    "ExecuteTime": {
     "end_time": "2025-05-30T14:49:41.983306Z",
     "start_time": "2025-05-30T14:49:41.968525Z"
    }
   },
   "cell_type": "code",
   "source": [
    "attack_label = {\"Normal\": 0, \"Attack\": 1}\n",
    "df_main = df_main.with_columns(\n",
    "    pl.col(\"class3\").replace_strict(attack_label, return_dtype=pl.Int64).alias(\"Attack_label\")\n",
    ")"
   ],
   "id": "dae0e61ace3caaac",
   "outputs": [],
   "execution_count": 12
  },
  {
   "metadata": {
    "ExecuteTime": {
     "end_time": "2025-05-30T14:49:42.275559Z",
     "start_time": "2025-05-30T14:49:42.134115Z"
    }
   },
   "cell_type": "code",
   "source": [
    "normal_df = df_main.filter(pl.col(\"Attack_label\") == 0)\n",
    "anomaly_df = df_main.filter(pl.col(\"Attack_label\") == 1)\n",
    "print(\n",
    "    f\"Normal: {len(normal_df)} ({len(normal_df) * 100/len(df_main):.2f}%) vs. Anomaly: {len(anomaly_df)} ({len(anomaly_df) * 100/len(df_main):.2f}%)\"\n",
    ")"
   ],
   "id": "64128fefff09e91d",
   "outputs": [
    {
     "name": "stdout",
     "output_type": "stream",
     "text": [
      "Normal: 421417 (51.34%) vs. Anomaly: 399417 (48.66%)\n"
     ]
    }
   ],
   "execution_count": 13
  },
  {
   "metadata": {},
   "cell_type": "markdown",
   "source": [
    "### Convert or Drop String Columns\n",
    "\n",
    "Here, we'd convert columns of string type that can be numerical or we drop string columns that are _unnecessary_ (we cannot really use)."
   ],
   "id": "c415120deb5e9509"
  },
  {
   "metadata": {
    "ExecuteTime": {
     "end_time": "2025-05-30T14:49:42.303348Z",
     "start_time": "2025-05-30T14:49:42.292640Z"
    }
   },
   "cell_type": "code",
   "source": [
    "string_columns_df = columns_df.filter(pl.col(\"Variable type\") == \"String\").sort(\n",
    "    by=\"Unique values\", descending=True\n",
    ")\n",
    "string_columns_df"
   ],
   "id": "c20bd3702eaa6414",
   "outputs": [
    {
     "data": {
      "text/plain": [
       "shape: (52, 9)\n",
       "┌────────────┬────────────┬─────────┬────────────┬───┬────────────┬───────────┬────────┬───────────┐\n",
       "│ Feature    ┆ Observatio ┆ Missing ┆ Missing    ┆ … ┆ 1st to 2nd ┆ Variable  ┆ Unique ┆ Feature   │\n",
       "│ ---        ┆ ns         ┆ ---     ┆ rate (%)   ┆   ┆ value      ┆ type      ┆ values ┆ type      │\n",
       "│ str        ┆ ---        ┆ i64     ┆ ---        ┆   ┆ density    ┆ ---       ┆ ---    ┆ ---       │\n",
       "│            ┆ i64        ┆         ┆ f64        ┆   ┆ diffe…     ┆ str       ┆ i64    ┆ str       │\n",
       "│            ┆            ┆         ┆            ┆   ┆ ---        ┆           ┆        ┆           │\n",
       "│            ┆            ┆         ┆            ┆   ┆ f64        ┆           ┆        ┆           │\n",
       "╞════════════╪════════════╪═════════╪════════════╪═══╪════════════╪═══════════╪════════╪═══════════╡\n",
       "│ byte_rate  ┆ 820834     ┆ 0       ┆ 0.0        ┆ … ┆ 26.936     ┆ String    ┆ 339658 ┆ Categoric │\n",
       "│            ┆            ┆         ┆            ┆   ┆            ┆           ┆        ┆ al - High │\n",
       "│            ┆            ┆         ┆            ┆   ┆            ┆           ┆        ┆ Cardinali │\n",
       "│            ┆            ┆         ┆            ┆   ┆            ┆           ┆        ┆ ty        │\n",
       "│ Duration   ┆ 820834     ┆ 0       ┆ 0.0        ┆ … ┆ 8.249      ┆ String    ┆ 330207 ┆ Categoric │\n",
       "│            ┆            ┆         ┆            ┆   ┆            ┆           ┆        ┆ al - High │\n",
       "│            ┆            ┆         ┆            ┆   ┆            ┆           ┆        ┆ Cardinali │\n",
       "│            ┆            ┆         ┆            ┆   ┆            ┆           ┆        ┆ ty        │\n",
       "│ paket_rate ┆ 820834     ┆ 0       ┆ 0.0        ┆ … ┆ 26.501     ┆ String    ┆ 303353 ┆ Categoric │\n",
       "│            ┆            ┆         ┆            ┆   ┆            ┆           ┆        ┆ al - High │\n",
       "│            ┆            ┆         ┆            ┆   ┆            ┆           ┆        ┆ Cardinali │\n",
       "│            ┆            ┆         ┆            ┆   ┆            ┆           ┆        ┆ ty        │\n",
       "│ Timestamp  ┆ 820537     ┆ 297     ┆ 0.04       ┆ … ┆ 0.0        ┆ String    ┆ 218990 ┆ Categoric │\n",
       "│            ┆            ┆         ┆            ┆   ┆            ┆           ┆        ┆ al - High │\n",
       "│            ┆            ┆         ┆            ┆   ┆            ┆           ┆        ┆ Cardinali │\n",
       "│            ┆            ┆         ┆            ┆   ┆            ┆           ┆        ┆ ty        │\n",
       "│ Des_bytes_ ┆ 820834     ┆ 0       ┆ 0.0        ┆ … ┆ 12.714     ┆ String    ┆ 72716  ┆ Categoric │\n",
       "│ ratio      ┆            ┆         ┆            ┆   ┆            ┆           ┆        ┆ al - High │\n",
       "│            ┆            ┆         ┆            ┆   ┆            ┆           ┆        ┆ Cardinali │\n",
       "│            ┆            ┆         ┆            ┆   ┆            ┆           ┆        ┆ ty        │\n",
       "│ …          ┆ …          ┆ …       ┆ …          ┆ … ┆ …          ┆ …         ┆ …      ┆ …         │\n",
       "│ Service    ┆ 820834     ┆ 0       ┆ 0.0        ┆ … ┆ 1.83       ┆ String    ┆ 17     ┆ Categoric │\n",
       "│            ┆            ┆         ┆            ┆   ┆            ┆           ┆        ┆ al - High │\n",
       "│            ┆            ┆         ┆            ┆   ┆            ┆           ┆        ┆ Cardinali │\n",
       "│            ┆            ┆         ┆            ┆   ┆            ┆           ┆        ┆ ty        │\n",
       "│ class2     ┆ 820834     ┆ 0       ┆ 0.0        ┆ … ┆ 34.131     ┆ String    ┆ 10     ┆ Categoric │\n",
       "│            ┆            ┆         ┆            ┆   ┆            ┆           ┆        ┆ al        │\n",
       "│ Protocol   ┆ 820834     ┆ 0       ┆ 0.0        ┆ … ┆ 3.255      ┆ String    ┆ 4      ┆ Categoric │\n",
       "│            ┆            ┆         ┆            ┆   ┆            ┆           ┆        ┆ al        │\n",
       "│ anomaly_al ┆ 820834     ┆ 0       ┆ 0.0        ┆ … ┆ 80.384     ┆ String    ┆ 3      ┆ Categoric │\n",
       "│ ert        ┆            ┆         ┆            ┆   ┆            ┆           ┆        ┆ al        │\n",
       "│ class3     ┆ 820834     ┆ 0       ┆ 0.0        ┆ … ┆ 2.68       ┆ String    ┆ 2      ┆ Flag      │\n",
       "└────────────┴────────────┴─────────┴────────────┴───┴────────────┴───────────┴────────┴───────────┘"
      ],
      "text/html": [
       "<div><style>\n",
       ".dataframe > thead > tr,\n",
       ".dataframe > tbody > tr {\n",
       "  text-align: right;\n",
       "  white-space: pre-wrap;\n",
       "}\n",
       "</style>\n",
       "<small>shape: (52, 9)</small><table border=\"1\" class=\"dataframe\"><thead><tr><th>Feature</th><th>Observations</th><th>Missing</th><th>Missing rate (%)</th><th>1st value density (%)</th><th>1st to 2nd value density difference (%)</th><th>Variable type</th><th>Unique values</th><th>Feature type</th></tr><tr><td>str</td><td>i64</td><td>i64</td><td>f64</td><td>f64</td><td>f64</td><td>str</td><td>i64</td><td>str</td></tr></thead><tbody><tr><td>&quot;byte_rate&quot;</td><td>820834</td><td>0</td><td>0.0</td><td>27.274</td><td>26.936</td><td>&quot;String&quot;</td><td>339658</td><td>&quot;Categorical - High Cardinality&quot;</td></tr><tr><td>&quot;Duration&quot;</td><td>820834</td><td>0</td><td>0.0</td><td>9.23</td><td>8.249</td><td>&quot;String&quot;</td><td>330207</td><td>&quot;Categorical - High Cardinality&quot;</td></tr><tr><td>&quot;paket_rate&quot;</td><td>820834</td><td>0</td><td>0.0</td><td>27.274</td><td>26.501</td><td>&quot;String&quot;</td><td>303353</td><td>&quot;Categorical - High Cardinality&quot;</td></tr><tr><td>&quot;Timestamp&quot;</td><td>820537</td><td>297</td><td>0.04</td><td>0.686</td><td>0.0</td><td>&quot;String&quot;</td><td>218990</td><td>&quot;Categorical - High Cardinality&quot;</td></tr><tr><td>&quot;Des_bytes_ratio&quot;</td><td>820834</td><td>0</td><td>0.0</td><td>27.274</td><td>12.714</td><td>&quot;String&quot;</td><td>72716</td><td>&quot;Categorical - High Cardinality&quot;</td></tr><tr><td>&hellip;</td><td>&hellip;</td><td>&hellip;</td><td>&hellip;</td><td>&hellip;</td><td>&hellip;</td><td>&hellip;</td><td>&hellip;</td><td>&hellip;</td></tr><tr><td>&quot;Service&quot;</td><td>820834</td><td>0</td><td>0.0</td><td>28.963</td><td>1.83</td><td>&quot;String&quot;</td><td>17</td><td>&quot;Categorical - High Cardinality&quot;</td></tr><tr><td>&quot;class2&quot;</td><td>820834</td><td>0</td><td>0.0</td><td>51.34</td><td>34.131</td><td>&quot;String&quot;</td><td>10</td><td>&quot;Categorical&quot;</td></tr><tr><td>&quot;Protocol&quot;</td><td>820834</td><td>0</td><td>0.0</td><td>51.452</td><td>3.255</td><td>&quot;String&quot;</td><td>4</td><td>&quot;Categorical&quot;</td></tr><tr><td>&quot;anomaly_alert&quot;</td><td>820834</td><td>0</td><td>0.0</td><td>90.183</td><td>80.384</td><td>&quot;String&quot;</td><td>3</td><td>&quot;Categorical&quot;</td></tr><tr><td>&quot;class3&quot;</td><td>820834</td><td>0</td><td>0.0</td><td>51.34</td><td>2.68</td><td>&quot;String&quot;</td><td>2</td><td>&quot;Flag&quot;</td></tr></tbody></table></div>"
      ]
     },
     "execution_count": 14,
     "metadata": {},
     "output_type": "execute_result"
    }
   ],
   "execution_count": 14
  },
  {
   "metadata": {
    "ExecuteTime": {
     "end_time": "2025-05-30T14:49:42.452771Z",
     "start_time": "2025-05-30T14:49:42.378180Z"
    }
   },
   "cell_type": "code",
   "source": "df_main[string_columns_df[\"Feature\"].to_list()].describe()",
   "id": "61408508a705060b",
   "outputs": [
    {
     "data": {
      "text/plain": [
       "shape: (9, 53)\n",
       "┌────────────┬───────────┬────────────┬────────────┬───┬───────────┬──────────┬───────────┬────────┐\n",
       "│ statistic  ┆ byte_rate ┆ Duration   ┆ paket_rate ┆ … ┆ class2    ┆ Protocol ┆ anomaly_a ┆ class3 │\n",
       "│ ---        ┆ ---       ┆ ---        ┆ ---        ┆   ┆ ---       ┆ ---      ┆ lert      ┆ ---    │\n",
       "│ str        ┆ str       ┆ str        ┆ str        ┆   ┆ str       ┆ str      ┆ ---       ┆ str    │\n",
       "│            ┆           ┆            ┆            ┆   ┆           ┆          ┆ str       ┆        │\n",
       "╞════════════╪═══════════╪════════════╪════════════╪═══╪═══════════╪══════════╪═══════════╪════════╡\n",
       "│ count      ┆ 820834    ┆ 820834     ┆ 820834     ┆ … ┆ 820834    ┆ 820834   ┆ 820834    ┆ 820834 │\n",
       "│ null_count ┆ 0         ┆ 0          ┆ 0          ┆ … ┆ 0         ┆ 0        ┆ 0         ┆ 0      │\n",
       "│ mean       ┆ null      ┆ null       ┆ null       ┆ … ┆ null      ┆ null     ┆ null      ┆ null   │\n",
       "│ std        ┆ null      ┆ null       ┆ null       ┆ … ┆ null      ┆ null     ┆ null      ┆ null   │\n",
       "│ min        ┆ -         ┆ -          ┆ -          ┆ … ┆ C&C       ┆ ?        ┆ -         ┆ Attack │\n",
       "│ 25%        ┆ null      ┆ null       ┆ null       ┆ … ┆ null      ┆ null     ┆ null      ┆ null   │\n",
       "│ 50%        ┆ null      ┆ null       ┆ null       ┆ … ┆ null      ┆ null     ┆ null      ┆ null   │\n",
       "│ 75%        ┆ null      ┆ null       ┆ null       ┆ … ┆ null      ┆ null     ┆ null      ┆ null   │\n",
       "│ max        ┆ ?         ┆ 990.144675 ┆ 999.90001  ┆ … ┆ crypto-ra ┆ udp      ┆ TRUE      ┆ Normal │\n",
       "│            ┆           ┆            ┆            ┆   ┆ nsomware  ┆          ┆           ┆        │\n",
       "└────────────┴───────────┴────────────┴────────────┴───┴───────────┴──────────┴───────────┴────────┘"
      ],
      "text/html": [
       "<div><style>\n",
       ".dataframe > thead > tr,\n",
       ".dataframe > tbody > tr {\n",
       "  text-align: right;\n",
       "  white-space: pre-wrap;\n",
       "}\n",
       "</style>\n",
       "<small>shape: (9, 53)</small><table border=\"1\" class=\"dataframe\"><thead><tr><th>statistic</th><th>byte_rate</th><th>Duration</th><th>paket_rate</th><th>Timestamp</th><th>Des_bytes_ratio</th><th>Scr_bytes_ratio</th><th>total_bytes</th><th>Scr_port</th><th>Des_ip_bytes</th><th>Des_bytes</th><th>Std_ideal_time</th><th>Std_user_time</th><th>std_num_cswch/s</th><th>Std_kbmemused</th><th>Std_nice_time</th><th>Std_system_time</th><th>Scr_ip_bytes</th><th>Std_iowait_time</th><th>Avg_kbmemused</th><th>Std_tps</th><th>Scr_bytes</th><th>Scr_packts_ratio</th><th>Des_pkts_ratio</th><th>Avg_ideal_time</th><th>Std_rtps</th><th>Avg_num_cswch/s</th><th>Avg_user_time</th><th>Std_wtps</th><th>Avg_iowait_time</th><th>Des_port</th><th>Avg_system_time</th><th>Avg_nice_time</th><th>Avg_tps</th><th>Std_num_proc/s</th><th>Std_ldavg_1</th><th>Avg_ldavg_1</th><th>Avg_rtps</th><th>total_packet</th><th>Avg_wtps</th><th>Des_pkts</th><th>Scr_pkts</th><th>Avg_num_Proc/s</th><th>missed_bytes</th><th>Des_IP</th><th>Date</th><th>Scr_IP</th><th>class1</th><th>Service</th><th>class2</th><th>Protocol</th><th>anomaly_alert</th><th>class3</th></tr><tr><td>str</td><td>str</td><td>str</td><td>str</td><td>str</td><td>str</td><td>str</td><td>str</td><td>str</td><td>str</td><td>str</td><td>str</td><td>str</td><td>str</td><td>str</td><td>str</td><td>str</td><td>str</td><td>str</td><td>str</td><td>str</td><td>str</td><td>str</td><td>str</td><td>str</td><td>str</td><td>str</td><td>str</td><td>str</td><td>str</td><td>str</td><td>str</td><td>str</td><td>str</td><td>str</td><td>str</td><td>str</td><td>str</td><td>str</td><td>str</td><td>str</td><td>str</td><td>str</td><td>str</td><td>str</td><td>str</td><td>str</td><td>str</td><td>str</td><td>str</td><td>str</td><td>str</td><td>str</td></tr></thead><tbody><tr><td>&quot;count&quot;</td><td>&quot;820834&quot;</td><td>&quot;820834&quot;</td><td>&quot;820834&quot;</td><td>&quot;820537&quot;</td><td>&quot;820834&quot;</td><td>&quot;820834&quot;</td><td>&quot;820834&quot;</td><td>&quot;820834&quot;</td><td>&quot;820834&quot;</td><td>&quot;820834&quot;</td><td>&quot;820834&quot;</td><td>&quot;820834&quot;</td><td>&quot;820834&quot;</td><td>&quot;820834&quot;</td><td>&quot;820834&quot;</td><td>&quot;820834&quot;</td><td>&quot;820834&quot;</td><td>&quot;820834&quot;</td><td>&quot;820834&quot;</td><td>&quot;820834&quot;</td><td>&quot;820834&quot;</td><td>&quot;820834&quot;</td><td>&quot;820834&quot;</td><td>&quot;820834&quot;</td><td>&quot;820834&quot;</td><td>&quot;820834&quot;</td><td>&quot;820834&quot;</td><td>&quot;820834&quot;</td><td>&quot;820834&quot;</td><td>&quot;820834&quot;</td><td>&quot;820834&quot;</td><td>&quot;820834&quot;</td><td>&quot;820834&quot;</td><td>&quot;820834&quot;</td><td>&quot;820834&quot;</td><td>&quot;820834&quot;</td><td>&quot;820834&quot;</td><td>&quot;820834&quot;</td><td>&quot;820834&quot;</td><td>&quot;820834&quot;</td><td>&quot;820834&quot;</td><td>&quot;820834&quot;</td><td>&quot;820834&quot;</td><td>&quot;820834&quot;</td><td>&quot;820503&quot;</td><td>&quot;820834&quot;</td><td>&quot;820834&quot;</td><td>&quot;820834&quot;</td><td>&quot;820834&quot;</td><td>&quot;820834&quot;</td><td>&quot;820834&quot;</td><td>&quot;820834&quot;</td></tr><tr><td>&quot;null_count&quot;</td><td>&quot;0&quot;</td><td>&quot;0&quot;</td><td>&quot;0&quot;</td><td>&quot;297&quot;</td><td>&quot;0&quot;</td><td>&quot;0&quot;</td><td>&quot;0&quot;</td><td>&quot;0&quot;</td><td>&quot;0&quot;</td><td>&quot;0&quot;</td><td>&quot;0&quot;</td><td>&quot;0&quot;</td><td>&quot;0&quot;</td><td>&quot;0&quot;</td><td>&quot;0&quot;</td><td>&quot;0&quot;</td><td>&quot;0&quot;</td><td>&quot;0&quot;</td><td>&quot;0&quot;</td><td>&quot;0&quot;</td><td>&quot;0&quot;</td><td>&quot;0&quot;</td><td>&quot;0&quot;</td><td>&quot;0&quot;</td><td>&quot;0&quot;</td><td>&quot;0&quot;</td><td>&quot;0&quot;</td><td>&quot;0&quot;</td><td>&quot;0&quot;</td><td>&quot;0&quot;</td><td>&quot;0&quot;</td><td>&quot;0&quot;</td><td>&quot;0&quot;</td><td>&quot;0&quot;</td><td>&quot;0&quot;</td><td>&quot;0&quot;</td><td>&quot;0&quot;</td><td>&quot;0&quot;</td><td>&quot;0&quot;</td><td>&quot;0&quot;</td><td>&quot;0&quot;</td><td>&quot;0&quot;</td><td>&quot;0&quot;</td><td>&quot;0&quot;</td><td>&quot;331&quot;</td><td>&quot;0&quot;</td><td>&quot;0&quot;</td><td>&quot;0&quot;</td><td>&quot;0&quot;</td><td>&quot;0&quot;</td><td>&quot;0&quot;</td><td>&quot;0&quot;</td></tr><tr><td>&quot;mean&quot;</td><td>null</td><td>null</td><td>null</td><td>null</td><td>null</td><td>null</td><td>null</td><td>null</td><td>null</td><td>null</td><td>null</td><td>null</td><td>null</td><td>null</td><td>null</td><td>null</td><td>null</td><td>null</td><td>null</td><td>null</td><td>null</td><td>null</td><td>null</td><td>null</td><td>null</td><td>null</td><td>null</td><td>null</td><td>null</td><td>null</td><td>null</td><td>null</td><td>null</td><td>null</td><td>null</td><td>null</td><td>null</td><td>null</td><td>null</td><td>null</td><td>null</td><td>null</td><td>null</td><td>null</td><td>null</td><td>null</td><td>null</td><td>null</td><td>null</td><td>null</td><td>null</td><td>null</td></tr><tr><td>&quot;std&quot;</td><td>null</td><td>null</td><td>null</td><td>null</td><td>null</td><td>null</td><td>null</td><td>null</td><td>null</td><td>null</td><td>null</td><td>null</td><td>null</td><td>null</td><td>null</td><td>null</td><td>null</td><td>null</td><td>null</td><td>null</td><td>null</td><td>null</td><td>null</td><td>null</td><td>null</td><td>null</td><td>null</td><td>null</td><td>null</td><td>null</td><td>null</td><td>null</td><td>null</td><td>null</td><td>null</td><td>null</td><td>null</td><td>null</td><td>null</td><td>null</td><td>null</td><td>null</td><td>null</td><td>null</td><td>null</td><td>null</td><td>null</td><td>null</td><td>null</td><td>null</td><td>null</td><td>null</td></tr><tr><td>&quot;min&quot;</td><td>&quot;-&quot;</td><td>&quot;-&quot;</td><td>&quot;-&quot;</td><td>&quot;1557394756&quot;</td><td>&quot;-&quot;</td><td>&quot;-&quot;</td><td>&quot;-&quot;</td><td>&quot;10002&quot;</td><td>&quot;-&quot;</td><td>&quot;-&quot;</td><td>&quot;-&quot;</td><td>&quot;-&quot;</td><td>&quot;-&quot;</td><td>&quot;#DIV/0!&quot;</td><td>&quot;-&quot;</td><td>&quot;-&quot;</td><td>&quot;-&quot;</td><td>&quot;-&quot;</td><td>&quot;#DIV/0!&quot;</td><td>&quot;-&quot;</td><td>&quot;-&quot;</td><td>&quot;-&quot;</td><td>&quot;-&quot;</td><td>&quot;-&quot;</td><td>&quot;-&quot;</td><td>&quot;-&quot;</td><td>&quot; &quot;</td><td>&quot;-&quot;</td><td>&quot;-&quot;</td><td>&quot;0&quot;</td><td>&quot;-&quot;</td><td>&quot;-&quot;</td><td>&quot;-&quot;</td><td>&quot;-&quot;</td><td>&quot;-&quot;</td><td>&quot;-&quot;</td><td>&quot;-&quot;</td><td>&quot;-&quot;</td><td>&quot;-&quot;</td><td>&quot;-&quot;</td><td>&quot;-&quot;</td><td>&quot;-&quot;</td><td>&quot;-&quot;</td><td>&quot;10.0.1.5&quot;</td><td>&quot;10/01/2020&quot;</td><td>&quot;0.0.0.0&quot;</td><td>&quot;BruteForce&quot;</td><td>&quot;coap&quot;</td><td>&quot;C&amp;C&quot;</td><td>&quot;?&quot;</td><td>&quot;-&quot;</td><td>&quot;Attack&quot;</td></tr><tr><td>&quot;25%&quot;</td><td>null</td><td>null</td><td>null</td><td>null</td><td>null</td><td>null</td><td>null</td><td>null</td><td>null</td><td>null</td><td>null</td><td>null</td><td>null</td><td>null</td><td>null</td><td>null</td><td>null</td><td>null</td><td>null</td><td>null</td><td>null</td><td>null</td><td>null</td><td>null</td><td>null</td><td>null</td><td>null</td><td>null</td><td>null</td><td>null</td><td>null</td><td>null</td><td>null</td><td>null</td><td>null</td><td>null</td><td>null</td><td>null</td><td>null</td><td>null</td><td>null</td><td>null</td><td>null</td><td>null</td><td>null</td><td>null</td><td>null</td><td>null</td><td>null</td><td>null</td><td>null</td><td>null</td></tr><tr><td>&quot;50%&quot;</td><td>null</td><td>null</td><td>null</td><td>null</td><td>null</td><td>null</td><td>null</td><td>null</td><td>null</td><td>null</td><td>null</td><td>null</td><td>null</td><td>null</td><td>null</td><td>null</td><td>null</td><td>null</td><td>null</td><td>null</td><td>null</td><td>null</td><td>null</td><td>null</td><td>null</td><td>null</td><td>null</td><td>null</td><td>null</td><td>null</td><td>null</td><td>null</td><td>null</td><td>null</td><td>null</td><td>null</td><td>null</td><td>null</td><td>null</td><td>null</td><td>null</td><td>null</td><td>null</td><td>null</td><td>null</td><td>null</td><td>null</td><td>null</td><td>null</td><td>null</td><td>null</td><td>null</td></tr><tr><td>&quot;75%&quot;</td><td>null</td><td>null</td><td>null</td><td>null</td><td>null</td><td>null</td><td>null</td><td>null</td><td>null</td><td>null</td><td>null</td><td>null</td><td>null</td><td>null</td><td>null</td><td>null</td><td>null</td><td>null</td><td>null</td><td>null</td><td>null</td><td>null</td><td>null</td><td>null</td><td>null</td><td>null</td><td>null</td><td>null</td><td>null</td><td>null</td><td>null</td><td>null</td><td>null</td><td>null</td><td>null</td><td>null</td><td>null</td><td>null</td><td>null</td><td>null</td><td>null</td><td>null</td><td>null</td><td>null</td><td>null</td><td>null</td><td>null</td><td>null</td><td>null</td><td>null</td><td>null</td><td>null</td></tr><tr><td>&quot;max&quot;</td><td>&quot;?&quot;</td><td>&quot;990.144675&quot;</td><td>&quot;999.90001&quot;</td><td>&quot;?&quot;</td><td>&quot;1&quot;</td><td>&quot;1&quot;</td><td>&quot;999940&quot;</td><td>&quot;?&quot;</td><td>&quot;99998&quot;</td><td>&quot;9999&quot;</td><td>&quot;9.9999348&quot;</td><td>&quot;9.998576949&quot;</td><td>&quot;998.2092416&quot;</td><td>&quot;?&quot;</td><td>&quot;9.928638377&quot;</td><td>&quot;?&quot;</td><td>&quot;excel&quot;</td><td>&quot;?&quot;</td><td>&quot;?&quot;</td><td>&quot;98.96509486&quot;</td><td>&quot;9999&quot;</td><td>&quot;1&quot;</td><td>&quot;1&quot;</td><td>&quot;98.59&quot;</td><td>&quot;97.97372097&quot;</td><td>&quot;999.9&quot;</td><td>&quot;aza&quot;</td><td>&quot;9.9979998&quot;</td><td>&quot;?&quot;</td><td>&quot;?&quot;</td><td>&quot;?&quot;</td><td>&quot;9.867&quot;</td><td>&quot;99.6&quot;</td><td>&quot;9.984487969&quot;</td><td>&quot;6.94E-18&quot;</td><td>&quot;4.307&quot;</td><td>&quot;96.8&quot;</td><td>&quot;999&quot;</td><td>&quot;9.997&quot;</td><td>&quot;999&quot;</td><td>&quot;995&quot;</td><td>&quot;9.988&quot;</td><td>&quot;9816&quot;</td><td>&quot;ff02::fb&quot;</td><td>&quot;?&quot;</td><td>&quot;fe80::d27f:a0ff:fed6:8cdd&quot;</td><td>&quot;insider_malcious&quot;</td><td>&quot;websocket&quot;</td><td>&quot;crypto-ransomware&quot;</td><td>&quot;udp&quot;</td><td>&quot;TRUE&quot;</td><td>&quot;Normal&quot;</td></tr></tbody></table></div>"
      ]
     },
     "execution_count": 15,
     "metadata": {},
     "output_type": "execute_result"
    }
   ],
   "execution_count": 15
  },
  {
   "metadata": {},
   "cell_type": "markdown",
   "source": "We can see some `-`, and other weird values as the min or max values for a couple of columns",
   "id": "87159262dd5350a7"
  },
  {
   "metadata": {
    "ExecuteTime": {
     "end_time": "2025-05-30T14:49:42.710002Z",
     "start_time": "2025-05-30T14:49:42.568609Z"
    }
   },
   "cell_type": "code",
   "source": [
    "is_missing_predicate = None\n",
    "for column in string_columns_df[\"Feature\"].to_list() + [\"byte_rate\", \"Duration\"]:\n",
    "    p = pl.col(column).is_in([\"-\", \"\", \"?\", \"#DIV/0!\"])\n",
    "    is_missing_predicate = p if is_missing_predicate is None else is_missing_predicate | p\n",
    "f\"{100 * len(df_main.filter(is_missing_predicate)) / len(df_main):.2f}%\""
   ],
   "id": "99b7aec20bdfb6fe",
   "outputs": [
    {
     "data": {
      "text/plain": [
       "'27.38%'"
      ]
     },
     "execution_count": 16,
     "metadata": {},
     "output_type": "execute_result"
    }
   ],
   "execution_count": 16
  },
  {
   "metadata": {},
   "cell_type": "markdown",
   "source": "Should we drop all rows with any of these values? or first remove inconsequential columns first? We shall see in due course.",
   "id": "937d7a1432286263"
  },
  {
   "metadata": {
    "ExecuteTime": {
     "end_time": "2025-05-30T14:49:42.806174Z",
     "start_time": "2025-05-30T14:49:42.800140Z"
    }
   },
   "cell_type": "code",
   "source": [
    "def drop_string_columns(*names):\n",
    "    \"\"\"Drop string columns we have analyzed from the DataFrame, so we can easily see what's left to analyze.\"\"\"\n",
    "    names = [*names]\n",
    "    global df_main, columns_df, string_columns_df\n",
    "    invalid_cols = [name for name in names if name not in df_main.columns]\n",
    "    assert len(invalid_cols) == 0, f\"Column names do not exists: {invalid_cols}\"\n",
    "    columns_df = columns_df.filter(~pl.col(\"Feature\").is_in(names))\n",
    "    string_columns_df = string_columns_df.filter(~pl.col(\"Feature\").is_in(names))\n",
    "    print(\"ALL columns left:\", len(columns_df))\n",
    "    print(\"STRING columns left:\", len(string_columns_df))\n",
    "    display(string_columns_df.head())"
   ],
   "id": "7ceabdca0ed0eeb5",
   "outputs": [],
   "execution_count": 17
  },
  {
   "metadata": {},
   "cell_type": "markdown",
   "source": "#### String Columns with Numbers",
   "id": "636473082e55de09"
  },
  {
   "metadata": {
    "ExecuteTime": {
     "end_time": "2025-05-30T14:49:43.000209Z",
     "start_time": "2025-05-30T14:49:42.994657Z"
    }
   },
   "cell_type": "code",
   "source": [
    "numerical_cols = [\n",
    "    \"Duration\",\n",
    "    \"Timestamp\",\n",
    "    \"Scr_bytes\",\n",
    "    \"Des_bytes\",\n",
    "    \"missed_bytes\",\n",
    "    \"Scr_pkts\",\n",
    "    \"Scr_ip_bytes\",\n",
    "    \"Des_pkts\",\n",
    "    \"Des_ip_bytes\",\n",
    "    \"total_bytes\",\n",
    "    \"total_packet\",\n",
    "    \"paket_rate\",\n",
    "    \"byte_rate\",\n",
    "    \"Scr_packts_ratio\",\n",
    "    \"Des_pkts_ratio\",\n",
    "    \"Scr_bytes_ratio\",\n",
    "    \"Des_bytes_ratio\",\n",
    "    \"Avg_user_time\",\n",
    "    \"Std_user_time\",\n",
    "    \"Avg_nice_time\",\n",
    "    \"Std_nice_time\",\n",
    "    \"Avg_system_time\",\n",
    "    \"Std_system_time\",\n",
    "    \"Avg_iowait_time\",\n",
    "    \"Std_iowait_time\",\n",
    "    \"Avg_ideal_time\",\n",
    "    \"Std_ideal_time\",\n",
    "    \"Avg_tps\",\n",
    "    \"Std_tps\",\n",
    "    \"Avg_rtps\",\n",
    "    \"Std_rtps\",\n",
    "    \"Avg_wtps\",\n",
    "    \"Std_wtps\",\n",
    "    \"Avg_ldavg_1\",\n",
    "    \"Std_ldavg_1\",\n",
    "    \"Avg_kbmemused\",\n",
    "    \"Std_kbmemused\",\n",
    "    \"Avg_num_Proc/s\",\n",
    "    \"Std_num_proc/s\",\n",
    "    \"Avg_num_cswch/s\",\n",
    "    \"std_num_cswch/s\",\n",
    "    \"anomaly_alert\",\n",
    "]"
   ],
   "id": "81b2099c32d80376",
   "outputs": [],
   "execution_count": 18
  },
  {
   "metadata": {
    "ExecuteTime": {
     "end_time": "2025-05-30T14:49:43.902108Z",
     "start_time": "2025-05-30T14:49:43.074507Z"
    }
   },
   "cell_type": "code",
   "source": [
    "df_clean = df_main.filter((~is_missing_predicate) & (pl.col(\"Avg_user_time\") != \"aza\"))\n",
    "for column in numerical_cols:\n",
    "    if column == \"anomaly_alert\":\n",
    "        anomaly_alert_label = {\"FALSE\": 0, \"TRUE\": 1}\n",
    "        df_clean = df_clean.with_columns(\n",
    "            pl.col(column).replace_strict(anomaly_alert_label, return_dtype=pl.Int64)\n",
    "        )\n",
    "    else:\n",
    "        df_clean = df_clean.with_columns(\n",
    "            pl.col(column).str.strip_chars().cast(pl.Float64, strict=True).alias(f\"{column}.num\")\n",
    "        )\n",
    "print(len(df_clean) * 100 / len(df_main))"
   ],
   "id": "c8476098d714fd61",
   "outputs": [
    {
     "name": "stdout",
     "output_type": "stream",
     "text": [
      "72.61114914830526\n"
     ]
    }
   ],
   "execution_count": 19
  },
  {
   "metadata": {
    "ExecuteTime": {
     "end_time": "2025-05-30T14:49:43.923097Z",
     "start_time": "2025-05-30T14:49:43.915356Z"
    }
   },
   "cell_type": "code",
   "source": [
    "columns_df = columns_df.filter(\n",
    "    pl.col(\"Feature\").is_in(list(set(columns_df[\"Feature\"].to_list()) - set(numerical_cols)))\n",
    ").sort(\"Unique values\", descending=True)\n",
    "columns_df"
   ],
   "id": "e65020d4614e552d",
   "outputs": [
    {
     "data": {
      "text/plain": [
       "shape: (24, 9)\n",
       "┌────────────┬────────────┬─────────┬────────────┬───┬────────────┬───────────┬────────┬───────────┐\n",
       "│ Feature    ┆ Observatio ┆ Missing ┆ Missing    ┆ … ┆ 1st to 2nd ┆ Variable  ┆ Unique ┆ Feature   │\n",
       "│ ---        ┆ ns         ┆ ---     ┆ rate (%)   ┆   ┆ value      ┆ type      ┆ values ┆ type      │\n",
       "│ str        ┆ ---        ┆ i64     ┆ ---        ┆   ┆ density    ┆ ---       ┆ ---    ┆ ---       │\n",
       "│            ┆ i64        ┆         ┆ f64        ┆   ┆ diffe…     ┆ str       ┆ i64    ┆ str       │\n",
       "│            ┆            ┆         ┆            ┆   ┆ ---        ┆           ┆        ┆           │\n",
       "│            ┆            ┆         ┆            ┆   ┆ f64        ┆           ┆        ┆           │\n",
       "╞════════════╪════════════╪═════════╪════════════╪═══╪════════════╪═══════════╪════════╪═══════════╡\n",
       "│ Scr_port   ┆ 820834     ┆ 0       ┆ 0.0        ┆ … ┆ 0.116      ┆ String    ┆ 57460  ┆ Categoric │\n",
       "│            ┆            ┆         ┆            ┆   ┆            ┆           ┆        ┆ al - High │\n",
       "│            ┆            ┆         ┆            ┆   ┆            ┆           ┆        ┆ Cardinali │\n",
       "│            ┆            ┆         ┆            ┆   ┆            ┆           ┆        ┆ ty        │\n",
       "│ Des_port   ┆ 820834     ┆ 0       ┆ 0.0        ┆ … ┆ 3.261      ┆ String    ┆ 6444   ┆ Categoric │\n",
       "│            ┆            ┆         ┆            ┆   ┆            ┆           ┆        ┆ al - High │\n",
       "│            ┆            ┆         ┆            ┆   ┆            ┆           ┆        ┆ Cardinali │\n",
       "│            ┆            ┆         ┆            ┆   ┆            ┆           ┆        ┆ ty        │\n",
       "│ Des_IP     ┆ 820834     ┆ 0       ┆ 0.0        ┆ … ┆ 2.0        ┆ String    ┆ 96     ┆ Categoric │\n",
       "│            ┆            ┆         ┆            ┆   ┆            ┆           ┆        ┆ al - High │\n",
       "│            ┆            ┆         ┆            ┆   ┆            ┆           ┆        ┆ Cardinali │\n",
       "│            ┆            ┆         ┆            ┆   ┆            ┆           ┆        ┆ ty        │\n",
       "│ Date       ┆ 820503     ┆ 331     ┆ 0.04       ┆ … ┆ 6.454      ┆ String    ┆ 50     ┆ Categoric │\n",
       "│            ┆            ┆         ┆            ┆   ┆            ┆           ┆        ┆ al - High │\n",
       "│            ┆            ┆         ┆            ┆   ┆            ┆           ┆        ┆ Cardinali │\n",
       "│            ┆            ┆         ┆            ┆   ┆            ┆           ┆        ┆ ty        │\n",
       "│ Scr_IP     ┆ 820834     ┆ 0       ┆ 0.0        ┆ … ┆ 6.416      ┆ String    ┆ 36     ┆ Categoric │\n",
       "│            ┆            ┆         ┆            ┆   ┆            ┆           ┆        ┆ al - High │\n",
       "│            ┆            ┆         ┆            ┆   ┆            ┆           ┆        ┆ Cardinali │\n",
       "│            ┆            ┆         ┆            ┆   ┆            ┆           ┆        ┆ ty        │\n",
       "│ …          ┆ …          ┆ …       ┆ …          ┆ … ┆ …          ┆ …         ┆ …      ┆ …         │\n",
       "│ Process_ac ┆ 820834     ┆ 0       ┆ 0.0        ┆ … ┆ 83.476     ┆ Int64     ┆ 2      ┆ Flag      │\n",
       "│ tivity     ┆            ┆         ┆            ┆   ┆            ┆           ┆        ┆           │\n",
       "│ read_write ┆ 820834     ┆ 0       ┆ 0.0        ┆ … ┆ 28.938     ┆ Int64     ┆ 2      ┆ Flag      │\n",
       "│ _physical. ┆            ┆         ┆            ┆   ┆            ┆           ┆        ┆           │\n",
       "│ process    ┆            ┆         ┆            ┆   ┆            ┆           ┆        ┆           │\n",
       "│ is_privile ┆ 820834     ┆ 0       ┆ 0.0        ┆ … ┆ 83.508     ┆ Int64     ┆ 2      ┆ Flag      │\n",
       "│ ged        ┆            ┆         ┆            ┆   ┆            ┆           ┆        ┆           │\n",
       "│ FIN or RST ┆ 820834     ┆ 0       ┆ 0.0        ┆ … ┆ 1.234      ┆ Boolean   ┆ 2      ┆ Flag      │\n",
       "│ class3     ┆ 820834     ┆ 0       ┆ 0.0        ┆ … ┆ 2.68       ┆ String    ┆ 2      ┆ Flag      │\n",
       "└────────────┴────────────┴─────────┴────────────┴───┴────────────┴───────────┴────────┴───────────┘"
      ],
      "text/html": [
       "<div><style>\n",
       ".dataframe > thead > tr,\n",
       ".dataframe > tbody > tr {\n",
       "  text-align: right;\n",
       "  white-space: pre-wrap;\n",
       "}\n",
       "</style>\n",
       "<small>shape: (24, 9)</small><table border=\"1\" class=\"dataframe\"><thead><tr><th>Feature</th><th>Observations</th><th>Missing</th><th>Missing rate (%)</th><th>1st value density (%)</th><th>1st to 2nd value density difference (%)</th><th>Variable type</th><th>Unique values</th><th>Feature type</th></tr><tr><td>str</td><td>i64</td><td>i64</td><td>f64</td><td>f64</td><td>f64</td><td>str</td><td>i64</td><td>str</td></tr></thead><tbody><tr><td>&quot;Scr_port&quot;</td><td>820834</td><td>0</td><td>0.0</td><td>0.352</td><td>0.116</td><td>&quot;String&quot;</td><td>57460</td><td>&quot;Categorical - High Cardinality&quot;</td></tr><tr><td>&quot;Des_port&quot;</td><td>820834</td><td>0</td><td>0.0</td><td>28.951</td><td>3.261</td><td>&quot;String&quot;</td><td>6444</td><td>&quot;Categorical - High Cardinality&quot;</td></tr><tr><td>&quot;Des_IP&quot;</td><td>820834</td><td>0</td><td>0.0</td><td>38.093</td><td>2.0</td><td>&quot;String&quot;</td><td>96</td><td>&quot;Categorical - High Cardinality&quot;</td></tr><tr><td>&quot;Date&quot;</td><td>820503</td><td>331</td><td>0.04</td><td>17.984</td><td>6.454</td><td>&quot;String&quot;</td><td>50</td><td>&quot;Categorical - High Cardinality&quot;</td></tr><tr><td>&quot;Scr_IP&quot;</td><td>820834</td><td>0</td><td>0.0</td><td>19.008</td><td>6.416</td><td>&quot;String&quot;</td><td>36</td><td>&quot;Categorical - High Cardinality&quot;</td></tr><tr><td>&hellip;</td><td>&hellip;</td><td>&hellip;</td><td>&hellip;</td><td>&hellip;</td><td>&hellip;</td><td>&hellip;</td><td>&hellip;</td><td>&hellip;</td></tr><tr><td>&quot;Process_activity&quot;</td><td>820834</td><td>0</td><td>0.0</td><td>91.738</td><td>83.476</td><td>&quot;Int64&quot;</td><td>2</td><td>&quot;Flag&quot;</td></tr><tr><td>&quot;read_write_physical.process&quot;</td><td>820834</td><td>0</td><td>0.0</td><td>64.469</td><td>28.938</td><td>&quot;Int64&quot;</td><td>2</td><td>&quot;Flag&quot;</td></tr><tr><td>&quot;is_privileged&quot;</td><td>820834</td><td>0</td><td>0.0</td><td>91.754</td><td>83.508</td><td>&quot;Int64&quot;</td><td>2</td><td>&quot;Flag&quot;</td></tr><tr><td>&quot;FIN or RST&quot;</td><td>820834</td><td>0</td><td>0.0</td><td>50.617</td><td>1.234</td><td>&quot;Boolean&quot;</td><td>2</td><td>&quot;Flag&quot;</td></tr><tr><td>&quot;class3&quot;</td><td>820834</td><td>0</td><td>0.0</td><td>51.34</td><td>2.68</td><td>&quot;String&quot;</td><td>2</td><td>&quot;Flag&quot;</td></tr></tbody></table></div>"
      ]
     },
     "execution_count": 20,
     "metadata": {},
     "output_type": "execute_result"
    }
   ],
   "execution_count": 20
  },
  {
   "metadata": {
    "ExecuteTime": {
     "end_time": "2025-05-30T14:49:43.986497Z",
     "start_time": "2025-05-30T14:49:43.979454Z"
    }
   },
   "cell_type": "code",
   "source": [
    "string_columns_df = string_columns_df.filter(\n",
    "    pl.col(\"Feature\").is_in(\n",
    "        list(set(string_columns_df[\"Feature\"].to_list()) - set(numerical_cols))\n",
    "    )\n",
    ").sort(\"Unique values\", descending=True)\n",
    "string_columns_df"
   ],
   "id": "ac6de638e82ac7d7",
   "outputs": [
    {
     "data": {
      "text/plain": [
       "shape: (10, 9)\n",
       "┌──────────┬────────────┬─────────┬────────────┬───┬────────────┬────────────┬────────┬────────────┐\n",
       "│ Feature  ┆ Observatio ┆ Missing ┆ Missing    ┆ … ┆ 1st to 2nd ┆ Variable   ┆ Unique ┆ Feature    │\n",
       "│ ---      ┆ ns         ┆ ---     ┆ rate (%)   ┆   ┆ value      ┆ type       ┆ values ┆ type       │\n",
       "│ str      ┆ ---        ┆ i64     ┆ ---        ┆   ┆ density    ┆ ---        ┆ ---    ┆ ---        │\n",
       "│          ┆ i64        ┆         ┆ f64        ┆   ┆ diffe…     ┆ str        ┆ i64    ┆ str        │\n",
       "│          ┆            ┆         ┆            ┆   ┆ ---        ┆            ┆        ┆            │\n",
       "│          ┆            ┆         ┆            ┆   ┆ f64        ┆            ┆        ┆            │\n",
       "╞══════════╪════════════╪═════════╪════════════╪═══╪════════════╪════════════╪════════╪════════════╡\n",
       "│ Scr_port ┆ 820834     ┆ 0       ┆ 0.0        ┆ … ┆ 0.116      ┆ String     ┆ 57460  ┆ Categorica │\n",
       "│          ┆            ┆         ┆            ┆   ┆            ┆            ┆        ┆ l - High   │\n",
       "│          ┆            ┆         ┆            ┆   ┆            ┆            ┆        ┆ Cardinalit │\n",
       "│          ┆            ┆         ┆            ┆   ┆            ┆            ┆        ┆ y          │\n",
       "│ Des_port ┆ 820834     ┆ 0       ┆ 0.0        ┆ … ┆ 3.261      ┆ String     ┆ 6444   ┆ Categorica │\n",
       "│          ┆            ┆         ┆            ┆   ┆            ┆            ┆        ┆ l - High   │\n",
       "│          ┆            ┆         ┆            ┆   ┆            ┆            ┆        ┆ Cardinalit │\n",
       "│          ┆            ┆         ┆            ┆   ┆            ┆            ┆        ┆ y          │\n",
       "│ Des_IP   ┆ 820834     ┆ 0       ┆ 0.0        ┆ … ┆ 2.0        ┆ String     ┆ 96     ┆ Categorica │\n",
       "│          ┆            ┆         ┆            ┆   ┆            ┆            ┆        ┆ l - High   │\n",
       "│          ┆            ┆         ┆            ┆   ┆            ┆            ┆        ┆ Cardinalit │\n",
       "│          ┆            ┆         ┆            ┆   ┆            ┆            ┆        ┆ y          │\n",
       "│ Date     ┆ 820503     ┆ 331     ┆ 0.04       ┆ … ┆ 6.454      ┆ String     ┆ 50     ┆ Categorica │\n",
       "│          ┆            ┆         ┆            ┆   ┆            ┆            ┆        ┆ l - High   │\n",
       "│          ┆            ┆         ┆            ┆   ┆            ┆            ┆        ┆ Cardinalit │\n",
       "│          ┆            ┆         ┆            ┆   ┆            ┆            ┆        ┆ y          │\n",
       "│ Scr_IP   ┆ 820834     ┆ 0       ┆ 0.0        ┆ … ┆ 6.416      ┆ String     ┆ 36     ┆ Categorica │\n",
       "│          ┆            ┆         ┆            ┆   ┆            ┆            ┆        ┆ l - High   │\n",
       "│          ┆            ┆         ┆            ┆   ┆            ┆            ┆        ┆ Cardinalit │\n",
       "│          ┆            ┆         ┆            ┆   ┆            ┆            ┆        ┆ y          │\n",
       "│ class1   ┆ 820834     ┆ 0       ┆ 0.0        ┆ … ┆ 34.131     ┆ String     ┆ 19     ┆ Categorica │\n",
       "│          ┆            ┆         ┆            ┆   ┆            ┆            ┆        ┆ l - High   │\n",
       "│          ┆            ┆         ┆            ┆   ┆            ┆            ┆        ┆ Cardinalit │\n",
       "│          ┆            ┆         ┆            ┆   ┆            ┆            ┆        ┆ y          │\n",
       "│ Service  ┆ 820834     ┆ 0       ┆ 0.0        ┆ … ┆ 1.83       ┆ String     ┆ 17     ┆ Categorica │\n",
       "│          ┆            ┆         ┆            ┆   ┆            ┆            ┆        ┆ l - High   │\n",
       "│          ┆            ┆         ┆            ┆   ┆            ┆            ┆        ┆ Cardinalit │\n",
       "│          ┆            ┆         ┆            ┆   ┆            ┆            ┆        ┆ y          │\n",
       "│ class2   ┆ 820834     ┆ 0       ┆ 0.0        ┆ … ┆ 34.131     ┆ String     ┆ 10     ┆ Categorica │\n",
       "│          ┆            ┆         ┆            ┆   ┆            ┆            ┆        ┆ l          │\n",
       "│ Protocol ┆ 820834     ┆ 0       ┆ 0.0        ┆ … ┆ 3.255      ┆ String     ┆ 4      ┆ Categorica │\n",
       "│          ┆            ┆         ┆            ┆   ┆            ┆            ┆        ┆ l          │\n",
       "│ class3   ┆ 820834     ┆ 0       ┆ 0.0        ┆ … ┆ 2.68       ┆ String     ┆ 2      ┆ Flag       │\n",
       "└──────────┴────────────┴─────────┴────────────┴───┴────────────┴────────────┴────────┴────────────┘"
      ],
      "text/html": [
       "<div><style>\n",
       ".dataframe > thead > tr,\n",
       ".dataframe > tbody > tr {\n",
       "  text-align: right;\n",
       "  white-space: pre-wrap;\n",
       "}\n",
       "</style>\n",
       "<small>shape: (10, 9)</small><table border=\"1\" class=\"dataframe\"><thead><tr><th>Feature</th><th>Observations</th><th>Missing</th><th>Missing rate (%)</th><th>1st value density (%)</th><th>1st to 2nd value density difference (%)</th><th>Variable type</th><th>Unique values</th><th>Feature type</th></tr><tr><td>str</td><td>i64</td><td>i64</td><td>f64</td><td>f64</td><td>f64</td><td>str</td><td>i64</td><td>str</td></tr></thead><tbody><tr><td>&quot;Scr_port&quot;</td><td>820834</td><td>0</td><td>0.0</td><td>0.352</td><td>0.116</td><td>&quot;String&quot;</td><td>57460</td><td>&quot;Categorical - High Cardinality&quot;</td></tr><tr><td>&quot;Des_port&quot;</td><td>820834</td><td>0</td><td>0.0</td><td>28.951</td><td>3.261</td><td>&quot;String&quot;</td><td>6444</td><td>&quot;Categorical - High Cardinality&quot;</td></tr><tr><td>&quot;Des_IP&quot;</td><td>820834</td><td>0</td><td>0.0</td><td>38.093</td><td>2.0</td><td>&quot;String&quot;</td><td>96</td><td>&quot;Categorical - High Cardinality&quot;</td></tr><tr><td>&quot;Date&quot;</td><td>820503</td><td>331</td><td>0.04</td><td>17.984</td><td>6.454</td><td>&quot;String&quot;</td><td>50</td><td>&quot;Categorical - High Cardinality&quot;</td></tr><tr><td>&quot;Scr_IP&quot;</td><td>820834</td><td>0</td><td>0.0</td><td>19.008</td><td>6.416</td><td>&quot;String&quot;</td><td>36</td><td>&quot;Categorical - High Cardinality&quot;</td></tr><tr><td>&quot;class1&quot;</td><td>820834</td><td>0</td><td>0.0</td><td>51.34</td><td>34.131</td><td>&quot;String&quot;</td><td>19</td><td>&quot;Categorical - High Cardinality&quot;</td></tr><tr><td>&quot;Service&quot;</td><td>820834</td><td>0</td><td>0.0</td><td>28.963</td><td>1.83</td><td>&quot;String&quot;</td><td>17</td><td>&quot;Categorical - High Cardinality&quot;</td></tr><tr><td>&quot;class2&quot;</td><td>820834</td><td>0</td><td>0.0</td><td>51.34</td><td>34.131</td><td>&quot;String&quot;</td><td>10</td><td>&quot;Categorical&quot;</td></tr><tr><td>&quot;Protocol&quot;</td><td>820834</td><td>0</td><td>0.0</td><td>51.452</td><td>3.255</td><td>&quot;String&quot;</td><td>4</td><td>&quot;Categorical&quot;</td></tr><tr><td>&quot;class3&quot;</td><td>820834</td><td>0</td><td>0.0</td><td>51.34</td><td>2.68</td><td>&quot;String&quot;</td><td>2</td><td>&quot;Flag&quot;</td></tr></tbody></table></div>"
      ]
     },
     "execution_count": 21,
     "metadata": {},
     "output_type": "execute_result"
    }
   ],
   "execution_count": 21
  },
  {
   "metadata": {},
   "cell_type": "markdown",
   "source": "#### `Des_port` and `Scr_port`: KEEP Des, REMOVE Scr",
   "id": "e25a109c2b8f0919"
  },
  {
   "metadata": {
    "ExecuteTime": {
     "end_time": "2025-05-30T14:49:44.069599Z",
     "start_time": "2025-05-30T14:49:44.065553Z"
    }
   },
   "cell_type": "code",
   "source": "df_clean[\"Des_port\", \"Scr_port\"].head()",
   "id": "f0cecf811e2b5c49",
   "outputs": [
    {
     "data": {
      "text/plain": [
       "shape: (5, 2)\n",
       "┌──────────┬──────────┐\n",
       "│ Des_port ┆ Scr_port │\n",
       "│ ---      ┆ ---      │\n",
       "│ str      ┆ str      │\n",
       "╞══════════╪══════════╡\n",
       "│ 80       ┆ 49278    │\n",
       "│ 53       ┆ 39769    │\n",
       "│ 53       ┆ 59050    │\n",
       "│ 1880     ┆ 37966    │\n",
       "│ 80       ┆ 50502    │\n",
       "└──────────┴──────────┘"
      ],
      "text/html": [
       "<div><style>\n",
       ".dataframe > thead > tr,\n",
       ".dataframe > tbody > tr {\n",
       "  text-align: right;\n",
       "  white-space: pre-wrap;\n",
       "}\n",
       "</style>\n",
       "<small>shape: (5, 2)</small><table border=\"1\" class=\"dataframe\"><thead><tr><th>Des_port</th><th>Scr_port</th></tr><tr><td>str</td><td>str</td></tr></thead><tbody><tr><td>&quot;80&quot;</td><td>&quot;49278&quot;</td></tr><tr><td>&quot;53&quot;</td><td>&quot;39769&quot;</td></tr><tr><td>&quot;53&quot;</td><td>&quot;59050&quot;</td></tr><tr><td>&quot;1880&quot;</td><td>&quot;37966&quot;</td></tr><tr><td>&quot;80&quot;</td><td>&quot;50502&quot;</td></tr></tbody></table></div>"
      ]
     },
     "execution_count": 22,
     "metadata": {},
     "output_type": "execute_result"
    }
   ],
   "execution_count": 22
  },
  {
   "metadata": {
    "ExecuteTime": {
     "end_time": "2025-05-30T14:49:44.229643Z",
     "start_time": "2025-05-30T14:49:44.188035Z"
    }
   },
   "cell_type": "code",
   "source": [
    "df_clean = df_clean.with_columns(\n",
    "    pl.col(\"Scr_port\").str.strip_chars().cast(pl.Float64, strict=True).alias(\"Scr_port.num\")\n",
    ")\n",
    "df_clean = df_clean.with_columns(\n",
    "    pl.col(\"Des_port\").str.strip_chars().cast(pl.Float64, strict=True).alias(\"Des_port.num\")\n",
    ")"
   ],
   "id": "49bdb8298db32106",
   "outputs": [],
   "execution_count": 23
  },
  {
   "metadata": {
    "ExecuteTime": {
     "end_time": "2025-05-30T14:49:45.230401Z",
     "start_time": "2025-05-30T14:49:44.322596Z"
    }
   },
   "cell_type": "code",
   "source": [
    "plot_target_relationship(\n",
    "    df_clean,\n",
    "    \"Scr_port.num\",\n",
    "    log_scale=False,\n",
    ")"
   ],
   "id": "f02599caeff1f3f9",
   "outputs": [
    {
     "data": {
      "text/plain": [
       "<Figure size 1000x600 with 1 Axes>"
      ],
      "image/png": "[encoded data removed]"
     },
     "metadata": {},
     "output_type": "display_data"
    }
   ],
   "execution_count": 24
  },
  {
   "metadata": {
    "ExecuteTime": {
     "end_time": "2025-05-30T14:49:45.350997Z",
     "start_time": "2025-05-30T14:49:45.268448Z"
    }
   },
   "cell_type": "code",
   "source": "df_clean.filter(pl.col(\"Attack_label\") == 0)[\"Scr_port.num\"].describe()",
   "id": "3bb0d91e64145b67",
   "outputs": [
    {
     "data": {
      "text/plain": [
       "shape: (9, 2)\n",
       "┌────────────┬──────────────┐\n",
       "│ statistic  ┆ value        │\n",
       "│ ---        ┆ ---          │\n",
       "│ str        ┆ f64          │\n",
       "╞════════════╪══════════════╡\n",
       "│ count      ┆ 336599.0     │\n",
       "│ null_count ┆ 0.0          │\n",
       "│ mean       ┆ 44811.077632 │\n",
       "│ std        ┆ 14446.880102 │\n",
       "│ min        ┆ 3.0          │\n",
       "│ 25%        ┆ 38360.0      │\n",
       "│ 50%        ┆ 49520.0      │\n",
       "│ 75%        ┆ 54797.0      │\n",
       "│ max        ┆ 65535.0      │\n",
       "└────────────┴──────────────┘"
      ],
      "text/html": [
       "<div><style>\n",
       ".dataframe > thead > tr,\n",
       ".dataframe > tbody > tr {\n",
       "  text-align: right;\n",
       "  white-space: pre-wrap;\n",
       "}\n",
       "</style>\n",
       "<small>shape: (9, 2)</small><table border=\"1\" class=\"dataframe\"><thead><tr><th>statistic</th><th>value</th></tr><tr><td>str</td><td>f64</td></tr></thead><tbody><tr><td>&quot;count&quot;</td><td>336599.0</td></tr><tr><td>&quot;null_count&quot;</td><td>0.0</td></tr><tr><td>&quot;mean&quot;</td><td>44811.077632</td></tr><tr><td>&quot;std&quot;</td><td>14446.880102</td></tr><tr><td>&quot;min&quot;</td><td>3.0</td></tr><tr><td>&quot;25%&quot;</td><td>38360.0</td></tr><tr><td>&quot;50%&quot;</td><td>49520.0</td></tr><tr><td>&quot;75%&quot;</td><td>54797.0</td></tr><tr><td>&quot;max&quot;</td><td>65535.0</td></tr></tbody></table></div>"
      ]
     },
     "execution_count": 25,
     "metadata": {},
     "output_type": "execute_result"
    }
   ],
   "execution_count": 25
  },
  {
   "metadata": {
    "ExecuteTime": {
     "end_time": "2025-05-30T14:49:45.503770Z",
     "start_time": "2025-05-30T14:49:45.420727Z"
    }
   },
   "cell_type": "code",
   "source": "df_clean.filter(pl.col(\"Attack_label\") == 1)[\"Scr_port.num\"].describe()",
   "id": "8e3aacad4e209299",
   "outputs": [
    {
     "data": {
      "text/plain": [
       "shape: (9, 2)\n",
       "┌────────────┬──────────────┐\n",
       "│ statistic  ┆ value        │\n",
       "│ ---        ┆ ---          │\n",
       "│ str        ┆ f64          │\n",
       "╞════════════╪══════════════╡\n",
       "│ count      ┆ 259418.0     │\n",
       "│ null_count ┆ 0.0          │\n",
       "│ mean       ┆ 46973.453326 │\n",
       "│ std        ┆ 8817.882249  │\n",
       "│ min        ┆ 3.0          │\n",
       "│ 25%        ┆ 39702.0      │\n",
       "│ 50%        ┆ 47246.0      │\n",
       "│ 75%        ┆ 54095.0      │\n",
       "│ max        ┆ 65268.0      │\n",
       "└────────────┴──────────────┘"
      ],
      "text/html": [
       "<div><style>\n",
       ".dataframe > thead > tr,\n",
       ".dataframe > tbody > tr {\n",
       "  text-align: right;\n",
       "  white-space: pre-wrap;\n",
       "}\n",
       "</style>\n",
       "<small>shape: (9, 2)</small><table border=\"1\" class=\"dataframe\"><thead><tr><th>statistic</th><th>value</th></tr><tr><td>str</td><td>f64</td></tr></thead><tbody><tr><td>&quot;count&quot;</td><td>259418.0</td></tr><tr><td>&quot;null_count&quot;</td><td>0.0</td></tr><tr><td>&quot;mean&quot;</td><td>46973.453326</td></tr><tr><td>&quot;std&quot;</td><td>8817.882249</td></tr><tr><td>&quot;min&quot;</td><td>3.0</td></tr><tr><td>&quot;25%&quot;</td><td>39702.0</td></tr><tr><td>&quot;50%&quot;</td><td>47246.0</td></tr><tr><td>&quot;75%&quot;</td><td>54095.0</td></tr><tr><td>&quot;max&quot;</td><td>65268.0</td></tr></tbody></table></div>"
      ]
     },
     "execution_count": 26,
     "metadata": {},
     "output_type": "execute_result"
    }
   ],
   "execution_count": 26
  },
  {
   "metadata": {
    "ExecuteTime": {
     "end_time": "2025-05-30T14:49:46.465706Z",
     "start_time": "2025-05-30T14:49:45.590889Z"
    }
   },
   "cell_type": "code",
   "source": [
    "plot_target_relationship(\n",
    "    df_clean,\n",
    "    \"Des_port.num\",\n",
    "    log_scale=False,\n",
    ")"
   ],
   "id": "136a665cd57a9012",
   "outputs": [
    {
     "data": {
      "text/plain": [
       "<Figure size 1000x600 with 1 Axes>"
      ],
      "image/png": "[encoded data removed]"
     },
     "metadata": {},
     "output_type": "display_data"
    }
   ],
   "execution_count": 27
  },
  {
   "metadata": {
    "ExecuteTime": {
     "end_time": "2025-05-30T14:49:46.623877Z",
     "start_time": "2025-05-30T14:49:46.529554Z"
    }
   },
   "cell_type": "code",
   "source": "df_clean.filter(pl.col(\"Attack_label\") == 0)[\"Des_port.num\"].describe()",
   "id": "7e63e82e2aaf510c",
   "outputs": [
    {
     "data": {
      "text/plain": [
       "shape: (9, 2)\n",
       "┌────────────┬────────────┐\n",
       "│ statistic  ┆ value      │\n",
       "│ ---        ┆ ---        │\n",
       "│ str        ┆ f64        │\n",
       "╞════════════╪════════════╡\n",
       "│ count      ┆ 336599.0   │\n",
       "│ null_count ┆ 0.0        │\n",
       "│ mean       ┆ 670.252969 │\n",
       "│ std        ┆ 2314.7992  │\n",
       "│ min        ┆ 0.0        │\n",
       "│ 25%        ┆ 53.0       │\n",
       "│ 50%        ┆ 80.0       │\n",
       "│ 75%        ┆ 80.0       │\n",
       "│ max        ┆ 63029.0    │\n",
       "└────────────┴────────────┘"
      ],
      "text/html": [
       "<div><style>\n",
       ".dataframe > thead > tr,\n",
       ".dataframe > tbody > tr {\n",
       "  text-align: right;\n",
       "  white-space: pre-wrap;\n",
       "}\n",
       "</style>\n",
       "<small>shape: (9, 2)</small><table border=\"1\" class=\"dataframe\"><thead><tr><th>statistic</th><th>value</th></tr><tr><td>str</td><td>f64</td></tr></thead><tbody><tr><td>&quot;count&quot;</td><td>336599.0</td></tr><tr><td>&quot;null_count&quot;</td><td>0.0</td></tr><tr><td>&quot;mean&quot;</td><td>670.252969</td></tr><tr><td>&quot;std&quot;</td><td>2314.7992</td></tr><tr><td>&quot;min&quot;</td><td>0.0</td></tr><tr><td>&quot;25%&quot;</td><td>53.0</td></tr><tr><td>&quot;50%&quot;</td><td>80.0</td></tr><tr><td>&quot;75%&quot;</td><td>80.0</td></tr><tr><td>&quot;max&quot;</td><td>63029.0</td></tr></tbody></table></div>"
      ]
     },
     "execution_count": 28,
     "metadata": {},
     "output_type": "execute_result"
    }
   ],
   "execution_count": 28
  },
  {
   "metadata": {
    "ExecuteTime": {
     "end_time": "2025-05-30T14:49:46.779095Z",
     "start_time": "2025-05-30T14:49:46.696008Z"
    }
   },
   "cell_type": "code",
   "source": "df_clean.filter(pl.col(\"Attack_label\") == 1)[\"Des_port.num\"].describe()",
   "id": "ded29a07d497324",
   "outputs": [
    {
     "data": {
      "text/plain": [
       "shape: (9, 2)\n",
       "┌────────────┬─────────────┐\n",
       "│ statistic  ┆ value       │\n",
       "│ ---        ┆ ---         │\n",
       "│ str        ┆ f64         │\n",
       "╞════════════╪═════════════╡\n",
       "│ count      ┆ 259418.0    │\n",
       "│ null_count ┆ 0.0         │\n",
       "│ mean       ┆ 3752.328497 │\n",
       "│ std        ┆ 6299.697251 │\n",
       "│ min        ┆ 0.0         │\n",
       "│ 25%        ┆ 80.0        │\n",
       "│ 50%        ┆ 1883.0      │\n",
       "│ 75%        ┆ 5683.0      │\n",
       "│ max        ┆ 65389.0     │\n",
       "└────────────┴─────────────┘"
      ],
      "text/html": [
       "<div><style>\n",
       ".dataframe > thead > tr,\n",
       ".dataframe > tbody > tr {\n",
       "  text-align: right;\n",
       "  white-space: pre-wrap;\n",
       "}\n",
       "</style>\n",
       "<small>shape: (9, 2)</small><table border=\"1\" class=\"dataframe\"><thead><tr><th>statistic</th><th>value</th></tr><tr><td>str</td><td>f64</td></tr></thead><tbody><tr><td>&quot;count&quot;</td><td>259418.0</td></tr><tr><td>&quot;null_count&quot;</td><td>0.0</td></tr><tr><td>&quot;mean&quot;</td><td>3752.328497</td></tr><tr><td>&quot;std&quot;</td><td>6299.697251</td></tr><tr><td>&quot;min&quot;</td><td>0.0</td></tr><tr><td>&quot;25%&quot;</td><td>80.0</td></tr><tr><td>&quot;50%&quot;</td><td>1883.0</td></tr><tr><td>&quot;75%&quot;</td><td>5683.0</td></tr><tr><td>&quot;max&quot;</td><td>65389.0</td></tr></tbody></table></div>"
      ]
     },
     "execution_count": 29,
     "metadata": {},
     "output_type": "execute_result"
    }
   ],
   "execution_count": 29
  },
  {
   "metadata": {},
   "cell_type": "markdown",
   "source": "VERDICT: Remove Scr_port but Keep Des_port",
   "id": "fc3e0100aefa01e5"
  },
  {
   "metadata": {
    "ExecuteTime": {
     "end_time": "2025-05-30T14:49:46.986038Z",
     "start_time": "2025-05-30T14:49:46.980352Z"
    }
   },
   "cell_type": "code",
   "source": "drop_string_columns(\"Scr_port\", \"Des_port\")",
   "id": "b8b4d645e2597c3b",
   "outputs": [
    {
     "name": "stdout",
     "output_type": "stream",
     "text": [
      "ALL columns left: 22\n",
      "STRING columns left: 8\n"
     ]
    },
    {
     "data": {
      "text/plain": [
       "shape: (5, 9)\n",
       "┌─────────┬─────────────┬─────────┬────────────┬───┬────────────┬────────────┬────────┬────────────┐\n",
       "│ Feature ┆ Observation ┆ Missing ┆ Missing    ┆ … ┆ 1st to 2nd ┆ Variable   ┆ Unique ┆ Feature    │\n",
       "│ ---     ┆ s           ┆ ---     ┆ rate (%)   ┆   ┆ value      ┆ type       ┆ values ┆ type       │\n",
       "│ str     ┆ ---         ┆ i64     ┆ ---        ┆   ┆ density    ┆ ---        ┆ ---    ┆ ---        │\n",
       "│         ┆ i64         ┆         ┆ f64        ┆   ┆ diffe…     ┆ str        ┆ i64    ┆ str        │\n",
       "│         ┆             ┆         ┆            ┆   ┆ ---        ┆            ┆        ┆            │\n",
       "│         ┆             ┆         ┆            ┆   ┆ f64        ┆            ┆        ┆            │\n",
       "╞═════════╪═════════════╪═════════╪════════════╪═══╪════════════╪════════════╪════════╪════════════╡\n",
       "│ Des_IP  ┆ 820834      ┆ 0       ┆ 0.0        ┆ … ┆ 2.0        ┆ String     ┆ 96     ┆ Categorica │\n",
       "│         ┆             ┆         ┆            ┆   ┆            ┆            ┆        ┆ l - High   │\n",
       "│         ┆             ┆         ┆            ┆   ┆            ┆            ┆        ┆ Cardinalit │\n",
       "│         ┆             ┆         ┆            ┆   ┆            ┆            ┆        ┆ y          │\n",
       "│ Date    ┆ 820503      ┆ 331     ┆ 0.04       ┆ … ┆ 6.454      ┆ String     ┆ 50     ┆ Categorica │\n",
       "│         ┆             ┆         ┆            ┆   ┆            ┆            ┆        ┆ l - High   │\n",
       "│         ┆             ┆         ┆            ┆   ┆            ┆            ┆        ┆ Cardinalit │\n",
       "│         ┆             ┆         ┆            ┆   ┆            ┆            ┆        ┆ y          │\n",
       "│ Scr_IP  ┆ 820834      ┆ 0       ┆ 0.0        ┆ … ┆ 6.416      ┆ String     ┆ 36     ┆ Categorica │\n",
       "│         ┆             ┆         ┆            ┆   ┆            ┆            ┆        ┆ l - High   │\n",
       "│         ┆             ┆         ┆            ┆   ┆            ┆            ┆        ┆ Cardinalit │\n",
       "│         ┆             ┆         ┆            ┆   ┆            ┆            ┆        ┆ y          │\n",
       "│ class1  ┆ 820834      ┆ 0       ┆ 0.0        ┆ … ┆ 34.131     ┆ String     ┆ 19     ┆ Categorica │\n",
       "│         ┆             ┆         ┆            ┆   ┆            ┆            ┆        ┆ l - High   │\n",
       "│         ┆             ┆         ┆            ┆   ┆            ┆            ┆        ┆ Cardinalit │\n",
       "│         ┆             ┆         ┆            ┆   ┆            ┆            ┆        ┆ y          │\n",
       "│ Service ┆ 820834      ┆ 0       ┆ 0.0        ┆ … ┆ 1.83       ┆ String     ┆ 17     ┆ Categorica │\n",
       "│         ┆             ┆         ┆            ┆   ┆            ┆            ┆        ┆ l - High   │\n",
       "│         ┆             ┆         ┆            ┆   ┆            ┆            ┆        ┆ Cardinalit │\n",
       "│         ┆             ┆         ┆            ┆   ┆            ┆            ┆        ┆ y          │\n",
       "└─────────┴─────────────┴─────────┴────────────┴───┴────────────┴────────────┴────────┴────────────┘"
      ],
      "text/html": [
       "<div><style>\n",
       ".dataframe > thead > tr,\n",
       ".dataframe > tbody > tr {\n",
       "  text-align: right;\n",
       "  white-space: pre-wrap;\n",
       "}\n",
       "</style>\n",
       "<small>shape: (5, 9)</small><table border=\"1\" class=\"dataframe\"><thead><tr><th>Feature</th><th>Observations</th><th>Missing</th><th>Missing rate (%)</th><th>1st value density (%)</th><th>1st to 2nd value density difference (%)</th><th>Variable type</th><th>Unique values</th><th>Feature type</th></tr><tr><td>str</td><td>i64</td><td>i64</td><td>f64</td><td>f64</td><td>f64</td><td>str</td><td>i64</td><td>str</td></tr></thead><tbody><tr><td>&quot;Des_IP&quot;</td><td>820834</td><td>0</td><td>0.0</td><td>38.093</td><td>2.0</td><td>&quot;String&quot;</td><td>96</td><td>&quot;Categorical - High Cardinality&quot;</td></tr><tr><td>&quot;Date&quot;</td><td>820503</td><td>331</td><td>0.04</td><td>17.984</td><td>6.454</td><td>&quot;String&quot;</td><td>50</td><td>&quot;Categorical - High Cardinality&quot;</td></tr><tr><td>&quot;Scr_IP&quot;</td><td>820834</td><td>0</td><td>0.0</td><td>19.008</td><td>6.416</td><td>&quot;String&quot;</td><td>36</td><td>&quot;Categorical - High Cardinality&quot;</td></tr><tr><td>&quot;class1&quot;</td><td>820834</td><td>0</td><td>0.0</td><td>51.34</td><td>34.131</td><td>&quot;String&quot;</td><td>19</td><td>&quot;Categorical - High Cardinality&quot;</td></tr><tr><td>&quot;Service&quot;</td><td>820834</td><td>0</td><td>0.0</td><td>28.963</td><td>1.83</td><td>&quot;String&quot;</td><td>17</td><td>&quot;Categorical - High Cardinality&quot;</td></tr></tbody></table></div>"
      ]
     },
     "metadata": {},
     "output_type": "display_data"
    }
   ],
   "execution_count": 30
  },
  {
   "metadata": {},
   "cell_type": "markdown",
   "source": "#### `Des_IP` and `Scr_IP`",
   "id": "ef654176bdab5094"
  },
  {
   "metadata": {
    "ExecuteTime": {
     "end_time": "2025-05-30T14:49:47.083978Z",
     "start_time": "2025-05-30T14:49:47.077587Z"
    }
   },
   "cell_type": "code",
   "source": "df_clean[\"Des_IP\"].head()",
   "id": "2b574f95e7f13aee",
   "outputs": [
    {
     "data": {
      "text/plain": [
       "shape: (10,)\n",
       "Series: 'Des_IP' [str]\n",
       "[\n",
       "\t\"192.168.2.10\"\n",
       "\t\"131.236.3.92\"\n",
       "\t\"172.24.1.1\"\n",
       "\t\"192.168.2.10\"\n",
       "\t\"192.168.2.10\"\n",
       "\t\"172.24.1.1\"\n",
       "\t\"172.24.1.1\"\n",
       "\t\"172.24.1.1\"\n",
       "\t\"172.24.1.1\"\n",
       "\t\"161.69.36.37\"\n",
       "]"
      ],
      "text/html": [
       "<div><style>\n",
       ".dataframe > thead > tr,\n",
       ".dataframe > tbody > tr {\n",
       "  text-align: right;\n",
       "  white-space: pre-wrap;\n",
       "}\n",
       "</style>\n",
       "<small>shape: (10,)</small><table border=\"1\" class=\"dataframe\"><thead><tr><th>Des_IP</th></tr><tr><td>str</td></tr></thead><tbody><tr><td>&quot;192.168.2.10&quot;</td></tr><tr><td>&quot;131.236.3.92&quot;</td></tr><tr><td>&quot;172.24.1.1&quot;</td></tr><tr><td>&quot;192.168.2.10&quot;</td></tr><tr><td>&quot;192.168.2.10&quot;</td></tr><tr><td>&quot;172.24.1.1&quot;</td></tr><tr><td>&quot;172.24.1.1&quot;</td></tr><tr><td>&quot;172.24.1.1&quot;</td></tr><tr><td>&quot;172.24.1.1&quot;</td></tr><tr><td>&quot;161.69.36.37&quot;</td></tr></tbody></table></div>"
      ]
     },
     "execution_count": 31,
     "metadata": {},
     "output_type": "execute_result"
    }
   ],
   "execution_count": 31
  },
  {
   "metadata": {
    "ExecuteTime": {
     "end_time": "2025-05-30T14:49:47.218495Z",
     "start_time": "2025-05-30T14:49:47.213738Z"
    }
   },
   "cell_type": "code",
   "source": [
    "import socket\n",
    "import struct\n",
    "import ipaddress\n",
    "\n",
    "\n",
    "def ip_to_int(ip):\n",
    "    try:\n",
    "        return struct.unpack(\"!I\", socket.inet_aton(ip))[0]\n",
    "    except (OSError, socket.error):\n",
    "        return None\n",
    "\n",
    "\n",
    "def int_to_ip(i):\n",
    "    return socket.inet_ntoa(struct.pack(\"!I\", i))\n",
    "\n",
    "\n",
    "def get_shared_subnet_mask(ip1, ip2, default_value=\"null\"):\n",
    "    try:\n",
    "        ipaddress.IPv4Address(ip1)\n",
    "        ipaddress.IPv4Address(ip2)\n",
    "    except ipaddress.AddressValueError:\n",
    "        return default_value\n",
    "\n",
    "    ip1_int = ip_to_int(ip1)\n",
    "    ip2_int = ip_to_int(ip2)\n",
    "\n",
    "    if ip1_int is None or ip2_int is None:\n",
    "        return default_value\n",
    "\n",
    "    xor = ip1_int ^ ip2_int\n",
    "    if xor == 0:\n",
    "        mask_len = 32\n",
    "    else:\n",
    "        mask_len = 32 - xor.bit_length()\n",
    "\n",
    "    mask_int = (0xFFFFFFFF << (32 - mask_len)) & 0xFFFFFFFF\n",
    "    return int_to_ip(mask_int)"
   ],
   "id": "3b4b390bb7895e61",
   "outputs": [],
   "execution_count": 32
  },
  {
   "metadata": {
    "ExecuteTime": {
     "end_time": "2025-05-30T14:49:47.851105Z",
     "start_time": "2025-05-30T14:49:47.323388Z"
    }
   },
   "cell_type": "code",
   "source": [
    "df_clean = df_clean.with_columns(\n",
    "    pl.col(\"Des_IP\").map_elements(ip_to_int, return_dtype=pl.Int64).alias(\"Des_IP.num\"),\n",
    "    pl.col(\"Scr_IP\").map_elements(ip_to_int, return_dtype=pl.Int64).alias(\"Scr_IP.num\"),\n",
    ")\n",
    "df_clean.filter(pl.col(\"Des_IP\").is_null() | pl.col(\"Scr_IP\").is_null())"
   ],
   "id": "674f68e44215029e",
   "outputs": [
    {
     "data": {
      "text/plain": [
       "shape: (0, 112)\n",
       "┌──────┬───────────┬────────┬──────────┬───┬──────────────┬──────────────┬────────────┬────────────┐\n",
       "│ Date ┆ Timestamp ┆ Scr_IP ┆ Scr_port ┆ … ┆ Scr_port.num ┆ Des_port.num ┆ Des_IP.num ┆ Scr_IP.num │\n",
       "│ ---  ┆ ---       ┆ ---    ┆ ---      ┆   ┆ ---          ┆ ---          ┆ ---        ┆ ---        │\n",
       "│ str  ┆ str       ┆ str    ┆ str      ┆   ┆ f64          ┆ f64          ┆ i64        ┆ i64        │\n",
       "╞══════╪═══════════╪════════╪══════════╪═══╪══════════════╪══════════════╪════════════╪════════════╡\n",
       "└──────┴───────────┴────────┴──────────┴───┴──────────────┴──────────────┴────────────┴────────────┘"
      ],
      "text/html": [
       "<div><style>\n",
       ".dataframe > thead > tr,\n",
       ".dataframe > tbody > tr {\n",
       "  text-align: right;\n",
       "  white-space: pre-wrap;\n",
       "}\n",
       "</style>\n",
       "<small>shape: (0, 112)</small><table border=\"1\" class=\"dataframe\"><thead><tr><th>Date</th><th>Timestamp</th><th>Scr_IP</th><th>Scr_port</th><th>Des_IP</th><th>Des_port</th><th>Protocol</th><th>Service</th><th>Duration</th><th>Scr_bytes</th><th>Des_bytes</th><th>Conn_state</th><th>missed_bytes</th><th>is_syn_only</th><th>Is_SYN_ACK</th><th>is_pure_ack</th><th>is_with_payload</th><th>FIN or RST</th><th>Scr_pkts</th><th>Scr_ip_bytes</th><th>Des_pkts</th><th>Des_ip_bytes</th><th>anomaly_alert</th><th>total_bytes</th><th>total_packet</th><th>paket_rate</th><th>byte_rate</th><th>Scr_packts_ratio</th><th>Des_pkts_ratio</th><th>Scr_bytes_ratio</th><th>Des_bytes_ratio</th><th>Avg_user_time</th><th>Std_user_time</th><th>Avg_nice_time</th><th>Std_nice_time</th><th>Avg_system_time</th><th>Std_system_time</th><th>&hellip;</th><th>Des_ip_bytes.num</th><th>total_bytes.num</th><th>total_packet.num</th><th>paket_rate.num</th><th>byte_rate.num</th><th>Scr_packts_ratio.num</th><th>Des_pkts_ratio.num</th><th>Scr_bytes_ratio.num</th><th>Des_bytes_ratio.num</th><th>Avg_user_time.num</th><th>Std_user_time.num</th><th>Avg_nice_time.num</th><th>Std_nice_time.num</th><th>Avg_system_time.num</th><th>Std_system_time.num</th><th>Avg_iowait_time.num</th><th>Std_iowait_time.num</th><th>Avg_ideal_time.num</th><th>Std_ideal_time.num</th><th>Avg_tps.num</th><th>Std_tps.num</th><th>Avg_rtps.num</th><th>Std_rtps.num</th><th>Avg_wtps.num</th><th>Std_wtps.num</th><th>Avg_ldavg_1.num</th><th>Std_ldavg_1.num</th><th>Avg_kbmemused.num</th><th>Std_kbmemused.num</th><th>Avg_num_Proc/s.num</th><th>Std_num_proc/s.num</th><th>Avg_num_cswch/s.num</th><th>std_num_cswch/s.num</th><th>Scr_port.num</th><th>Des_port.num</th><th>Des_IP.num</th><th>Scr_IP.num</th></tr><tr><td>str</td><td>str</td><td>str</td><td>str</td><td>str</td><td>str</td><td>str</td><td>str</td><td>str</td><td>str</td><td>str</td><td>i64</td><td>str</td><td>bool</td><td>bool</td><td>bool</td><td>bool</td><td>bool</td><td>str</td><td>str</td><td>str</td><td>str</td><td>i64</td><td>str</td><td>str</td><td>str</td><td>str</td><td>str</td><td>str</td><td>str</td><td>str</td><td>str</td><td>str</td><td>str</td><td>str</td><td>str</td><td>str</td><td>&hellip;</td><td>f64</td><td>f64</td><td>f64</td><td>f64</td><td>f64</td><td>f64</td><td>f64</td><td>f64</td><td>f64</td><td>f64</td><td>f64</td><td>f64</td><td>f64</td><td>f64</td><td>f64</td><td>f64</td><td>f64</td><td>f64</td><td>f64</td><td>f64</td><td>f64</td><td>f64</td><td>f64</td><td>f64</td><td>f64</td><td>f64</td><td>f64</td><td>f64</td><td>f64</td><td>f64</td><td>f64</td><td>f64</td><td>f64</td><td>f64</td><td>f64</td><td>i64</td><td>i64</td></tr></thead><tbody></tbody></table></div>"
      ]
     },
     "execution_count": 33,
     "metadata": {},
     "output_type": "execute_result"
    }
   ],
   "execution_count": 33
  },
  {
   "metadata": {
    "ExecuteTime": {
     "end_time": "2025-05-30T14:49:49.008014Z",
     "start_time": "2025-05-30T14:49:47.911932Z"
    }
   },
   "cell_type": "code",
   "source": [
    "plot_target_relationship(\n",
    "    df_clean,\n",
    "    \"Des_IP.num\",\n",
    "    log_scale=False,\n",
    ")"
   ],
   "id": "88fd574c07320bb4",
   "outputs": [
    {
     "data": {
      "text/plain": [
       "<Figure size 1000x600 with 1 Axes>"
      ],
      "image/png": "[encoded data removed]"
     },
     "metadata": {},
     "output_type": "display_data"
    }
   ],
   "execution_count": 34
  },
  {
   "metadata": {
    "ExecuteTime": {
     "end_time": "2025-05-30T14:49:50.010183Z",
     "start_time": "2025-05-30T14:49:49.039734Z"
    }
   },
   "cell_type": "code",
   "source": [
    "plot_target_relationship(\n",
    "    df_clean,\n",
    "    \"Scr_IP.num\",\n",
    "    log_scale=False,\n",
    ")"
   ],
   "id": "11b785ed40b29109",
   "outputs": [
    {
     "data": {
      "text/plain": [
       "<Figure size 1000x600 with 1 Axes>"
      ],
      "image/png": "[encoded data removed]"
     },
     "metadata": {},
     "output_type": "display_data"
    }
   ],
   "execution_count": 35
  },
  {
   "metadata": {
    "ExecuteTime": {
     "end_time": "2025-05-30T14:49:50.242131Z",
     "start_time": "2025-05-30T14:49:50.041722Z"
    }
   },
   "cell_type": "code",
   "source": "df_clean.filter(pl.col(\"Attack_label\") == 0)[\"Des_IP.num\"].describe()",
   "id": "91f3ef745227b29",
   "outputs": [
    {
     "data": {
      "text/plain": [
       "shape: (9, 2)\n",
       "┌────────────┬──────────────┐\n",
       "│ statistic  ┆ value        │\n",
       "│ ---        ┆ ---          │\n",
       "│ str        ┆ f64          │\n",
       "╞════════════╪══════════════╡\n",
       "│ count      ┆ 336216.0     │\n",
       "│ null_count ┆ 383.0        │\n",
       "│ mean       ┆ 2.8569e9     │\n",
       "│ std        ┆ 4.5981e8     │\n",
       "│ min        ┆ 1.34744072e8 │\n",
       "│ 25%        ┆ 2.2133e9     │\n",
       "│ 50%        ┆ 2.8873e9     │\n",
       "│ 75%        ┆ 3.2322e9     │\n",
       "│ max        ┆ 4.2950e9     │\n",
       "└────────────┴──────────────┘"
      ],
      "text/html": [
       "<div><style>\n",
       ".dataframe > thead > tr,\n",
       ".dataframe > tbody > tr {\n",
       "  text-align: right;\n",
       "  white-space: pre-wrap;\n",
       "}\n",
       "</style>\n",
       "<small>shape: (9, 2)</small><table border=\"1\" class=\"dataframe\"><thead><tr><th>statistic</th><th>value</th></tr><tr><td>str</td><td>f64</td></tr></thead><tbody><tr><td>&quot;count&quot;</td><td>336216.0</td></tr><tr><td>&quot;null_count&quot;</td><td>383.0</td></tr><tr><td>&quot;mean&quot;</td><td>2.8569e9</td></tr><tr><td>&quot;std&quot;</td><td>4.5981e8</td></tr><tr><td>&quot;min&quot;</td><td>1.34744072e8</td></tr><tr><td>&quot;25%&quot;</td><td>2.2133e9</td></tr><tr><td>&quot;50%&quot;</td><td>2.8873e9</td></tr><tr><td>&quot;75%&quot;</td><td>3.2322e9</td></tr><tr><td>&quot;max&quot;</td><td>4.2950e9</td></tr></tbody></table></div>"
      ]
     },
     "execution_count": 36,
     "metadata": {},
     "output_type": "execute_result"
    }
   ],
   "execution_count": 36
  },
  {
   "metadata": {
    "ExecuteTime": {
     "end_time": "2025-05-30T14:49:50.511220Z",
     "start_time": "2025-05-30T14:49:50.342026Z"
    }
   },
   "cell_type": "code",
   "source": "df_clean.filter(pl.col(\"Attack_label\") == 1)[\"Des_IP.num\"].describe()",
   "id": "1f11ca055ff727f",
   "outputs": [
    {
     "data": {
      "text/plain": [
       "shape: (9, 2)\n",
       "┌────────────┬──────────────┐\n",
       "│ statistic  ┆ value        │\n",
       "│ ---        ┆ ---          │\n",
       "│ str        ┆ f64          │\n",
       "╞════════════╪══════════════╡\n",
       "│ count      ┆ 259418.0     │\n",
       "│ null_count ┆ 0.0          │\n",
       "│ mean       ┆ 3.0449e9     │\n",
       "│ std        ┆ 4.2901e8     │\n",
       "│ min        ┆ 1.67772421e8 │\n",
       "│ 25%        ┆ 2.8873e9     │\n",
       "│ 50%        ┆ 3.2322e9     │\n",
       "│ 75%        ┆ 3.2322e9     │\n",
       "│ max        ┆ 3.2322e9     │\n",
       "└────────────┴──────────────┘"
      ],
      "text/html": [
       "<div><style>\n",
       ".dataframe > thead > tr,\n",
       ".dataframe > tbody > tr {\n",
       "  text-align: right;\n",
       "  white-space: pre-wrap;\n",
       "}\n",
       "</style>\n",
       "<small>shape: (9, 2)</small><table border=\"1\" class=\"dataframe\"><thead><tr><th>statistic</th><th>value</th></tr><tr><td>str</td><td>f64</td></tr></thead><tbody><tr><td>&quot;count&quot;</td><td>259418.0</td></tr><tr><td>&quot;null_count&quot;</td><td>0.0</td></tr><tr><td>&quot;mean&quot;</td><td>3.0449e9</td></tr><tr><td>&quot;std&quot;</td><td>4.2901e8</td></tr><tr><td>&quot;min&quot;</td><td>1.67772421e8</td></tr><tr><td>&quot;25%&quot;</td><td>2.8873e9</td></tr><tr><td>&quot;50%&quot;</td><td>3.2322e9</td></tr><tr><td>&quot;75%&quot;</td><td>3.2322e9</td></tr><tr><td>&quot;max&quot;</td><td>3.2322e9</td></tr></tbody></table></div>"
      ]
     },
     "execution_count": 37,
     "metadata": {},
     "output_type": "execute_result"
    }
   ],
   "execution_count": 37
  },
  {
   "metadata": {
    "ExecuteTime": {
     "end_time": "2025-05-30T14:49:55.467284Z",
     "start_time": "2025-05-30T14:49:50.611584Z"
    }
   },
   "cell_type": "code",
   "source": [
    "df_clean = df_clean.with_columns(\n",
    "    pl.struct([\"Des_IP\", \"Scr_IP\"])\n",
    "    .map_elements(lambda x: get_shared_subnet_mask(x[\"Des_IP\"], x[\"Scr_IP\"]), return_dtype=pl.Utf8)\n",
    "    .alias(\"ip.subnet\")\n",
    ")"
   ],
   "id": "a35232ef02cd0c23",
   "outputs": [],
   "execution_count": 38
  },
  {
   "metadata": {
    "ExecuteTime": {
     "end_time": "2025-05-30T14:49:56.145209Z",
     "start_time": "2025-05-30T14:49:55.534968Z"
    }
   },
   "cell_type": "code",
   "source": [
    "plot_target_relationship(df_clean, \"ip.subnet\", log_scale=True)"
   ],
   "id": "a49185c5d6505935",
   "outputs": [
    {
     "data": {
      "text/plain": [
       "<Figure size 1000x600 with 1 Axes>"
      ],
      "image/png": "[encoded data removed]"
     },
     "metadata": {},
     "output_type": "display_data"
    }
   ],
   "execution_count": 39
  },
  {
   "metadata": {
    "ExecuteTime": {
     "end_time": "2025-05-30T14:49:56.208312Z",
     "start_time": "2025-05-30T14:49:56.200259Z"
    }
   },
   "cell_type": "code",
   "source": "drop_string_columns(\"Scr_IP\", \"Des_IP\")",
   "id": "784cffd377ca45a4",
   "outputs": [
    {
     "name": "stdout",
     "output_type": "stream",
     "text": [
      "ALL columns left: 20\n",
      "STRING columns left: 6\n"
     ]
    },
    {
     "data": {
      "text/plain": [
       "shape: (5, 9)\n",
       "┌──────────┬────────────┬─────────┬────────────┬───┬────────────┬────────────┬────────┬────────────┐\n",
       "│ Feature  ┆ Observatio ┆ Missing ┆ Missing    ┆ … ┆ 1st to 2nd ┆ Variable   ┆ Unique ┆ Feature    │\n",
       "│ ---      ┆ ns         ┆ ---     ┆ rate (%)   ┆   ┆ value      ┆ type       ┆ values ┆ type       │\n",
       "│ str      ┆ ---        ┆ i64     ┆ ---        ┆   ┆ density    ┆ ---        ┆ ---    ┆ ---        │\n",
       "│          ┆ i64        ┆         ┆ f64        ┆   ┆ diffe…     ┆ str        ┆ i64    ┆ str        │\n",
       "│          ┆            ┆         ┆            ┆   ┆ ---        ┆            ┆        ┆            │\n",
       "│          ┆            ┆         ┆            ┆   ┆ f64        ┆            ┆        ┆            │\n",
       "╞══════════╪════════════╪═════════╪════════════╪═══╪════════════╪════════════╪════════╪════════════╡\n",
       "│ Date     ┆ 820503     ┆ 331     ┆ 0.04       ┆ … ┆ 6.454      ┆ String     ┆ 50     ┆ Categorica │\n",
       "│          ┆            ┆         ┆            ┆   ┆            ┆            ┆        ┆ l - High   │\n",
       "│          ┆            ┆         ┆            ┆   ┆            ┆            ┆        ┆ Cardinalit │\n",
       "│          ┆            ┆         ┆            ┆   ┆            ┆            ┆        ┆ y          │\n",
       "│ class1   ┆ 820834     ┆ 0       ┆ 0.0        ┆ … ┆ 34.131     ┆ String     ┆ 19     ┆ Categorica │\n",
       "│          ┆            ┆         ┆            ┆   ┆            ┆            ┆        ┆ l - High   │\n",
       "│          ┆            ┆         ┆            ┆   ┆            ┆            ┆        ┆ Cardinalit │\n",
       "│          ┆            ┆         ┆            ┆   ┆            ┆            ┆        ┆ y          │\n",
       "│ Service  ┆ 820834     ┆ 0       ┆ 0.0        ┆ … ┆ 1.83       ┆ String     ┆ 17     ┆ Categorica │\n",
       "│          ┆            ┆         ┆            ┆   ┆            ┆            ┆        ┆ l - High   │\n",
       "│          ┆            ┆         ┆            ┆   ┆            ┆            ┆        ┆ Cardinalit │\n",
       "│          ┆            ┆         ┆            ┆   ┆            ┆            ┆        ┆ y          │\n",
       "│ class2   ┆ 820834     ┆ 0       ┆ 0.0        ┆ … ┆ 34.131     ┆ String     ┆ 10     ┆ Categorica │\n",
       "│          ┆            ┆         ┆            ┆   ┆            ┆            ┆        ┆ l          │\n",
       "│ Protocol ┆ 820834     ┆ 0       ┆ 0.0        ┆ … ┆ 3.255      ┆ String     ┆ 4      ┆ Categorica │\n",
       "│          ┆            ┆         ┆            ┆   ┆            ┆            ┆        ┆ l          │\n",
       "└──────────┴────────────┴─────────┴────────────┴───┴────────────┴────────────┴────────┴────────────┘"
      ],
      "text/html": [
       "<div><style>\n",
       ".dataframe > thead > tr,\n",
       ".dataframe > tbody > tr {\n",
       "  text-align: right;\n",
       "  white-space: pre-wrap;\n",
       "}\n",
       "</style>\n",
       "<small>shape: (5, 9)</small><table border=\"1\" class=\"dataframe\"><thead><tr><th>Feature</th><th>Observations</th><th>Missing</th><th>Missing rate (%)</th><th>1st value density (%)</th><th>1st to 2nd value density difference (%)</th><th>Variable type</th><th>Unique values</th><th>Feature type</th></tr><tr><td>str</td><td>i64</td><td>i64</td><td>f64</td><td>f64</td><td>f64</td><td>str</td><td>i64</td><td>str</td></tr></thead><tbody><tr><td>&quot;Date&quot;</td><td>820503</td><td>331</td><td>0.04</td><td>17.984</td><td>6.454</td><td>&quot;String&quot;</td><td>50</td><td>&quot;Categorical - High Cardinality&quot;</td></tr><tr><td>&quot;class1&quot;</td><td>820834</td><td>0</td><td>0.0</td><td>51.34</td><td>34.131</td><td>&quot;String&quot;</td><td>19</td><td>&quot;Categorical - High Cardinality&quot;</td></tr><tr><td>&quot;Service&quot;</td><td>820834</td><td>0</td><td>0.0</td><td>28.963</td><td>1.83</td><td>&quot;String&quot;</td><td>17</td><td>&quot;Categorical - High Cardinality&quot;</td></tr><tr><td>&quot;class2&quot;</td><td>820834</td><td>0</td><td>0.0</td><td>51.34</td><td>34.131</td><td>&quot;String&quot;</td><td>10</td><td>&quot;Categorical&quot;</td></tr><tr><td>&quot;Protocol&quot;</td><td>820834</td><td>0</td><td>0.0</td><td>51.452</td><td>3.255</td><td>&quot;String&quot;</td><td>4</td><td>&quot;Categorical&quot;</td></tr></tbody></table></div>"
      ]
     },
     "metadata": {},
     "output_type": "display_data"
    }
   ],
   "execution_count": 40
  },
  {
   "metadata": {
    "ExecuteTime": {
     "end_time": "2025-05-30T14:49:56.316255Z",
     "start_time": "2025-05-30T14:49:56.309730Z"
    }
   },
   "cell_type": "code",
   "source": "columns_df",
   "id": "e5387e62a9635c3",
   "outputs": [
    {
     "data": {
      "text/plain": [
       "shape: (20, 9)\n",
       "┌────────────┬────────────┬─────────┬────────────┬───┬────────────┬───────────┬────────┬───────────┐\n",
       "│ Feature    ┆ Observatio ┆ Missing ┆ Missing    ┆ … ┆ 1st to 2nd ┆ Variable  ┆ Unique ┆ Feature   │\n",
       "│ ---        ┆ ns         ┆ ---     ┆ rate (%)   ┆   ┆ value      ┆ type      ┆ values ┆ type      │\n",
       "│ str        ┆ ---        ┆ i64     ┆ ---        ┆   ┆ density    ┆ ---       ┆ ---    ┆ ---       │\n",
       "│            ┆ i64        ┆         ┆ f64        ┆   ┆ diffe…     ┆ str       ┆ i64    ┆ str       │\n",
       "│            ┆            ┆         ┆            ┆   ┆ ---        ┆           ┆        ┆           │\n",
       "│            ┆            ┆         ┆            ┆   ┆ f64        ┆           ┆        ┆           │\n",
       "╞════════════╪════════════╪═════════╪════════════╪═══╪════════════╪═══════════╪════════╪═══════════╡\n",
       "│ Date       ┆ 820503     ┆ 331     ┆ 0.04       ┆ … ┆ 6.454      ┆ String    ┆ 50     ┆ Categoric │\n",
       "│            ┆            ┆         ┆            ┆   ┆            ┆           ┆        ┆ al - High │\n",
       "│            ┆            ┆         ┆            ┆   ┆            ┆           ┆        ┆ Cardinali │\n",
       "│            ┆            ┆         ┆            ┆   ┆            ┆           ┆        ┆ ty        │\n",
       "│ class1     ┆ 820834     ┆ 0       ┆ 0.0        ┆ … ┆ 34.131     ┆ String    ┆ 19     ┆ Categoric │\n",
       "│            ┆            ┆         ┆            ┆   ┆            ┆           ┆        ┆ al - High │\n",
       "│            ┆            ┆         ┆            ┆   ┆            ┆           ┆        ┆ Cardinali │\n",
       "│            ┆            ┆         ┆            ┆   ┆            ┆           ┆        ┆ ty        │\n",
       "│ Service    ┆ 820834     ┆ 0       ┆ 0.0        ┆ … ┆ 1.83       ┆ String    ┆ 17     ┆ Categoric │\n",
       "│            ┆            ┆         ┆            ┆   ┆            ┆           ┆        ┆ al - High │\n",
       "│            ┆            ┆         ┆            ┆   ┆            ┆           ┆        ┆ Cardinali │\n",
       "│            ┆            ┆         ┆            ┆   ┆            ┆           ┆        ┆ ty        │\n",
       "│ class2     ┆ 820834     ┆ 0       ┆ 0.0        ┆ … ┆ 34.131     ┆ String    ┆ 10     ┆ Categoric │\n",
       "│            ┆            ┆         ┆            ┆   ┆            ┆           ┆        ┆ al        │\n",
       "│ OSSEC_aler ┆ 820834     ┆ 0       ┆ 0.0        ┆ … ┆ 90.205     ┆ Int64     ┆ 6      ┆ Categoric │\n",
       "│ t_level    ┆            ┆         ┆            ┆   ┆            ┆           ┆        ┆ al        │\n",
       "│ …          ┆ …          ┆ …       ┆ …          ┆ … ┆ …          ┆ …         ┆ …      ┆ …         │\n",
       "│ Process_ac ┆ 820834     ┆ 0       ┆ 0.0        ┆ … ┆ 83.476     ┆ Int64     ┆ 2      ┆ Flag      │\n",
       "│ tivity     ┆            ┆         ┆            ┆   ┆            ┆           ┆        ┆           │\n",
       "│ read_write ┆ 820834     ┆ 0       ┆ 0.0        ┆ … ┆ 28.938     ┆ Int64     ┆ 2      ┆ Flag      │\n",
       "│ _physical. ┆            ┆         ┆            ┆   ┆            ┆           ┆        ┆           │\n",
       "│ process    ┆            ┆         ┆            ┆   ┆            ┆           ┆        ┆           │\n",
       "│ is_privile ┆ 820834     ┆ 0       ┆ 0.0        ┆ … ┆ 83.508     ┆ Int64     ┆ 2      ┆ Flag      │\n",
       "│ ged        ┆            ┆         ┆            ┆   ┆            ┆           ┆        ┆           │\n",
       "│ FIN or RST ┆ 820834     ┆ 0       ┆ 0.0        ┆ … ┆ 1.234      ┆ Boolean   ┆ 2      ┆ Flag      │\n",
       "│ class3     ┆ 820834     ┆ 0       ┆ 0.0        ┆ … ┆ 2.68       ┆ String    ┆ 2      ┆ Flag      │\n",
       "└────────────┴────────────┴─────────┴────────────┴───┴────────────┴───────────┴────────┴───────────┘"
      ],
      "text/html": [
       "<div><style>\n",
       ".dataframe > thead > tr,\n",
       ".dataframe > tbody > tr {\n",
       "  text-align: right;\n",
       "  white-space: pre-wrap;\n",
       "}\n",
       "</style>\n",
       "<small>shape: (20, 9)</small><table border=\"1\" class=\"dataframe\"><thead><tr><th>Feature</th><th>Observations</th><th>Missing</th><th>Missing rate (%)</th><th>1st value density (%)</th><th>1st to 2nd value density difference (%)</th><th>Variable type</th><th>Unique values</th><th>Feature type</th></tr><tr><td>str</td><td>i64</td><td>i64</td><td>f64</td><td>f64</td><td>f64</td><td>str</td><td>i64</td><td>str</td></tr></thead><tbody><tr><td>&quot;Date&quot;</td><td>820503</td><td>331</td><td>0.04</td><td>17.984</td><td>6.454</td><td>&quot;String&quot;</td><td>50</td><td>&quot;Categorical - High Cardinality&quot;</td></tr><tr><td>&quot;class1&quot;</td><td>820834</td><td>0</td><td>0.0</td><td>51.34</td><td>34.131</td><td>&quot;String&quot;</td><td>19</td><td>&quot;Categorical - High Cardinality&quot;</td></tr><tr><td>&quot;Service&quot;</td><td>820834</td><td>0</td><td>0.0</td><td>28.963</td><td>1.83</td><td>&quot;String&quot;</td><td>17</td><td>&quot;Categorical - High Cardinality&quot;</td></tr><tr><td>&quot;class2&quot;</td><td>820834</td><td>0</td><td>0.0</td><td>51.34</td><td>34.131</td><td>&quot;String&quot;</td><td>10</td><td>&quot;Categorical&quot;</td></tr><tr><td>&quot;OSSEC_alert_level&quot;</td><td>820834</td><td>0</td><td>0.0</td><td>94.881</td><td>90.205</td><td>&quot;Int64&quot;</td><td>6</td><td>&quot;Categorical&quot;</td></tr><tr><td>&hellip;</td><td>&hellip;</td><td>&hellip;</td><td>&hellip;</td><td>&hellip;</td><td>&hellip;</td><td>&hellip;</td><td>&hellip;</td><td>&hellip;</td></tr><tr><td>&quot;Process_activity&quot;</td><td>820834</td><td>0</td><td>0.0</td><td>91.738</td><td>83.476</td><td>&quot;Int64&quot;</td><td>2</td><td>&quot;Flag&quot;</td></tr><tr><td>&quot;read_write_physical.process&quot;</td><td>820834</td><td>0</td><td>0.0</td><td>64.469</td><td>28.938</td><td>&quot;Int64&quot;</td><td>2</td><td>&quot;Flag&quot;</td></tr><tr><td>&quot;is_privileged&quot;</td><td>820834</td><td>0</td><td>0.0</td><td>91.754</td><td>83.508</td><td>&quot;Int64&quot;</td><td>2</td><td>&quot;Flag&quot;</td></tr><tr><td>&quot;FIN or RST&quot;</td><td>820834</td><td>0</td><td>0.0</td><td>50.617</td><td>1.234</td><td>&quot;Boolean&quot;</td><td>2</td><td>&quot;Flag&quot;</td></tr><tr><td>&quot;class3&quot;</td><td>820834</td><td>0</td><td>0.0</td><td>51.34</td><td>2.68</td><td>&quot;String&quot;</td><td>2</td><td>&quot;Flag&quot;</td></tr></tbody></table></div>"
      ]
     },
     "execution_count": 41,
     "metadata": {},
     "output_type": "execute_result"
    }
   ],
   "execution_count": 41
  },
  {
   "metadata": {},
   "cell_type": "markdown",
   "source": "#### `Date`",
   "id": "d215d3ddf6e7ce82"
  },
  {
   "metadata": {
    "ExecuteTime": {
     "end_time": "2025-05-30T14:49:56.449849Z",
     "start_time": "2025-05-30T14:49:56.445322Z"
    }
   },
   "cell_type": "code",
   "source": "df_clean[\"Date\"].head(n=5)",
   "id": "ff549a2b4d3ced4",
   "outputs": [
    {
     "data": {
      "text/plain": [
       "shape: (5,)\n",
       "Series: 'Date' [str]\n",
       "[\n",
       "\t\"9/01/2020\"\n",
       "\t\"13/01/2020\"\n",
       "\t\"9/01/2020\"\n",
       "\t\"27/02/2020\"\n",
       "\t\"31/01/2020\"\n",
       "]"
      ],
      "text/html": [
       "<div><style>\n",
       ".dataframe > thead > tr,\n",
       ".dataframe > tbody > tr {\n",
       "  text-align: right;\n",
       "  white-space: pre-wrap;\n",
       "}\n",
       "</style>\n",
       "<small>shape: (5,)</small><table border=\"1\" class=\"dataframe\"><thead><tr><th>Date</th></tr><tr><td>str</td></tr></thead><tbody><tr><td>&quot;9/01/2020&quot;</td></tr><tr><td>&quot;13/01/2020&quot;</td></tr><tr><td>&quot;9/01/2020&quot;</td></tr><tr><td>&quot;27/02/2020&quot;</td></tr><tr><td>&quot;31/01/2020&quot;</td></tr></tbody></table></div>"
      ]
     },
     "execution_count": 42,
     "metadata": {},
     "output_type": "execute_result"
    }
   ],
   "execution_count": 42
  },
  {
   "metadata": {
    "ExecuteTime": {
     "end_time": "2025-05-30T14:49:56.886371Z",
     "start_time": "2025-05-30T14:49:56.622595Z"
    }
   },
   "cell_type": "code",
   "source": [
    "df_clean = df_clean.with_columns(\n",
    "    pl.col(\"Date\").str.strip_chars().str.strptime(pl.Date).alias(\"Date.num\")\n",
    ")\n",
    "drop_string_columns(\"Date\")"
   ],
   "id": "6e640cf304e72196",
   "outputs": [
    {
     "name": "stdout",
     "output_type": "stream",
     "text": [
      "ALL columns left: 19\n",
      "STRING columns left: 5\n"
     ]
    },
    {
     "data": {
      "text/plain": [
       "shape: (5, 9)\n",
       "┌──────────┬────────────┬─────────┬────────────┬───┬────────────┬────────────┬────────┬────────────┐\n",
       "│ Feature  ┆ Observatio ┆ Missing ┆ Missing    ┆ … ┆ 1st to 2nd ┆ Variable   ┆ Unique ┆ Feature    │\n",
       "│ ---      ┆ ns         ┆ ---     ┆ rate (%)   ┆   ┆ value      ┆ type       ┆ values ┆ type       │\n",
       "│ str      ┆ ---        ┆ i64     ┆ ---        ┆   ┆ density    ┆ ---        ┆ ---    ┆ ---        │\n",
       "│          ┆ i64        ┆         ┆ f64        ┆   ┆ diffe…     ┆ str        ┆ i64    ┆ str        │\n",
       "│          ┆            ┆         ┆            ┆   ┆ ---        ┆            ┆        ┆            │\n",
       "│          ┆            ┆         ┆            ┆   ┆ f64        ┆            ┆        ┆            │\n",
       "╞══════════╪════════════╪═════════╪════════════╪═══╪════════════╪════════════╪════════╪════════════╡\n",
       "│ class1   ┆ 820834     ┆ 0       ┆ 0.0        ┆ … ┆ 34.131     ┆ String     ┆ 19     ┆ Categorica │\n",
       "│          ┆            ┆         ┆            ┆   ┆            ┆            ┆        ┆ l - High   │\n",
       "│          ┆            ┆         ┆            ┆   ┆            ┆            ┆        ┆ Cardinalit │\n",
       "│          ┆            ┆         ┆            ┆   ┆            ┆            ┆        ┆ y          │\n",
       "│ Service  ┆ 820834     ┆ 0       ┆ 0.0        ┆ … ┆ 1.83       ┆ String     ┆ 17     ┆ Categorica │\n",
       "│          ┆            ┆         ┆            ┆   ┆            ┆            ┆        ┆ l - High   │\n",
       "│          ┆            ┆         ┆            ┆   ┆            ┆            ┆        ┆ Cardinalit │\n",
       "│          ┆            ┆         ┆            ┆   ┆            ┆            ┆        ┆ y          │\n",
       "│ class2   ┆ 820834     ┆ 0       ┆ 0.0        ┆ … ┆ 34.131     ┆ String     ┆ 10     ┆ Categorica │\n",
       "│          ┆            ┆         ┆            ┆   ┆            ┆            ┆        ┆ l          │\n",
       "│ Protocol ┆ 820834     ┆ 0       ┆ 0.0        ┆ … ┆ 3.255      ┆ String     ┆ 4      ┆ Categorica │\n",
       "│          ┆            ┆         ┆            ┆   ┆            ┆            ┆        ┆ l          │\n",
       "│ class3   ┆ 820834     ┆ 0       ┆ 0.0        ┆ … ┆ 2.68       ┆ String     ┆ 2      ┆ Flag       │\n",
       "└──────────┴────────────┴─────────┴────────────┴───┴────────────┴────────────┴────────┴────────────┘"
      ],
      "text/html": [
       "<div><style>\n",
       ".dataframe > thead > tr,\n",
       ".dataframe > tbody > tr {\n",
       "  text-align: right;\n",
       "  white-space: pre-wrap;\n",
       "}\n",
       "</style>\n",
       "<small>shape: (5, 9)</small><table border=\"1\" class=\"dataframe\"><thead><tr><th>Feature</th><th>Observations</th><th>Missing</th><th>Missing rate (%)</th><th>1st value density (%)</th><th>1st to 2nd value density difference (%)</th><th>Variable type</th><th>Unique values</th><th>Feature type</th></tr><tr><td>str</td><td>i64</td><td>i64</td><td>f64</td><td>f64</td><td>f64</td><td>str</td><td>i64</td><td>str</td></tr></thead><tbody><tr><td>&quot;class1&quot;</td><td>820834</td><td>0</td><td>0.0</td><td>51.34</td><td>34.131</td><td>&quot;String&quot;</td><td>19</td><td>&quot;Categorical - High Cardinality&quot;</td></tr><tr><td>&quot;Service&quot;</td><td>820834</td><td>0</td><td>0.0</td><td>28.963</td><td>1.83</td><td>&quot;String&quot;</td><td>17</td><td>&quot;Categorical - High Cardinality&quot;</td></tr><tr><td>&quot;class2&quot;</td><td>820834</td><td>0</td><td>0.0</td><td>51.34</td><td>34.131</td><td>&quot;String&quot;</td><td>10</td><td>&quot;Categorical&quot;</td></tr><tr><td>&quot;Protocol&quot;</td><td>820834</td><td>0</td><td>0.0</td><td>51.452</td><td>3.255</td><td>&quot;String&quot;</td><td>4</td><td>&quot;Categorical&quot;</td></tr><tr><td>&quot;class3&quot;</td><td>820834</td><td>0</td><td>0.0</td><td>51.34</td><td>2.68</td><td>&quot;String&quot;</td><td>2</td><td>&quot;Flag&quot;</td></tr></tbody></table></div>"
      ]
     },
     "metadata": {},
     "output_type": "display_data"
    }
   ],
   "execution_count": 43
  },
  {
   "metadata": {},
   "cell_type": "markdown",
   "source": "#### `Service`: KEEP",
   "id": "b16d7cd8925c96ae"
  },
  {
   "metadata": {
    "ExecuteTime": {
     "end_time": "2025-05-30T14:49:57.993775Z",
     "start_time": "2025-05-30T14:49:56.956228Z"
    }
   },
   "cell_type": "code",
   "source": [
    "plot_target_relationship(df_clean, \"Service\", log_scale=True)"
   ],
   "id": "41c908757b07baa1",
   "outputs": [
    {
     "data": {
      "text/plain": [
       "<Figure size 1000x600 with 1 Axes>"
      ],
      "image/png": "[encoded data removed]"
     },
     "metadata": {},
     "output_type": "display_data"
    }
   ],
   "execution_count": 44
  },
  {
   "metadata": {
    "ExecuteTime": {
     "end_time": "2025-05-30T14:49:58.083776Z",
     "start_time": "2025-05-30T14:49:58.073778Z"
    }
   },
   "cell_type": "code",
   "source": "drop_string_columns(\"Service\")",
   "id": "4eac0d98fc7e7b32",
   "outputs": [
    {
     "name": "stdout",
     "output_type": "stream",
     "text": [
      "ALL columns left: 18\n",
      "STRING columns left: 4\n"
     ]
    },
    {
     "data": {
      "text/plain": [
       "shape: (4, 9)\n",
       "┌──────────┬────────────┬─────────┬────────────┬───┬────────────┬────────────┬────────┬────────────┐\n",
       "│ Feature  ┆ Observatio ┆ Missing ┆ Missing    ┆ … ┆ 1st to 2nd ┆ Variable   ┆ Unique ┆ Feature    │\n",
       "│ ---      ┆ ns         ┆ ---     ┆ rate (%)   ┆   ┆ value      ┆ type       ┆ values ┆ type       │\n",
       "│ str      ┆ ---        ┆ i64     ┆ ---        ┆   ┆ density    ┆ ---        ┆ ---    ┆ ---        │\n",
       "│          ┆ i64        ┆         ┆ f64        ┆   ┆ diffe…     ┆ str        ┆ i64    ┆ str        │\n",
       "│          ┆            ┆         ┆            ┆   ┆ ---        ┆            ┆        ┆            │\n",
       "│          ┆            ┆         ┆            ┆   ┆ f64        ┆            ┆        ┆            │\n",
       "╞══════════╪════════════╪═════════╪════════════╪═══╪════════════╪════════════╪════════╪════════════╡\n",
       "│ class1   ┆ 820834     ┆ 0       ┆ 0.0        ┆ … ┆ 34.131     ┆ String     ┆ 19     ┆ Categorica │\n",
       "│          ┆            ┆         ┆            ┆   ┆            ┆            ┆        ┆ l - High   │\n",
       "│          ┆            ┆         ┆            ┆   ┆            ┆            ┆        ┆ Cardinalit │\n",
       "│          ┆            ┆         ┆            ┆   ┆            ┆            ┆        ┆ y          │\n",
       "│ class2   ┆ 820834     ┆ 0       ┆ 0.0        ┆ … ┆ 34.131     ┆ String     ┆ 10     ┆ Categorica │\n",
       "│          ┆            ┆         ┆            ┆   ┆            ┆            ┆        ┆ l          │\n",
       "│ Protocol ┆ 820834     ┆ 0       ┆ 0.0        ┆ … ┆ 3.255      ┆ String     ┆ 4      ┆ Categorica │\n",
       "│          ┆            ┆         ┆            ┆   ┆            ┆            ┆        ┆ l          │\n",
       "│ class3   ┆ 820834     ┆ 0       ┆ 0.0        ┆ … ┆ 2.68       ┆ String     ┆ 2      ┆ Flag       │\n",
       "└──────────┴────────────┴─────────┴────────────┴───┴────────────┴────────────┴────────┴────────────┘"
      ],
      "text/html": [
       "<div><style>\n",
       ".dataframe > thead > tr,\n",
       ".dataframe > tbody > tr {\n",
       "  text-align: right;\n",
       "  white-space: pre-wrap;\n",
       "}\n",
       "</style>\n",
       "<small>shape: (4, 9)</small><table border=\"1\" class=\"dataframe\"><thead><tr><th>Feature</th><th>Observations</th><th>Missing</th><th>Missing rate (%)</th><th>1st value density (%)</th><th>1st to 2nd value density difference (%)</th><th>Variable type</th><th>Unique values</th><th>Feature type</th></tr><tr><td>str</td><td>i64</td><td>i64</td><td>f64</td><td>f64</td><td>f64</td><td>str</td><td>i64</td><td>str</td></tr></thead><tbody><tr><td>&quot;class1&quot;</td><td>820834</td><td>0</td><td>0.0</td><td>51.34</td><td>34.131</td><td>&quot;String&quot;</td><td>19</td><td>&quot;Categorical - High Cardinality&quot;</td></tr><tr><td>&quot;class2&quot;</td><td>820834</td><td>0</td><td>0.0</td><td>51.34</td><td>34.131</td><td>&quot;String&quot;</td><td>10</td><td>&quot;Categorical&quot;</td></tr><tr><td>&quot;Protocol&quot;</td><td>820834</td><td>0</td><td>0.0</td><td>51.452</td><td>3.255</td><td>&quot;String&quot;</td><td>4</td><td>&quot;Categorical&quot;</td></tr><tr><td>&quot;class3&quot;</td><td>820834</td><td>0</td><td>0.0</td><td>51.34</td><td>2.68</td><td>&quot;String&quot;</td><td>2</td><td>&quot;Flag&quot;</td></tr></tbody></table></div>"
      ]
     },
     "metadata": {},
     "output_type": "display_data"
    }
   ],
   "execution_count": 45
  },
  {
   "metadata": {},
   "cell_type": "markdown",
   "source": "#### `Protocol`: KEEP",
   "id": "6e4047a3e5b7e6b"
  },
  {
   "metadata": {
    "ExecuteTime": {
     "end_time": "2025-05-30T14:49:58.494545Z",
     "start_time": "2025-05-30T14:49:58.161756Z"
    }
   },
   "cell_type": "code",
   "source": [
    "plot_target_relationship(df_clean, \"Protocol\", log_scale=True)"
   ],
   "id": "726c11e4afe3d15f",
   "outputs": [
    {
     "data": {
      "text/plain": [
       "<Figure size 1000x600 with 1 Axes>"
      ],
      "image/png": "[encoded data removed]"
     },
     "metadata": {},
     "output_type": "display_data"
    }
   ],
   "execution_count": 46
  },
  {
   "metadata": {
    "ExecuteTime": {
     "end_time": "2025-05-30T14:49:58.519386Z",
     "start_time": "2025-05-30T14:49:58.512833Z"
    }
   },
   "cell_type": "code",
   "source": "drop_string_columns(\"Protocol\")",
   "id": "c42b8b70a87d08e7",
   "outputs": [
    {
     "name": "stdout",
     "output_type": "stream",
     "text": [
      "ALL columns left: 17\n",
      "STRING columns left: 3\n"
     ]
    },
    {
     "data": {
      "text/plain": [
       "shape: (3, 9)\n",
       "┌─────────┬─────────────┬─────────┬────────────┬───┬────────────┬────────────┬────────┬────────────┐\n",
       "│ Feature ┆ Observation ┆ Missing ┆ Missing    ┆ … ┆ 1st to 2nd ┆ Variable   ┆ Unique ┆ Feature    │\n",
       "│ ---     ┆ s           ┆ ---     ┆ rate (%)   ┆   ┆ value      ┆ type       ┆ values ┆ type       │\n",
       "│ str     ┆ ---         ┆ i64     ┆ ---        ┆   ┆ density    ┆ ---        ┆ ---    ┆ ---        │\n",
       "│         ┆ i64         ┆         ┆ f64        ┆   ┆ diffe…     ┆ str        ┆ i64    ┆ str        │\n",
       "│         ┆             ┆         ┆            ┆   ┆ ---        ┆            ┆        ┆            │\n",
       "│         ┆             ┆         ┆            ┆   ┆ f64        ┆            ┆        ┆            │\n",
       "╞═════════╪═════════════╪═════════╪════════════╪═══╪════════════╪════════════╪════════╪════════════╡\n",
       "│ class1  ┆ 820834      ┆ 0       ┆ 0.0        ┆ … ┆ 34.131     ┆ String     ┆ 19     ┆ Categorica │\n",
       "│         ┆             ┆         ┆            ┆   ┆            ┆            ┆        ┆ l - High   │\n",
       "│         ┆             ┆         ┆            ┆   ┆            ┆            ┆        ┆ Cardinalit │\n",
       "│         ┆             ┆         ┆            ┆   ┆            ┆            ┆        ┆ y          │\n",
       "│ class2  ┆ 820834      ┆ 0       ┆ 0.0        ┆ … ┆ 34.131     ┆ String     ┆ 10     ┆ Categorica │\n",
       "│         ┆             ┆         ┆            ┆   ┆            ┆            ┆        ┆ l          │\n",
       "│ class3  ┆ 820834      ┆ 0       ┆ 0.0        ┆ … ┆ 2.68       ┆ String     ┆ 2      ┆ Flag       │\n",
       "└─────────┴─────────────┴─────────┴────────────┴───┴────────────┴────────────┴────────┴────────────┘"
      ],
      "text/html": [
       "<div><style>\n",
       ".dataframe > thead > tr,\n",
       ".dataframe > tbody > tr {\n",
       "  text-align: right;\n",
       "  white-space: pre-wrap;\n",
       "}\n",
       "</style>\n",
       "<small>shape: (3, 9)</small><table border=\"1\" class=\"dataframe\"><thead><tr><th>Feature</th><th>Observations</th><th>Missing</th><th>Missing rate (%)</th><th>1st value density (%)</th><th>1st to 2nd value density difference (%)</th><th>Variable type</th><th>Unique values</th><th>Feature type</th></tr><tr><td>str</td><td>i64</td><td>i64</td><td>f64</td><td>f64</td><td>f64</td><td>str</td><td>i64</td><td>str</td></tr></thead><tbody><tr><td>&quot;class1&quot;</td><td>820834</td><td>0</td><td>0.0</td><td>51.34</td><td>34.131</td><td>&quot;String&quot;</td><td>19</td><td>&quot;Categorical - High Cardinality&quot;</td></tr><tr><td>&quot;class2&quot;</td><td>820834</td><td>0</td><td>0.0</td><td>51.34</td><td>34.131</td><td>&quot;String&quot;</td><td>10</td><td>&quot;Categorical&quot;</td></tr><tr><td>&quot;class3&quot;</td><td>820834</td><td>0</td><td>0.0</td><td>51.34</td><td>2.68</td><td>&quot;String&quot;</td><td>2</td><td>&quot;Flag&quot;</td></tr></tbody></table></div>"
      ]
     },
     "metadata": {},
     "output_type": "display_data"
    }
   ],
   "execution_count": 47
  },
  {
   "metadata": {},
   "cell_type": "markdown",
   "source": "### Handle Categorical Columns",
   "id": "1658106dd532b8f9"
  },
  {
   "metadata": {
    "ExecuteTime": {
     "end_time": "2025-05-30T14:49:58.612018Z",
     "start_time": "2025-05-30T14:49:58.605103Z"
    }
   },
   "cell_type": "code",
   "source": [
    "columns_df = columns_df.filter(~pl.col(\"Feature\").is_in([\"class1\", \"class2\", \"class3\"]))\n",
    "columns_df"
   ],
   "id": "ba520ab68b5e0f02",
   "outputs": [
    {
     "data": {
      "text/plain": [
       "shape: (14, 9)\n",
       "┌────────────┬────────────┬─────────┬────────────┬───┬────────────┬───────────┬────────┬───────────┐\n",
       "│ Feature    ┆ Observatio ┆ Missing ┆ Missing    ┆ … ┆ 1st to 2nd ┆ Variable  ┆ Unique ┆ Feature   │\n",
       "│ ---        ┆ ns         ┆ ---     ┆ rate (%)   ┆   ┆ value      ┆ type      ┆ values ┆ type      │\n",
       "│ str        ┆ ---        ┆ i64     ┆ ---        ┆   ┆ density    ┆ ---       ┆ ---    ┆ ---       │\n",
       "│            ┆ i64        ┆         ┆ f64        ┆   ┆ diffe…     ┆ str       ┆ i64    ┆ str       │\n",
       "│            ┆            ┆         ┆            ┆   ┆ ---        ┆           ┆        ┆           │\n",
       "│            ┆            ┆         ┆            ┆   ┆ f64        ┆           ┆        ┆           │\n",
       "╞════════════╪════════════╪═════════╪════════════╪═══╪════════════╪═══════════╪════════╪═══════════╡\n",
       "│ OSSEC_aler ┆ 820834     ┆ 0       ┆ 0.0        ┆ … ┆ 90.205     ┆ Int64     ┆ 6      ┆ Categoric │\n",
       "│ t_level    ┆            ┆         ┆            ┆   ┆            ┆           ┆        ┆ al        │\n",
       "│ Conn_state ┆ 820834     ┆ 0       ┆ 0.0        ┆ … ┆ 70.324     ┆ Int64     ┆ 2      ┆ Flag      │\n",
       "│ is_with_pa ┆ 820834     ┆ 0       ┆ 0.0        ┆ … ┆ 73.438     ┆ Boolean   ┆ 2      ┆ Flag      │\n",
       "│ yload      ┆            ┆         ┆            ┆   ┆            ┆           ┆        ┆           │\n",
       "│ is_pure_ac ┆ 820834     ┆ 0       ┆ 0.0        ┆ … ┆ 21.23      ┆ Boolean   ┆ 2      ┆ Flag      │\n",
       "│ k          ┆            ┆         ┆            ┆   ┆            ┆           ┆        ┆           │\n",
       "│ Is_SYN_ACK ┆ 820834     ┆ 0       ┆ 0.0        ┆ … ┆ 21.292     ┆ Boolean   ┆ 2      ┆ Flag      │\n",
       "│ …          ┆ …          ┆ …       ┆ …          ┆ … ┆ …          ┆ …         ┆ …      ┆ …         │\n",
       "│ File_activ ┆ 820834     ┆ 0       ┆ 0.0        ┆ … ┆ 85.47      ┆ Int64     ┆ 2      ┆ Flag      │\n",
       "│ ity        ┆            ┆         ┆            ┆   ┆            ┆           ┆        ┆           │\n",
       "│ Process_ac ┆ 820834     ┆ 0       ┆ 0.0        ┆ … ┆ 83.476     ┆ Int64     ┆ 2      ┆ Flag      │\n",
       "│ tivity     ┆            ┆         ┆            ┆   ┆            ┆           ┆        ┆           │\n",
       "│ read_write ┆ 820834     ┆ 0       ┆ 0.0        ┆ … ┆ 28.938     ┆ Int64     ┆ 2      ┆ Flag      │\n",
       "│ _physical. ┆            ┆         ┆            ┆   ┆            ┆           ┆        ┆           │\n",
       "│ process    ┆            ┆         ┆            ┆   ┆            ┆           ┆        ┆           │\n",
       "│ is_privile ┆ 820834     ┆ 0       ┆ 0.0        ┆ … ┆ 83.508     ┆ Int64     ┆ 2      ┆ Flag      │\n",
       "│ ged        ┆            ┆         ┆            ┆   ┆            ┆           ┆        ┆           │\n",
       "│ FIN or RST ┆ 820834     ┆ 0       ┆ 0.0        ┆ … ┆ 1.234      ┆ Boolean   ┆ 2      ┆ Flag      │\n",
       "└────────────┴────────────┴─────────┴────────────┴───┴────────────┴───────────┴────────┴───────────┘"
      ],
      "text/html": [
       "<div><style>\n",
       ".dataframe > thead > tr,\n",
       ".dataframe > tbody > tr {\n",
       "  text-align: right;\n",
       "  white-space: pre-wrap;\n",
       "}\n",
       "</style>\n",
       "<small>shape: (14, 9)</small><table border=\"1\" class=\"dataframe\"><thead><tr><th>Feature</th><th>Observations</th><th>Missing</th><th>Missing rate (%)</th><th>1st value density (%)</th><th>1st to 2nd value density difference (%)</th><th>Variable type</th><th>Unique values</th><th>Feature type</th></tr><tr><td>str</td><td>i64</td><td>i64</td><td>f64</td><td>f64</td><td>f64</td><td>str</td><td>i64</td><td>str</td></tr></thead><tbody><tr><td>&quot;OSSEC_alert_level&quot;</td><td>820834</td><td>0</td><td>0.0</td><td>94.881</td><td>90.205</td><td>&quot;Int64&quot;</td><td>6</td><td>&quot;Categorical&quot;</td></tr><tr><td>&quot;Conn_state&quot;</td><td>820834</td><td>0</td><td>0.0</td><td>85.162</td><td>70.324</td><td>&quot;Int64&quot;</td><td>2</td><td>&quot;Flag&quot;</td></tr><tr><td>&quot;is_with_payload&quot;</td><td>820834</td><td>0</td><td>0.0</td><td>86.719</td><td>73.438</td><td>&quot;Boolean&quot;</td><td>2</td><td>&quot;Flag&quot;</td></tr><tr><td>&quot;is_pure_ack&quot;</td><td>820834</td><td>0</td><td>0.0</td><td>60.615</td><td>21.23</td><td>&quot;Boolean&quot;</td><td>2</td><td>&quot;Flag&quot;</td></tr><tr><td>&quot;Is_SYN_ACK&quot;</td><td>820834</td><td>0</td><td>0.0</td><td>60.646</td><td>21.292</td><td>&quot;Boolean&quot;</td><td>2</td><td>&quot;Flag&quot;</td></tr><tr><td>&hellip;</td><td>&hellip;</td><td>&hellip;</td><td>&hellip;</td><td>&hellip;</td><td>&hellip;</td><td>&hellip;</td><td>&hellip;</td><td>&hellip;</td></tr><tr><td>&quot;File_activity&quot;</td><td>820834</td><td>0</td><td>0.0</td><td>92.735</td><td>85.47</td><td>&quot;Int64&quot;</td><td>2</td><td>&quot;Flag&quot;</td></tr><tr><td>&quot;Process_activity&quot;</td><td>820834</td><td>0</td><td>0.0</td><td>91.738</td><td>83.476</td><td>&quot;Int64&quot;</td><td>2</td><td>&quot;Flag&quot;</td></tr><tr><td>&quot;read_write_physical.process&quot;</td><td>820834</td><td>0</td><td>0.0</td><td>64.469</td><td>28.938</td><td>&quot;Int64&quot;</td><td>2</td><td>&quot;Flag&quot;</td></tr><tr><td>&quot;is_privileged&quot;</td><td>820834</td><td>0</td><td>0.0</td><td>91.754</td><td>83.508</td><td>&quot;Int64&quot;</td><td>2</td><td>&quot;Flag&quot;</td></tr><tr><td>&quot;FIN or RST&quot;</td><td>820834</td><td>0</td><td>0.0</td><td>50.617</td><td>1.234</td><td>&quot;Boolean&quot;</td><td>2</td><td>&quot;Flag&quot;</td></tr></tbody></table></div>"
      ]
     },
     "execution_count": 48,
     "metadata": {},
     "output_type": "execute_result"
    }
   ],
   "execution_count": 48
  },
  {
   "metadata": {
    "ExecuteTime": {
     "end_time": "2025-05-30T14:49:58.757556Z",
     "start_time": "2025-05-30T14:49:58.753602Z"
    }
   },
   "cell_type": "code",
   "source": "columns_df[\"Feature\"].to_list()",
   "id": "8321cd4870a4084e",
   "outputs": [
    {
     "data": {
      "text/plain": [
       "['OSSEC_alert_level',\n",
       " 'Conn_state',\n",
       " 'is_with_payload',\n",
       " 'is_pure_ack',\n",
       " 'Is_SYN_ACK',\n",
       " 'is_syn_only',\n",
       " 'OSSEC_alert',\n",
       " 'Login_attempt',\n",
       " 'Succesful_login',\n",
       " 'File_activity',\n",
       " 'Process_activity',\n",
       " 'read_write_physical.process',\n",
       " 'is_privileged',\n",
       " 'FIN or RST']"
      ]
     },
     "execution_count": 49,
     "metadata": {},
     "output_type": "execute_result"
    }
   ],
   "execution_count": 49
  },
  {
   "metadata": {
    "ExecuteTime": {
     "end_time": "2025-05-30T14:49:58.882894Z",
     "start_time": "2025-05-30T14:49:58.879293Z"
    }
   },
   "cell_type": "code",
   "source": "",
   "id": "ad418e433862eb68",
   "outputs": [],
   "execution_count": null
  }
 ],
 "metadata": {
  "kernelspec": {
   "display_name": "Python 3",
   "language": "python",
   "name": "python3"
  },
  "language_info": {
   "codemirror_mode": {
    "name": "ipython",
    "version": 2
   },
   "file_extension": ".py",
   "mimetype": "text/x-python",
   "name": "python",
   "nbconvert_exporter": "python",
   "pygments_lexer": "ipython2",
   "version": "2.7.6"
  }
 },
 "nbformat": 4,
 "nbformat_minor": 5
}
